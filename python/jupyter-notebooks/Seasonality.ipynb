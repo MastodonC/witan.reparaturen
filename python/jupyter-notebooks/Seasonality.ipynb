{
 "cells": [
  {
   "cell_type": "code",
   "execution_count": 1,
   "metadata": {
    "collapsed": true
   },
   "outputs": [],
   "source": [
    "import numpy as np\n",
    "import pandas as pd\n",
    "\n",
    "from matplotlib import pyplot as plt\n",
    "plt.style.use('ggplot')"
   ]
  },
  {
   "cell_type": "code",
   "execution_count": 2,
   "metadata": {
    "collapsed": true
   },
   "outputs": [],
   "source": [
    "repairs_2014 = pd.read_csv('data/historical-repairs-2014-mini.csv',\n",
    "                           encoding=\"utf-8\", index_col=False, parse_dates=['logged-date'])\n",
    "\n",
    "repairs_2015 = pd.read_csv('data/historical-repairs-2015-mini.csv',\n",
    "                           encoding=\"utf-8\", index_col=False, parse_dates=['logged-date'])"
   ]
  },
  {
   "cell_type": "code",
   "execution_count": 3,
   "metadata": {
    "collapsed": true
   },
   "outputs": [],
   "source": [
    "def count_repairs_by_date_all_repairs_df(df):\n",
    "    tmp_df = df.drop(['property-reference', 'repair-number', 'description-for-code'], axis=1)\n",
    "    tmp_df['number of repairs'] = pd.Series([1] * len(tmp_df))\n",
    "    counts = tmp_df.groupby(['logged-date'], as_index=False).sum()\n",
    "    return counts"
   ]
  },
  {
   "cell_type": "code",
   "execution_count": 4,
   "metadata": {
    "collapsed": false
   },
   "outputs": [],
   "source": [
    "counts_2014_df = count_repairs_by_date_all_repairs_df(repairs_2014)\n",
    "\n",
    "counts_2015_df = count_repairs_by_date_all_repairs_df(repairs_2015)"
   ]
  },
  {
   "cell_type": "code",
   "execution_count": 5,
   "metadata": {
    "collapsed": true
   },
   "outputs": [],
   "source": [
    "year_month = {1: 'January', 2: 'February', 3: 'March', 4: 'April', 5: 'May', 6: 'June',\n",
    "              7: 'July', 8: 'August', 9: 'September', 10: 'October', 11: 'November', 12: 'December'}"
   ]
  },
  {
   "cell_type": "code",
   "execution_count": 6,
   "metadata": {
    "collapsed": false
   },
   "outputs": [],
   "source": [
    "def daily_to_monthly_counts(df):\n",
    "    df['logged-date'] = [pd.to_datetime(d) for d in df['logged-date']]\n",
    "    df['logged month'] = pd.DatetimeIndex(df['logged-date']).to_period('M')\n",
    "    df['logged month'] = [year_month.get(d) for d in df['logged month'].dt.month]\n",
    "    tmp_df = df.drop(['logged-date'], axis=1)\n",
    "    monthly_counts = tmp_df.groupby('logged month', as_index=False).sum()\n",
    "    return monthly_counts"
   ]
  },
  {
   "cell_type": "code",
   "execution_count": 7,
   "metadata": {
    "collapsed": false
   },
   "outputs": [],
   "source": [
    "monthly_counts_2014_df = daily_to_monthly_counts(counts_2014_df)\n",
    "monthly_counts_2014_df = monthly_counts_2014_df.rename(columns={'number of repairs': \n",
    "                                                                'number of repairs in 2014'})\n",
    "\n",
    "monthly_counts_2015_df = daily_to_monthly_counts(counts_2015_df)\n",
    "monthly_counts_2015_df = monthly_counts_2015_df.rename(columns={'number of repairs': \n",
    "                                                                'number of repairs in 2015'})"
   ]
  },
  {
   "cell_type": "code",
   "execution_count": 8,
   "metadata": {
    "collapsed": false
   },
   "outputs": [],
   "source": [
    "joined_df = pd.merge(monthly_counts_2014_df, monthly_counts_2015_df, \n",
    "                     on=['logged month', 'logged month'], how='outer')\n",
    "\n",
    "joined_df = joined_df.fillna(0)"
   ]
  },
  {
   "cell_type": "code",
   "execution_count": 1,
   "metadata": {
    "collapsed": false
   },
   "outputs": [],
   "source": [
    "#joined_df.head()"
   ]
  },
  {
   "cell_type": "code",
   "execution_count": 10,
   "metadata": {
    "collapsed": false
   },
   "outputs": [],
   "source": [
    "monthly_counts = joined_df.reindex(index=[4, 3, 7, 0, 8, 6, 5, 1, 11, 10, 9, 2])"
   ]
  },
  {
   "cell_type": "code",
   "execution_count": 2,
   "metadata": {
    "collapsed": false
   },
   "outputs": [],
   "source": [
    "#monthly_counts"
   ]
  },
  {
   "cell_type": "code",
   "execution_count": 1,
   "metadata": {
    "collapsed": false
   },
   "outputs": [],
   "source": [
    "#monthly_counts.plot(x='logged month', y=['number of repairs in 2014', 'number of repairs in 2015'],\n",
    "                    #figsize=(16, 8), title='Number of repairs per months')"
   ]
  },
  {
   "cell_type": "markdown",
   "metadata": {},
   "source": [
    "### Were all the repair events added to the dataset in 2015?"
   ]
  },
  {
   "cell_type": "code",
   "execution_count": null,
   "metadata": {
    "collapsed": true
   },
   "outputs": [],
   "source": []
  }
 ],
 "metadata": {
  "kernelspec": {
   "display_name": "Python 2",
   "language": "python",
   "name": "python2"
  },
  "language_info": {
   "codemirror_mode": {
    "name": "ipython",
    "version": 2
   },
   "file_extension": ".py",
   "mimetype": "text/x-python",
   "name": "python",
   "nbconvert_exporter": "python",
   "pygments_lexer": "ipython2",
   "version": "2.7.6"
  }
 },
 "nbformat": 4,
 "nbformat_minor": 0
}
