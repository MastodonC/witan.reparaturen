{
 "cells": [
  {
   "cell_type": "code",
   "execution_count": 1,
   "metadata": {
    "collapsed": true
   },
   "outputs": [],
   "source": [
    "import numpy as np\n",
    "import pandas as pd\n",
    "\n",
    "from matplotlib import pyplot as plt\n",
    "plt.style.use('ggplot')\n",
    "\n",
    "from bokeh.charts import Line, output_file, output_notebook, show"
   ]
  },
  {
   "cell_type": "code",
   "execution_count": 2,
   "metadata": {
    "collapsed": true
   },
   "outputs": [],
   "source": [
    "repairs_2014 = pd.read_csv('data/historical-repairs-2014-merge.csv',\n",
    "                           encoding=\"utf-8\", index_col=False, parse_dates=['logged-date'])\n",
    "\n",
    "repairs_2015 = pd.read_csv('data/historical-repairs-2015-merge.csv',\n",
    "                           encoding=\"utf-8\", index_col=False, parse_dates=['logged-date'])\n",
    "\n",
    "repairs_2016 = pd.read_csv('data/historical-repairs-2016-mini.csv',\n",
    "                           encoding=\"utf-8\", index_col=False, parse_dates=['logged-date']) "
   ]
  },
  {
   "cell_type": "code",
   "execution_count": 3,
   "metadata": {
    "collapsed": true
   },
   "outputs": [],
   "source": [
    "def count_repairs_by_date_all_repairs_df(df):\n",
    "    tmp_df = df.drop(['property-reference', 'repair-number', 'description-for-code'], axis=1)\n",
    "    tmp_df['number of repairs'] = pd.Series([1] * len(tmp_df))\n",
    "    counts = tmp_df.groupby(['logged-date'], as_index=False).sum()\n",
    "    return counts"
   ]
  },
  {
   "cell_type": "code",
   "execution_count": 4,
   "metadata": {
    "collapsed": false
   },
   "outputs": [],
   "source": [
    "counts_2014_df = count_repairs_by_date_all_repairs_df(repairs_2014)\n",
    "\n",
    "counts_2015_df = count_repairs_by_date_all_repairs_df(repairs_2015)\n",
    "\n",
    "counts_2016_df = count_repairs_by_date_all_repairs_df(repairs_2016)"
   ]
  },
  {
   "cell_type": "code",
   "execution_count": 5,
   "metadata": {
    "collapsed": false
   },
   "outputs": [],
   "source": [
    "#counts_2015_df.head()"
   ]
  },
  {
   "cell_type": "code",
   "execution_count": 6,
   "metadata": {
    "collapsed": false
   },
   "outputs": [],
   "source": [
    "#counts_2016_df.head()"
   ]
  },
  {
   "cell_type": "code",
   "execution_count": 5,
   "metadata": {
    "collapsed": true
   },
   "outputs": [],
   "source": [
    "join_daily_repairs = pd.concat([counts_2014_df, counts_2015_df, counts_2016_df])"
   ]
  },
  {
   "cell_type": "code",
   "execution_count": 7,
   "metadata": {
    "collapsed": false
   },
   "outputs": [
    {
     "data": {
      "text/html": [
       "\n",
       "    <div class=\"bk-banner\">\n",
       "        <a href=\"http://bokeh.pydata.org\" target=\"_blank\" class=\"bk-logo bk-logo-small bk-logo-notebook\"></a>\n",
       "        <span id=\"7ba56feb-2d7f-4982-915f-7bbd4761aab5\">Loading BokehJS ...</span>\n",
       "    </div>"
      ]
     },
     "metadata": {},
     "output_type": "display_data"
    },
    {
     "data": {
      "application/javascript": [
       "\n",
       "(function(global) {\n",
       "  function now() {\n",
       "    return new Date();\n",
       "  }\n",
       "\n",
       "  if (typeof (window._bokeh_onload_callbacks) === \"undefined\") {\n",
       "    window._bokeh_onload_callbacks = [];\n",
       "  }\n",
       "\n",
       "  function run_callbacks() {\n",
       "    window._bokeh_onload_callbacks.forEach(function(callback) { callback() });\n",
       "    delete window._bokeh_onload_callbacks\n",
       "    console.info(\"Bokeh: all callbacks have finished\");\n",
       "  }\n",
       "\n",
       "  function load_libs(js_urls, callback) {\n",
       "    window._bokeh_onload_callbacks.push(callback);\n",
       "    if (window._bokeh_is_loading > 0) {\n",
       "      console.log(\"Bokeh: BokehJS is being loaded, scheduling callback at\", now());\n",
       "      return null;\n",
       "    }\n",
       "    if (js_urls == null || js_urls.length === 0) {\n",
       "      run_callbacks();\n",
       "      return null;\n",
       "    }\n",
       "    console.log(\"Bokeh: BokehJS not loaded, scheduling load and callback at\", now());\n",
       "    window._bokeh_is_loading = js_urls.length;\n",
       "    for (var i = 0; i < js_urls.length; i++) {\n",
       "      var url = js_urls[i];\n",
       "      var s = document.createElement('script');\n",
       "      s.src = url;\n",
       "      s.async = false;\n",
       "      s.onreadystatechange = s.onload = function() {\n",
       "        window._bokeh_is_loading--;\n",
       "        if (window._bokeh_is_loading === 0) {\n",
       "          console.log(\"Bokeh: all BokehJS libraries loaded\");\n",
       "          run_callbacks()\n",
       "        }\n",
       "      };\n",
       "      s.onerror = function() {\n",
       "        console.warn(\"failed to load library \" + url);\n",
       "      };\n",
       "      console.log(\"Bokeh: injecting script tag for BokehJS library: \", url);\n",
       "      document.getElementsByTagName(\"head\")[0].appendChild(s);\n",
       "    }\n",
       "  };\n",
       "\n",
       "  var js_urls = ['https://cdn.pydata.org/bokeh/release/bokeh-0.11.1.min.js', 'https://cdn.pydata.org/bokeh/release/bokeh-widgets-0.11.1.min.js', 'https://cdn.pydata.org/bokeh/release/bokeh-compiler-0.11.1.min.js'];\n",
       "\n",
       "  var inline_js = [\n",
       "    function(Bokeh) {\n",
       "      Bokeh.set_log_level(\"info\");\n",
       "    },\n",
       "    \n",
       "    function(Bokeh) {\n",
       "      Bokeh.$(\"#7ba56feb-2d7f-4982-915f-7bbd4761aab5\").text(\"BokehJS successfully loaded\");\n",
       "    },\n",
       "    function(Bokeh) {\n",
       "      console.log(\"Bokeh: injecting CSS: https://cdn.pydata.org/bokeh/release/bokeh-0.11.1.min.css\");\n",
       "      Bokeh.embed.inject_css(\"https://cdn.pydata.org/bokeh/release/bokeh-0.11.1.min.css\");\n",
       "      console.log(\"Bokeh: injecting CSS: https://cdn.pydata.org/bokeh/release/bokeh-widgets-0.11.1.min.css\");\n",
       "      Bokeh.embed.inject_css(\"https://cdn.pydata.org/bokeh/release/bokeh-widgets-0.11.1.min.css\");\n",
       "    }\n",
       "  ];\n",
       "\n",
       "  function run_inline_js() {\n",
       "    for (var i = 0; i < inline_js.length; i++) {\n",
       "      inline_js[i](window.Bokeh);\n",
       "    }\n",
       "  }\n",
       "\n",
       "  if (window._bokeh_is_loading === 0) {\n",
       "    console.log(\"Bokeh: BokehJS loaded, going straight to plotting\");\n",
       "    run_inline_js();\n",
       "  } else {\n",
       "    load_libs(js_urls, function() {\n",
       "      console.log(\"Bokeh: BokehJS plotting callback run at\", now());\n",
       "      run_inline_js();\n",
       "    });\n",
       "  }\n",
       "}(this));"
      ]
     },
     "metadata": {},
     "output_type": "display_data"
    },
    {
     "data": {
      "text/html": [
       "\n",
       "\n",
       "    <div class=\"plotdiv\" id=\"b0c1648d-6665-4735-aa73-73e423878607\"></div>\n",
       "<script type=\"text/javascript\">\n",
       "  \n",
       "  (function(global) {\n",
       "    function now() {\n",
       "      return new Date();\n",
       "    }\n",
       "  \n",
       "    if (typeof (window._bokeh_onload_callbacks) === \"undefined\") {\n",
       "      window._bokeh_onload_callbacks = [];\n",
       "    }\n",
       "  \n",
       "    function run_callbacks() {\n",
       "      window._bokeh_onload_callbacks.forEach(function(callback) { callback() });\n",
       "      delete window._bokeh_onload_callbacks\n",
       "      console.info(\"Bokeh: all callbacks have finished\");\n",
       "    }\n",
       "  \n",
       "    function load_libs(js_urls, callback) {\n",
       "      window._bokeh_onload_callbacks.push(callback);\n",
       "      if (window._bokeh_is_loading > 0) {\n",
       "        console.log(\"Bokeh: BokehJS is being loaded, scheduling callback at\", now());\n",
       "        return null;\n",
       "      }\n",
       "      if (js_urls == null || js_urls.length === 0) {\n",
       "        run_callbacks();\n",
       "        return null;\n",
       "      }\n",
       "      console.log(\"Bokeh: BokehJS not loaded, scheduling load and callback at\", now());\n",
       "      window._bokeh_is_loading = js_urls.length;\n",
       "      for (var i = 0; i < js_urls.length; i++) {\n",
       "        var url = js_urls[i];\n",
       "        var s = document.createElement('script');\n",
       "        s.src = url;\n",
       "        s.async = false;\n",
       "        s.onreadystatechange = s.onload = function() {\n",
       "          window._bokeh_is_loading--;\n",
       "          if (window._bokeh_is_loading === 0) {\n",
       "            console.log(\"Bokeh: all BokehJS libraries loaded\");\n",
       "            run_callbacks()\n",
       "          }\n",
       "        };\n",
       "        s.onerror = function() {\n",
       "          console.warn(\"failed to load library \" + url);\n",
       "        };\n",
       "        console.log(\"Bokeh: injecting script tag for BokehJS library: \", url);\n",
       "        document.getElementsByTagName(\"head\")[0].appendChild(s);\n",
       "      }\n",
       "    };var element = document.getElementById(\"b0c1648d-6665-4735-aa73-73e423878607\");\n",
       "    if (element == null) {\n",
       "      console.log(\"Bokeh: ERROR: autoload.js configured with elementid 'b0c1648d-6665-4735-aa73-73e423878607' but no matching script tag was found. \")\n",
       "      return false;\n",
       "    }\n",
       "  \n",
       "    var js_urls = [];\n",
       "  \n",
       "    var inline_js = [\n",
       "      function(Bokeh) {\n",
       "        Bokeh.$(function() {\n",
       "            var docs_json = {\"efc87af6-977b-46ae-af9b-4b5e93606a9e\":{\"roots\":{\"references\":[{\"attributes\":{\"base\":24,\"mantissas\":[1,2,4,6,8,12],\"max_interval\":43200000.0,\"min_interval\":3600000.0,\"num_minor_ticks\":0},\"id\":\"92eb54f6-42e9-455d-9b2e-e6f80311a722\",\"type\":\"AdaptiveTicker\"},{\"attributes\":{\"dimension\":1,\"plot\":{\"id\":\"09a7f360-f9f1-44fa-b043-360460e5e413\",\"subtype\":\"Chart\",\"type\":\"Plot\"},\"ticker\":{\"id\":\"5468ca53-1818-4493-bcb0-82e5134c3e9f\",\"type\":\"BasicTicker\"}},\"id\":\"63113306-83b2-4019-8b1d-e3375ff170a9\",\"type\":\"Grid\"},{\"attributes\":{\"months\":[0,2,4,6,8,10]},\"id\":\"02b08b79-370f-4ab3-912f-2b8da1de1e76\",\"type\":\"MonthsTicker\"},{\"attributes\":{},\"id\":\"ae8fc0f8-3106-4439-8a16-7c38e0d791e4\",\"type\":\"ToolEvents\"},{\"attributes\":{\"axis_label\":\"Date an issue was reported\",\"formatter\":{\"id\":\"82f85462-e844-49a1-b52a-f687e9054145\",\"type\":\"DatetimeTickFormatter\"},\"plot\":{\"id\":\"09a7f360-f9f1-44fa-b043-360460e5e413\",\"subtype\":\"Chart\",\"type\":\"Plot\"},\"ticker\":{\"id\":\"9443582a-6cb2-4ef8-b11f-af4af0a8e3d6\",\"type\":\"DatetimeTicker\"}},\"id\":\"d84e994a-276c-4e09-9fe3-409b1b36a412\",\"type\":\"DatetimeAxis\"},{\"attributes\":{\"dimension\":1,\"plot\":{\"id\":\"2d15a852-304f-45b2-9770-b8af765f9800\",\"subtype\":\"Chart\",\"type\":\"Plot\"},\"ticker\":{\"id\":\"6324bd50-3778-45cb-be95-6ee287c4977c\",\"type\":\"BasicTicker\"}},\"id\":\"2caac89c-efb8-4b10-954a-fa0935813e98\",\"type\":\"Grid\"},{\"attributes\":{\"callback\":null,\"end\":573.0,\"start\":-51.0},\"id\":\"d010f83e-b812-451e-b99b-f462965d8621\",\"type\":\"Range1d\"},{\"attributes\":{},\"id\":\"82f85462-e844-49a1-b52a-f687e9054145\",\"type\":\"DatetimeTickFormatter\"},{\"attributes\":{\"days\":[1,8,15,22]},\"id\":\"245a7e8a-72ec-4cc8-a918-9bb40076dd65\",\"type\":\"DaysTicker\"},{\"attributes\":{\"axis_label\":\"number of repairs\",\"formatter\":{\"id\":\"9275fba3-27c1-4f85-a618-04b91db41518\",\"type\":\"BasicTickFormatter\"},\"plot\":{\"id\":\"09a7f360-f9f1-44fa-b043-360460e5e413\",\"subtype\":\"Chart\",\"type\":\"Plot\"},\"ticker\":{\"id\":\"5468ca53-1818-4493-bcb0-82e5134c3e9f\",\"type\":\"BasicTicker\"}},\"id\":\"922a33f8-c1a9-4b78-879e-e0c6653bc2d0\",\"type\":\"LinearAxis\"},{\"attributes\":{\"days\":[1,8,15,22]},\"id\":\"620fc077-bd7f-41c7-abd8-ac3d4645d1ef\",\"type\":\"DaysTicker\"},{\"attributes\":{\"bottom_units\":\"screen\",\"fill_alpha\":{\"value\":0.5},\"fill_color\":{\"value\":\"lightgrey\"},\"left_units\":\"screen\",\"level\":\"overlay\",\"line_alpha\":{\"value\":1.0},\"line_color\":{\"value\":\"black\"},\"line_dash\":[4,4],\"line_width\":{\"value\":2},\"plot\":null,\"render_mode\":\"css\",\"right_units\":\"screen\",\"top_units\":\"screen\"},\"id\":\"d03b314c-d571-4c42-96fe-d98122a9988b\",\"type\":\"BoxAnnotation\"},{\"attributes\":{},\"id\":\"3443e263-d983-44a1-b232-1b655655d55d\",\"type\":\"DatetimeTicker\"},{\"attributes\":{\"line_color\":{\"value\":\"blue\"},\"line_width\":{\"value\":2},\"x\":{\"field\":\"x_values\"},\"y\":{\"field\":\"y_values\"}},\"id\":\"624cfa9d-43dd-41db-a91e-98b4a859c12f\",\"type\":\"Line\"},{\"attributes\":{\"months\":[0,4,8]},\"id\":\"5a3c1c48-4bbb-454e-bf92-9228e30b2f1e\",\"type\":\"MonthsTicker\"},{\"attributes\":{\"days\":[1,4,7,10,13,16,19,22,25,28]},\"id\":\"165e9f34-a86e-4948-a141-510fee4dd6d8\",\"type\":\"DaysTicker\"},{\"attributes\":{},\"id\":\"00a37c26-f62e-473b-8a5a-2fd20e6ed19f\",\"type\":\"YearsTicker\"},{\"attributes\":{\"axis_label\":\"number of repairs\",\"formatter\":{\"id\":\"208d99be-e705-4047-aee4-a876335983ef\",\"type\":\"BasicTickFormatter\"},\"plot\":{\"id\":\"2d15a852-304f-45b2-9770-b8af765f9800\",\"subtype\":\"Chart\",\"type\":\"Plot\"},\"ticker\":{\"id\":\"6324bd50-3778-45cb-be95-6ee287c4977c\",\"type\":\"BasicTicker\"}},\"id\":\"baa559d6-d502-4e75-8826-4883fbc3c8f8\",\"type\":\"LinearAxis\"},{\"attributes\":{\"plot\":{\"id\":\"2d15a852-304f-45b2-9770-b8af765f9800\",\"subtype\":\"Chart\",\"type\":\"Plot\"}},\"id\":\"896585f9-dbd4-4a3f-8f49-cd326074ca1a\",\"type\":\"ResetTool\"},{\"attributes\":{},\"id\":\"6324bd50-3778-45cb-be95-6ee287c4977c\",\"type\":\"BasicTicker\"},{\"attributes\":{\"overlay\":{\"id\":\"84115f17-8871-48bc-97e8-b774dfb57097\",\"type\":\"BoxAnnotation\"},\"plot\":{\"id\":\"2d15a852-304f-45b2-9770-b8af765f9800\",\"subtype\":\"Chart\",\"type\":\"Plot\"}},\"id\":\"7c0cda6e-f3d9-4900-baf0-f49db575e12b\",\"type\":\"BoxZoomTool\"},{\"attributes\":{\"base\":60,\"mantissas\":[1,2,5,10,15,20,30],\"max_interval\":1800000.0,\"min_interval\":1000.0,\"num_minor_ticks\":0},\"id\":\"7f3a0690-c47a-4ed0-9aec-433bbbe79f81\",\"type\":\"AdaptiveTicker\"},{\"attributes\":{\"plot\":{\"id\":\"2d15a852-304f-45b2-9770-b8af765f9800\",\"subtype\":\"Chart\",\"type\":\"Plot\"}},\"id\":\"bfc7926f-53e7-48ea-82bc-049cee5e1457\",\"type\":\"ResizeTool\"},{\"attributes\":{\"overlay\":{\"id\":\"d03b314c-d571-4c42-96fe-d98122a9988b\",\"type\":\"BoxAnnotation\"},\"plot\":{\"id\":\"09a7f360-f9f1-44fa-b043-360460e5e413\",\"subtype\":\"Chart\",\"type\":\"Plot\"}},\"id\":\"622c62bf-2544-4e49-9b01-773090a82bfa\",\"type\":\"BoxZoomTool\"},{\"attributes\":{},\"id\":\"208d99be-e705-4047-aee4-a876335983ef\",\"type\":\"BasicTickFormatter\"},{\"attributes\":{},\"id\":\"9275fba3-27c1-4f85-a618-04b91db41518\",\"type\":\"BasicTickFormatter\"},{\"attributes\":{\"months\":[0,1,2,3,4,5,6,7,8,9,10,11]},\"id\":\"0ee80568-f7d1-4f83-aef2-e572fcac41b8\",\"type\":\"MonthsTicker\"},{\"attributes\":{\"plot\":{\"id\":\"09a7f360-f9f1-44fa-b043-360460e5e413\",\"subtype\":\"Chart\",\"type\":\"Plot\"}},\"id\":\"f0509c5a-bc5c-4abf-b67f-06f91540a0fc\",\"type\":\"HelpTool\"},{\"attributes\":{\"plot\":{\"id\":\"09a7f360-f9f1-44fa-b043-360460e5e413\",\"subtype\":\"Chart\",\"type\":\"Plot\"}},\"id\":\"c33a0abb-8513-46da-aaf3-110b5639d3ca\",\"type\":\"WheelZoomTool\"},{\"attributes\":{\"plot\":{\"id\":\"2d15a852-304f-45b2-9770-b8af765f9800\",\"subtype\":\"Chart\",\"type\":\"Plot\"}},\"id\":\"7355142e-f604-4732-897e-eb4df4a7871d\",\"type\":\"HelpTool\"},{\"attributes\":{\"plot\":{\"id\":\"2d15a852-304f-45b2-9770-b8af765f9800\",\"subtype\":\"Chart\",\"type\":\"Plot\"}},\"id\":\"65319b4d-1f91-487b-b12c-bff046569850\",\"type\":\"WheelZoomTool\"},{\"attributes\":{},\"id\":\"1275aac1-2edc-4d3c-b411-d7301b55ad30\",\"type\":\"DatetimeTickFormatter\"},{\"attributes\":{},\"id\":\"5f0d7617-1de4-4c42-b111-23c210a4d692\",\"type\":\"ToolEvents\"},{\"attributes\":{\"months\":[0,6]},\"id\":\"70f0b9c6-e634-4514-b0a2-452e590404fc\",\"type\":\"MonthsTicker\"},{\"attributes\":{\"below\":[{\"id\":\"06f3cfc6-2c8f-411f-bd0b-de3ae9de6a1e\",\"type\":\"DatetimeAxis\"}],\"left\":[{\"id\":\"baa559d6-d502-4e75-8826-4883fbc3c8f8\",\"type\":\"LinearAxis\"}],\"legend\":null,\"plot_width\":1000,\"renderers\":[{\"id\":\"84115f17-8871-48bc-97e8-b774dfb57097\",\"type\":\"BoxAnnotation\"},{\"id\":\"3cfbb57a-39c5-42d0-9c6a-8c771cab103d\",\"type\":\"GlyphRenderer\"},{\"id\":\"06f3cfc6-2c8f-411f-bd0b-de3ae9de6a1e\",\"type\":\"DatetimeAxis\"},{\"id\":\"baa559d6-d502-4e75-8826-4883fbc3c8f8\",\"type\":\"LinearAxis\"},{\"id\":\"b305bb79-28ba-4dd2-b14a-075b0c2e0131\",\"type\":\"Grid\"},{\"id\":\"2caac89c-efb8-4b10-954a-fa0935813e98\",\"type\":\"Grid\"}],\"title\":\"Number of repairs between 2014 and 2016\",\"title_text_font_size\":{\"value\":\"14pt\"},\"tool_events\":{\"id\":\"ae8fc0f8-3106-4439-8a16-7c38e0d791e4\",\"type\":\"ToolEvents\"},\"tools\":[{\"id\":\"c03e9dbb-527d-4fa2-9d58-7c2f923ad0ee\",\"type\":\"PanTool\"},{\"id\":\"65319b4d-1f91-487b-b12c-bff046569850\",\"type\":\"WheelZoomTool\"},{\"id\":\"7c0cda6e-f3d9-4900-baf0-f49db575e12b\",\"type\":\"BoxZoomTool\"},{\"id\":\"56993d88-e306-4489-9d90-f85b138eef86\",\"type\":\"PreviewSaveTool\"},{\"id\":\"bfc7926f-53e7-48ea-82bc-049cee5e1457\",\"type\":\"ResizeTool\"},{\"id\":\"896585f9-dbd4-4a3f-8f49-cd326074ca1a\",\"type\":\"ResetTool\"},{\"id\":\"7355142e-f604-4732-897e-eb4df4a7871d\",\"type\":\"HelpTool\"}],\"x_mapper_type\":\"auto\",\"x_range\":{\"id\":\"92528d52-a6ef-4560-ae18-a5d26e14fecd\",\"type\":\"Range1d\"},\"xscale\":\"auto\",\"y_mapper_type\":\"auto\",\"y_range\":{\"id\":\"d010f83e-b812-451e-b99b-f462965d8621\",\"type\":\"Range1d\"},\"yscale\":\"auto\"},\"id\":\"2d15a852-304f-45b2-9770-b8af765f9800\",\"subtype\":\"Chart\",\"type\":\"Plot\"},{\"attributes\":{\"line_color\":{\"value\":\"blue\"},\"line_width\":{\"value\":2},\"x\":{\"field\":\"x_values\"},\"y\":{\"field\":\"y_values\"}},\"id\":\"459676c8-df26-452a-ad5e-a8da9484a925\",\"type\":\"Line\"},{\"attributes\":{},\"id\":\"5468ca53-1818-4493-bcb0-82e5134c3e9f\",\"type\":\"BasicTicker\"},{\"attributes\":{\"months\":[0,6]},\"id\":\"419bf10d-7dea-451c-9169-01bd345978f6\",\"type\":\"MonthsTicker\"},{\"attributes\":{\"days\":[1,2,3,4,5,6,7,8,9,10,11,12,13,14,15,16,17,18,19,20,21,22,23,24,25,26,27,28,29,30,31]},\"id\":\"adf67c60-4293-4c31-af8d-8e03a53947eb\",\"type\":\"DaysTicker\"},{\"attributes\":{\"plot\":{\"id\":\"2d15a852-304f-45b2-9770-b8af765f9800\",\"subtype\":\"Chart\",\"type\":\"Plot\"}},\"id\":\"c03e9dbb-527d-4fa2-9d58-7c2f923ad0ee\",\"type\":\"PanTool\"},{\"attributes\":{\"plot\":{\"id\":\"09a7f360-f9f1-44fa-b043-360460e5e413\",\"subtype\":\"Chart\",\"type\":\"Plot\"},\"ticker\":{\"id\":\"9443582a-6cb2-4ef8-b11f-af4af0a8e3d6\",\"type\":\"DatetimeTicker\"}},\"id\":\"2a878f8d-e00a-42ba-a233-571a07994d1a\",\"type\":\"Grid\"},{\"attributes\":{},\"id\":\"343a04d2-c89e-48ed-9b33-861b992d48f6\",\"type\":\"YearsTicker\"},{\"attributes\":{\"max_interval\":500.0,\"num_minor_ticks\":0},\"id\":\"d0ce19e3-61be-4ea1-9636-7d1e9448f307\",\"type\":\"AdaptiveTicker\"},{\"attributes\":{\"days\":[1,15]},\"id\":\"9bd2b0dc-4f46-4da8-aaf8-107efb1f893e\",\"type\":\"DaysTicker\"},{\"attributes\":{\"months\":[0,4,8]},\"id\":\"b97e8877-7d87-4aeb-bd2d-28fa83a5f7aa\",\"type\":\"MonthsTicker\"},{\"attributes\":{\"callback\":null,\"column_names\":[\"x_values\",\"y_values\"],\"data\":{\"chart_index\":[null,null,null,null,null,null,null,null,null,null,null,null,null,null,null,null,null,null,null,null,null,null,null,null,null,null,null,null,null,null,null,null,null,null,null,null,null,null,null,null,null,null,null,null,null,null,null,null,null,null,null,null,null,null,null,null,null,null,null,null,null,null,null,null,null,null,null,null,null,null,null,null,null,null,null,null,null,null,null,null,null,null,null,null,null,null,null,null,null,null,null,null,null,null,null,null,null,null,null,null,null,null,null,null,null,null,null,null,null,null,null,null,null,null,null,null,null,null,null,null,null,null,null,null,null,null,null,null,null,null,null,null,null,null,null,null,null,null,null,null,null,null,null,null,null,null,null,null,null,null,null,null,null,null,null,null,null,null,null,null,null,null,null,null,null,null,null,null,null,null,null,null,null,null,null,null,null,null,null,null,null,null,null,null,null,null,null,null,null,null,null,null,null,null,null,null,null,null,null,null,null,null,null,null,null,null,null,null,null,null,null,null,null,null,null,null,null,null,null,null,null,null,null,null,null,null,null,null,null,null,null,null,null,null,null,null,null,null,null,null,null,null,null,null,null,null,null,null,null,null,null,null,null,null,null,null,null,null,null,null,null,null,null,null,null,null,null,null,null,null,null,null,null,null,null,null,null,null,null,null,null,null,null,null,null,null,null,null,null,null,null,null,null,null,null,null,null,null,null,null,null,null,null,null,null,null,null,null,null,null,null,null,null,null,null,null,null,null,null,null,null,null,null,null,null,null,null,null,null,null,null,null,null,null,null,null,null,null,null,null,null,null,null,null,null,null,null,null,null,null,null,null,null,null,null,null,null,null,null,null,null,null,null,null,null,null,null,null,null,null,null,null,null,null,null,null,null,null,null,null,null,null,null,null,null,null,null,null,null,null,null,null,null,null,null,null,null,null,null,null,null,null,null,null,null,null,null,null,null,null,null,null,null,null,null,null,null,null,null,null,null,null,null,null,null,null,null,null,null,null,null,null,null,null,null,null,null,null,null,null,null,null,null,null,null,null,null,null,null,null,null,null,null,null,null,null,null,null,null,null,null,null,null,null,null,null,null,null,null,null,null,null,null,null,null,null,null,null,null,null,null,null,null,null,null,null,null,null,null,null,null,null,null,null,null,null,null,null,null,null,null,null,null,null,null,null,null,null,null,null,null,null,null,null,null,null,null,null,null,null,null,null,null,null,null,null,null,null,null,null,null,null,null,null,null,null,null,null,null,null,null,null,null,null,null,null,null,null,null,null,null,null,null,null,null,null,null,null,null,null,null,null,null,null,null,null,null,null,null,null,null,null,null,null,null,null,null,null,null,null,null,null,null,null,null,null,null,null,null,null,null,null,null,null,null,null,null,null,null,null,null,null,null,null,null,null,null,null,null,null,null,null,null,null,null,null,null,null,null,null,null,null,null,null,null,null,null,null,null,null,null,null,null,null,null,null,null,null,null,null,null,null,null,null,null,null,null,null,null,null,null,null,null,null,null,null,null,null,null,null,null,null,null,null,null,null,null,null,null,null,null,null,null,null,null,null,null,null,null,null,null,null,null,null,null,null,null,null,null,null,null,null,null,null,null,null,null,null,null,null,null,null,null,null,null,null,null,null,null,null,null,null,null,null,null,null,null,null,null,null,null,null,null,null,null,null,null,null,null,null,null,null,null,null,null,null,null,null,null,null,null,null,null,null,null,null,null,null,null,null,null,null,null,null,null,null,null,null,null,null,null,null,null,null,null,null,null,null,null,null,null,null,null,null,null,null,null,null,null,null,null,null,null,null,null,null,null,null,null,null,null,null,null,null,null,null,null,null,null,null,null,null,null,null,null,null,null,null,null],\"x_values\":[1388620800000.0,1388707200000.0,1388966400000.0,1389052800000.0,1389139200000.0,1389312000000.0,1389571200000.0,1389657600000.0,1389744000000.0,1389830400000.0,1389916800000.0,1390176000000.0,1390262400000.0,1390348800000.0,1390435200000.0,1390521600000.0,1390780800000.0,1390867200000.0,1390953600000.0,1391040000000.0,1391126400000.0,1391385600000.0,1391472000000.0,1391558400000.0,1391644800000.0,1391731200000.0,1391990400000.0,1392076800000.0,1392163200000.0,1392249600000.0,1392336000000.0,1392508800000.0,1392595200000.0,1392681600000.0,1392768000000.0,1392854400000.0,1392940800000.0,1393027200000.0,1393200000000.0,1393286400000.0,1393372800000.0,1393459200000.0,1393545600000.0,1393804800000.0,1393891200000.0,1393977600000.0,1394064000000.0,1394150400000.0,1394236800000.0,1394409600000.0,1394496000000.0,1394582400000.0,1394668800000.0,1394755200000.0,1394841600000.0,1395014400000.0,1395100800000.0,1395187200000.0,1395273600000.0,1395360000000.0,1395446400000.0,1395532800000.0,1395619200000.0,1395705600000.0,1395792000000.0,1395878400000.0,1395964800000.0,1396051200000.0,1396137600000.0,1396224000000.0,1396310400000.0,1396396800000.0,1396483200000.0,1396569600000.0,1396656000000.0,1396742400000.0,1396828800000.0,1396915200000.0,1397001600000.0,1397088000000.0,1397174400000.0,1397260800000.0,1397347200000.0,1397433600000.0,1397520000000.0,1397606400000.0,1397692800000.0,1397779200000.0,1397865600000.0,1397952000000.0,1398038400000.0,1398124800000.0,1398211200000.0,1398297600000.0,1398384000000.0,1398470400000.0,1398556800000.0,1398643200000.0,1398729600000.0,1398816000000.0,1398902400000.0,1398988800000.0,1399075200000.0,1399161600000.0,1399248000000.0,1399334400000.0,1399420800000.0,1399507200000.0,1399593600000.0,1399680000000.0,1399766400000.0,1399852800000.0,1399939200000.0,1400025600000.0,1400112000000.0,1400198400000.0,1400284800000.0,1400371200000.0,1400457600000.0,1400544000000.0,1400630400000.0,1400716800000.0,1400803200000.0,1400889600000.0,1400976000000.0,1401062400000.0,1401148800000.0,1401235200000.0,1401321600000.0,1401408000000.0,1401494400000.0,1401580800000.0,1401667200000.0,1401753600000.0,1401840000000.0,1401926400000.0,1402012800000.0,1402099200000.0,1402185600000.0,1402272000000.0,1402358400000.0,1402444800000.0,1402531200000.0,1402617600000.0,1402704000000.0,1402790400000.0,1402876800000.0,1402963200000.0,1403049600000.0,1403136000000.0,1403222400000.0,1403308800000.0,1403395200000.0,1403481600000.0,1403568000000.0,1403654400000.0,1403740800000.0,1403827200000.0,1403913600000.0,1404000000000.0,1404086400000.0,1404172800000.0,1404259200000.0,1404345600000.0,1404432000000.0,1404518400000.0,1404604800000.0,1404691200000.0,1404777600000.0,1404864000000.0,1404950400000.0,1405036800000.0,1405123200000.0,1405209600000.0,1405296000000.0,1405382400000.0,1405468800000.0,1405555200000.0,1405641600000.0,1405728000000.0,1405814400000.0,1405900800000.0,1405987200000.0,1406073600000.0,1406160000000.0,1406246400000.0,1406332800000.0,1406419200000.0,1406505600000.0,1406592000000.0,1406678400000.0,1406764800000.0,1406851200000.0,1406937600000.0,1407024000000.0,1407110400000.0,1407196800000.0,1407283200000.0,1407369600000.0,1407456000000.0,1407542400000.0,1407628800000.0,1407715200000.0,1407801600000.0,1407888000000.0,1407974400000.0,1408060800000.0,1408147200000.0,1408233600000.0,1408320000000.0,1408406400000.0,1408492800000.0,1408579200000.0,1408665600000.0,1408752000000.0,1408838400000.0,1408924800000.0,1409011200000.0,1409097600000.0,1409184000000.0,1409270400000.0,1409356800000.0,1409443200000.0,1409529600000.0,1409616000000.0,1409702400000.0,1409788800000.0,1409875200000.0,1409961600000.0,1410048000000.0,1410134400000.0,1410220800000.0,1410307200000.0,1410393600000.0,1410480000000.0,1410566400000.0,1410652800000.0,1410739200000.0,1410825600000.0,1410912000000.0,1410998400000.0,1411084800000.0,1411171200000.0,1411257600000.0,1411344000000.0,1411430400000.0,1411516800000.0,1411603200000.0,1411689600000.0,1411776000000.0,1411862400000.0,1411948800000.0,1412035200000.0,1412121600000.0,1412208000000.0,1412294400000.0,1412380800000.0,1412467200000.0,1412553600000.0,1412640000000.0,1412726400000.0,1412812800000.0,1412899200000.0,1412985600000.0,1413072000000.0,1413158400000.0,1413244800000.0,1413331200000.0,1413417600000.0,1413504000000.0,1413590400000.0,1413676800000.0,1413763200000.0,1413849600000.0,1413936000000.0,1414022400000.0,1414108800000.0,1414195200000.0,1414281600000.0,1414368000000.0,1414454400000.0,1414540800000.0,1414627200000.0,1414713600000.0,1414800000000.0,1414886400000.0,1414972800000.0,1415059200000.0,1415145600000.0,1415232000000.0,1415318400000.0,1415404800000.0,1415491200000.0,1415577600000.0,1415664000000.0,1415750400000.0,1415836800000.0,1415923200000.0,1416009600000.0,1416096000000.0,1416182400000.0,1416268800000.0,1416355200000.0,1416441600000.0,1416528000000.0,1416614400000.0,1416700800000.0,1416787200000.0,1416873600000.0,1416960000000.0,1417046400000.0,1417132800000.0,1417219200000.0,1417305600000.0,1417392000000.0,1417478400000.0,1417564800000.0,1417651200000.0,1417737600000.0,1417824000000.0,1417910400000.0,1417996800000.0,1418083200000.0,1418169600000.0,1418256000000.0,1418342400000.0,1418428800000.0,1418515200000.0,1418601600000.0,1418688000000.0,1418774400000.0,1418860800000.0,1418947200000.0,1419033600000.0,1419120000000.0,1419206400000.0,1419292800000.0,1419379200000.0,1419465600000.0,1419552000000.0,1419638400000.0,1419724800000.0,1419811200000.0,1419897600000.0,1419984000000.0,1420070400000.0,1420156800000.0,1420243200000.0,1420329600000.0,1420416000000.0,1420502400000.0,1420588800000.0,1420675200000.0,1420761600000.0,1420848000000.0,1420934400000.0,1421020800000.0,1421107200000.0,1421193600000.0,1421280000000.0,1421366400000.0,1421452800000.0,1421539200000.0,1421625600000.0,1421712000000.0,1421798400000.0,1421884800000.0,1421971200000.0,1422057600000.0,1422144000000.0,1422230400000.0,1422316800000.0,1422403200000.0,1422489600000.0,1422576000000.0,1422662400000.0,1422748800000.0,1422835200000.0,1422921600000.0,1423008000000.0,1423094400000.0,1423180800000.0,1423267200000.0,1423353600000.0,1423440000000.0,1423526400000.0,1423612800000.0,1423699200000.0,1423785600000.0,1423872000000.0,1423958400000.0,1424044800000.0,1424131200000.0,1424217600000.0,1424304000000.0,1424390400000.0,1424476800000.0,1424563200000.0,1424649600000.0,1424736000000.0,1424822400000.0,1424908800000.0,1424995200000.0,1425081600000.0,1425168000000.0,1425254400000.0,1425340800000.0,1425427200000.0,1425513600000.0,1425600000000.0,1425686400000.0,1425772800000.0,1425859200000.0,1425945600000.0,1426032000000.0,1426118400000.0,1426204800000.0,1426291200000.0,1426377600000.0,1426464000000.0,1426550400000.0,1426636800000.0,1426723200000.0,1426809600000.0,1426896000000.0,1426982400000.0,1427068800000.0,1427155200000.0,1427241600000.0,1427328000000.0,1427414400000.0,1427500800000.0,1427587200000.0,1427673600000.0,1427760000000.0,1427846400000.0,1427932800000.0,1428019200000.0,1428105600000.0,1428192000000.0,1428278400000.0,1428364800000.0,1428451200000.0,1428537600000.0,1428624000000.0,1428710400000.0,1428796800000.0,1428883200000.0,1428969600000.0,1429056000000.0,1429142400000.0,1429228800000.0,1429315200000.0,1429401600000.0,1429488000000.0,1429574400000.0,1429660800000.0,1429747200000.0,1429833600000.0,1429920000000.0,1430006400000.0,1430092800000.0,1430179200000.0,1430265600000.0,1430352000000.0,1430438400000.0,1430524800000.0,1430611200000.0,1430697600000.0,1430784000000.0,1430870400000.0,1430956800000.0,1431043200000.0,1431129600000.0,1431216000000.0,1431302400000.0,1431388800000.0,1431475200000.0,1431561600000.0,1431648000000.0,1431734400000.0,1431820800000.0,1431907200000.0,1431993600000.0,1432080000000.0,1432166400000.0,1432252800000.0,1432339200000.0,1432425600000.0,1432512000000.0,1432598400000.0,1432684800000.0,1432771200000.0,1432857600000.0,1432944000000.0,1433030400000.0,1433116800000.0,1433203200000.0,1433289600000.0,1433376000000.0,1433462400000.0,1433548800000.0,1433635200000.0,1433721600000.0,1433808000000.0,1433894400000.0,1433980800000.0,1434067200000.0,1434153600000.0,1434240000000.0,1434326400000.0,1434412800000.0,1434499200000.0,1434585600000.0,1434672000000.0,1434758400000.0,1434844800000.0,1434931200000.0,1435017600000.0,1435104000000.0,1435190400000.0,1435276800000.0,1435363200000.0,1435449600000.0,1435536000000.0,1435622400000.0,1435708800000.0,1435795200000.0,1435881600000.0,1435968000000.0,1436054400000.0,1436140800000.0,1436227200000.0,1436313600000.0,1436400000000.0,1436486400000.0,1436572800000.0,1436659200000.0,1436745600000.0,1436832000000.0,1436918400000.0,1437004800000.0,1437091200000.0,1437177600000.0,1437264000000.0,1437350400000.0,1437436800000.0,1437523200000.0,1437609600000.0,1437696000000.0,1437782400000.0,1437868800000.0,1437955200000.0,1438041600000.0,1438128000000.0,1438214400000.0,1438300800000.0,1438387200000.0,1438473600000.0,1438560000000.0,1438646400000.0,1438732800000.0,1438819200000.0,1438905600000.0,1438992000000.0,1439078400000.0,1439164800000.0,1439251200000.0,1439337600000.0,1439424000000.0,1439510400000.0,1439596800000.0,1439683200000.0,1439769600000.0,1439856000000.0,1439942400000.0,1440028800000.0,1440115200000.0,1440201600000.0,1440288000000.0,1440374400000.0,1440460800000.0,1440547200000.0,1440633600000.0,1440720000000.0,1440806400000.0,1440892800000.0,1440979200000.0,1441065600000.0,1441152000000.0,1441238400000.0,1441324800000.0,1441411200000.0,1441497600000.0,1441584000000.0,1441670400000.0,1441756800000.0,1441843200000.0,1441929600000.0,1442016000000.0,1442102400000.0,1442188800000.0,1442275200000.0,1442361600000.0,1442448000000.0,1442534400000.0,1442620800000.0,1442707200000.0,1442793600000.0,1442880000000.0,1442966400000.0,1443052800000.0,1443139200000.0,1443225600000.0,1443312000000.0,1443398400000.0,1443484800000.0,1443571200000.0,1443657600000.0,1443744000000.0,1443830400000.0,1443916800000.0,1444003200000.0,1444089600000.0,1444176000000.0,1444262400000.0,1444348800000.0,1444435200000.0,1444521600000.0,1444608000000.0,1444694400000.0,1444780800000.0,1444867200000.0,1444953600000.0,1445040000000.0,1445126400000.0,1445212800000.0,1445299200000.0,1445385600000.0,1445472000000.0,1445558400000.0,1445644800000.0,1445731200000.0,1445817600000.0,1445904000000.0,1445990400000.0,1446076800000.0,1446163200000.0,1446249600000.0,1446336000000.0,1446422400000.0,1446508800000.0,1446595200000.0,1446681600000.0,1446768000000.0,1446854400000.0,1446940800000.0,1447027200000.0,1447113600000.0,1447200000000.0,1447286400000.0,1447372800000.0,1447459200000.0,1447545600000.0,1447632000000.0,1447718400000.0,1447804800000.0,1447891200000.0,1447977600000.0,1448064000000.0,1448150400000.0,1448236800000.0,1448323200000.0,1448409600000.0,1448496000000.0,1448582400000.0,1448668800000.0,1448755200000.0,1448841600000.0,1448928000000.0,1449014400000.0,1449100800000.0,1449187200000.0,1449273600000.0,1449360000000.0,1449446400000.0,1449532800000.0,1449619200000.0,1449705600000.0,1449792000000.0,1449878400000.0,1449964800000.0,1450051200000.0,1450137600000.0,1450224000000.0,1450310400000.0,1450396800000.0,1450483200000.0,1450569600000.0,1450656000000.0,1450742400000.0,1450828800000.0,1450915200000.0,1451001600000.0,1451088000000.0,1451174400000.0,1451260800000.0,1451347200000.0,1451433600000.0,1451520000000.0,1451606400000.0,1451692800000.0,1451779200000.0,1451865600000.0,1451952000000.0,1452038400000.0,1452124800000.0,1452211200000.0,1452297600000.0,1452384000000.0,1452470400000.0,1452556800000.0,1452643200000.0,1452729600000.0,1452816000000.0,1452902400000.0,1452988800000.0,1453075200000.0,1453161600000.0,1453248000000.0,1453334400000.0,1453420800000.0,1453507200000.0,1453593600000.0,1453680000000.0,1453766400000.0,1453852800000.0,1453939200000.0,1454025600000.0,1454112000000.0,1454198400000.0,1454284800000.0,1454371200000.0,1454457600000.0,1454544000000.0,1454630400000.0,1454716800000.0,1454803200000.0,1454889600000.0,1454976000000.0,1455062400000.0,1455148800000.0,1455235200000.0,1455321600000.0,1455408000000.0,1455494400000.0,1455580800000.0,1455667200000.0,1455753600000.0,1455840000000.0,1455926400000.0,1456012800000.0,1456099200000.0,1456185600000.0,1456272000000.0,1456358400000.0,1456444800000.0,1456531200000.0,1456617600000.0,1456704000000.0,1456790400000.0,1456876800000.0,1456963200000.0,1457049600000.0,1457136000000.0,1457222400000.0,1457308800000.0,1457395200000.0,1457481600000.0,1457568000000.0,1457654400000.0,1457740800000.0,1457827200000.0,1457913600000.0,1458000000000.0,1458086400000.0,1458172800000.0,1458259200000.0,1458345600000.0,1458432000000.0,1458518400000.0,1458604800000.0,1458691200000.0,1458777600000.0,1458864000000.0,1458950400000.0,1459036800000.0,1459123200000.0,1459209600000.0,1459296000000.0,1459382400000.0,1459468800000.0,1459555200000.0,1459641600000.0,1459728000000.0,1459814400000.0,1459900800000.0,1459987200000.0,1460073600000.0],\"y_values\":[2,2,6,5,4,3,6,2,1,10,3,16,10,8,4,7,19,11,11,11,12,7,6,21,23,23,27,24,31,39,23,1,30,25,21,21,21,5,30,36,26,35,39,24,41,64,62,50,11,86,68,95,75,60,6,115,100,122,120,114,4,4,160,169,152,140,155,5,2,241,265,226,215,190,13,8,362,256,210,254,204,33,13,288,247,236,186,21,21,17,22,282,233,232,206,14,11,290,255,236,222,170,22,19,19,286,192,199,186,22,8,318,194,193,204,156,15,8,210,217,225,40,264,15,13,17,259,203,176,191,15,6,310,229,253,189,196,23,11,266,182,202,191,165,9,11,252,182,194,206,220,18,13,262,207,219,210,207,9,10,296,207,210,186,182,28,13,272,240,149,188,172,8,3,238,210,178,190,176,22,12,247,248,196,184,179,14,4,234,213,195,177,166,9,10,290,192,204,183,155,8,12,260,232,184,178,161,25,4,278,177,205,166,189,20,10,13,284,230,181,198,11,4,273,236,174,186,177,11,7,258,232,173,160,176,11,13,283,211,187,192,176,25,10,317,277,214,173,182,15,7,229,213,153,203,193,18,10,366,276,243,261,211,20,22,388,262,248,190,206,16,13,293,252,234,201,198,19,13,344,269,191,191,234,21,17,297,283,257,258,220,24,12,344,307,273,292,207,29,18,329,283,265,272,247,18,6,297,277,251,280,178,12,10,310,277,282,264,233,28,18,335,247,239,272,241,19,22,266,231,174,199,215,19,10,276,158,102,9,18,31,22,72,60,31,14,349,26,24,425,351,287,273,271,25,15,349,309,341,370,287,32,15,405,344,336,313,266,15,11,384,265,233,286,279,14,10,439,339,294,307,300,23,16,393,276,235,253,157,19,17,315,318,256,202,219,18,15,337,247,262,203,194,26,18,211,283,222,173,185,14,15,216,197,235,174,163,14,9,276,203,165,201,173,14,2,228,190,219,188,182,12,7,241,229,205,225,19,8,3,5,301,325,297,250,6,7,321,336,303,300,215,13,9,293,265,344,255,190,9,7,335,266,283,267,221,12,20,6,341,303,236,243,7,5,298,258,229,267,216,16,7,301,253,231,202,241,10,8,5,292,199,205,159,1,9,286,265,198,187,150,5,9,250,260,234,170,199,13,10,260,243,188,173,186,14,8,288,225,165,202,206,7,3,284,228,225,217,171,2,5,266,253,237,198,213,8,13,274,204,206,206,237,5,1,300,207,233,191,237,9,12,291,243,235,198,172,14,16,234,198,227,190,227,6,6,307,257,262,220,199,15,2,312,231,221,218,216,26,6,280,269,230,199,175,3,11,6,355,211,224,229,8,11,247,254,253,191,168,8,14,310,225,233,258,201,12,10,344,263,254,191,202,6,6,265,248,234,245,206,5,2,318,263,227,246,220,18,10,267,221,269,226,220,8,6,311,248,224,247,220,4,15,303,258,230,222,218,8,5,343,284,219,254,186,7,28,341,268,253,228,247,19,24,342,366,191,256,272,26,21,400,258,291,245,279,82,15,332,290,283,283,219,17,20,343,318,282,288,235,17,18,310,286,304,188,236,30,29,316,298,228,113,19,9,34,19,40,65,25,24,41,26,521,419,384,363,366,21,52,420,399,461,353,368,19,48,438,311,468,266,296,16,10,442,349,311,347,252,23,27,428,319,304,304,302,3,42,406,353,325,327,307,22,21,406,371,363,301,285,31,14,373,346,298,232,262,20,10,322,305,269,206,215,19,32,337,265,294,229,203,43,20,303,212,203,183,187,18,22,195,182,139,138,17,13,23,18,159,110,122,80,3,4,131,94,69,61,33]}},\"id\":\"cabe779e-e199-4fa7-8c15-f8ecac431600\",\"type\":\"ColumnDataSource\"},{\"attributes\":{\"days\":[1,2,3,4,5,6,7,8,9,10,11,12,13,14,15,16,17,18,19,20,21,22,23,24,25,26,27,28,29,30,31]},\"id\":\"cc02cbba-4713-4add-8216-d714963d66de\",\"type\":\"DaysTicker\"},{\"attributes\":{\"plot\":{\"id\":\"09a7f360-f9f1-44fa-b043-360460e5e413\",\"subtype\":\"Chart\",\"type\":\"Plot\"}},\"id\":\"aea4a1ec-8937-41bc-8019-acd2ccb44a98\",\"type\":\"PreviewSaveTool\"},{\"attributes\":{\"data_source\":{\"id\":\"6f7d13f1-2974-4f84-b7e3-34abb2ae257e\",\"type\":\"ColumnDataSource\"},\"glyph\":{\"id\":\"459676c8-df26-452a-ad5e-a8da9484a925\",\"type\":\"Line\"},\"hover_glyph\":null,\"nonselection_glyph\":null,\"selection_glyph\":null},\"id\":\"30d63771-b3a1-45d9-97ab-2f3d0a5605fd\",\"type\":\"GlyphRenderer\"},{\"attributes\":{\"callback\":null,\"end\":1460073600000.0,\"start\":1388620800000.0},\"id\":\"0ef91d33-e6e9-40f7-875d-47f2a22d2aaa\",\"type\":\"Range1d\"},{\"attributes\":{\"callback\":null,\"end\":1460073600000.0,\"start\":1388620800000.0},\"id\":\"92528d52-a6ef-4560-ae18-a5d26e14fecd\",\"type\":\"Range1d\"},{\"attributes\":{\"plot\":{\"id\":\"2d15a852-304f-45b2-9770-b8af765f9800\",\"subtype\":\"Chart\",\"type\":\"Plot\"}},\"id\":\"56993d88-e306-4489-9d90-f85b138eef86\",\"type\":\"PreviewSaveTool\"},{\"attributes\":{\"below\":[{\"id\":\"d84e994a-276c-4e09-9fe3-409b1b36a412\",\"type\":\"DatetimeAxis\"}],\"left\":[{\"id\":\"922a33f8-c1a9-4b78-879e-e0c6653bc2d0\",\"type\":\"LinearAxis\"}],\"legend\":null,\"plot_width\":1000,\"renderers\":[{\"id\":\"d03b314c-d571-4c42-96fe-d98122a9988b\",\"type\":\"BoxAnnotation\"},{\"id\":\"30d63771-b3a1-45d9-97ab-2f3d0a5605fd\",\"type\":\"GlyphRenderer\"},{\"id\":\"d84e994a-276c-4e09-9fe3-409b1b36a412\",\"type\":\"DatetimeAxis\"},{\"id\":\"922a33f8-c1a9-4b78-879e-e0c6653bc2d0\",\"type\":\"LinearAxis\"},{\"id\":\"2a878f8d-e00a-42ba-a233-571a07994d1a\",\"type\":\"Grid\"},{\"id\":\"63113306-83b2-4019-8b1d-e3375ff170a9\",\"type\":\"Grid\"}],\"title\":\"Number of repairs between 2014 and 2016\",\"title_text_font_size\":{\"value\":\"14pt\"},\"tool_events\":{\"id\":\"5f0d7617-1de4-4c42-b111-23c210a4d692\",\"type\":\"ToolEvents\"},\"tools\":[{\"id\":\"2b35e54a-602d-4992-aab7-87f2dabdc63c\",\"type\":\"PanTool\"},{\"id\":\"c33a0abb-8513-46da-aaf3-110b5639d3ca\",\"type\":\"WheelZoomTool\"},{\"id\":\"622c62bf-2544-4e49-9b01-773090a82bfa\",\"type\":\"BoxZoomTool\"},{\"id\":\"aea4a1ec-8937-41bc-8019-acd2ccb44a98\",\"type\":\"PreviewSaveTool\"},{\"id\":\"6491d9b5-8399-4381-90fa-f33b4a545ee1\",\"type\":\"ResizeTool\"},{\"id\":\"989666ca-73da-4702-a036-07396a6947f9\",\"type\":\"ResetTool\"},{\"id\":\"f0509c5a-bc5c-4abf-b67f-06f91540a0fc\",\"type\":\"HelpTool\"}],\"x_mapper_type\":\"auto\",\"x_range\":{\"id\":\"0ef91d33-e6e9-40f7-875d-47f2a22d2aaa\",\"type\":\"Range1d\"},\"xscale\":\"auto\",\"y_mapper_type\":\"auto\",\"y_range\":{\"id\":\"e9a182dd-7fde-46b7-9937-99c27f339f75\",\"type\":\"Range1d\"},\"yscale\":\"auto\"},\"id\":\"09a7f360-f9f1-44fa-b043-360460e5e413\",\"subtype\":\"Chart\",\"type\":\"Plot\"},{\"attributes\":{\"plot\":{\"id\":\"09a7f360-f9f1-44fa-b043-360460e5e413\",\"subtype\":\"Chart\",\"type\":\"Plot\"}},\"id\":\"6491d9b5-8399-4381-90fa-f33b4a545ee1\",\"type\":\"ResizeTool\"},{\"attributes\":{\"max_interval\":500.0,\"num_minor_ticks\":0},\"id\":\"51192f3b-7c15-4a83-9c1e-c43971e28038\",\"type\":\"AdaptiveTicker\"},{\"attributes\":{\"plot\":{\"id\":\"09a7f360-f9f1-44fa-b043-360460e5e413\",\"subtype\":\"Chart\",\"type\":\"Plot\"}},\"id\":\"2b35e54a-602d-4992-aab7-87f2dabdc63c\",\"type\":\"PanTool\"},{\"attributes\":{\"axis_label\":\"Date an issue was reported\",\"formatter\":{\"id\":\"1275aac1-2edc-4d3c-b411-d7301b55ad30\",\"type\":\"DatetimeTickFormatter\"},\"plot\":{\"id\":\"2d15a852-304f-45b2-9770-b8af765f9800\",\"subtype\":\"Chart\",\"type\":\"Plot\"},\"ticker\":{\"id\":\"3443e263-d983-44a1-b232-1b655655d55d\",\"type\":\"DatetimeTicker\"}},\"id\":\"06f3cfc6-2c8f-411f-bd0b-de3ae9de6a1e\",\"type\":\"DatetimeAxis\"},{\"attributes\":{\"base\":60,\"mantissas\":[1,2,5,10,15,20,30],\"max_interval\":1800000.0,\"min_interval\":1000.0,\"num_minor_ticks\":0},\"id\":\"f43310c9-6938-4262-9b1a-f4c486fa6856\",\"type\":\"AdaptiveTicker\"},{\"attributes\":{\"plot\":{\"id\":\"2d15a852-304f-45b2-9770-b8af765f9800\",\"subtype\":\"Chart\",\"type\":\"Plot\"},\"ticker\":{\"id\":\"3443e263-d983-44a1-b232-1b655655d55d\",\"type\":\"DatetimeTicker\"}},\"id\":\"b305bb79-28ba-4dd2-b14a-075b0c2e0131\",\"type\":\"Grid\"},{\"attributes\":{\"callback\":null,\"column_names\":[\"x_values\",\"y_values\"],\"data\":{\"chart_index\":[null,null,null,null,null,null,null,null,null,null,null,null,null,null,null,null,null,null,null,null,null,null,null,null,null,null,null,null,null,null,null,null,null,null,null,null,null,null,null,null,null,null,null,null,null,null,null,null,null,null,null,null,null,null,null,null,null,null,null,null,null,null,null,null,null,null,null,null,null,null,null,null,null,null,null,null,null,null,null,null,null,null,null,null,null,null,null,null,null,null,null,null,null,null,null,null,null,null,null,null,null,null,null,null,null,null,null,null,null,null,null,null,null,null,null,null,null,null,null,null,null,null,null,null,null,null,null,null,null,null,null,null,null,null,null,null,null,null,null,null,null,null,null,null,null,null,null,null,null,null,null,null,null,null,null,null,null,null,null,null,null,null,null,null,null,null,null,null,null,null,null,null,null,null,null,null,null,null,null,null,null,null,null,null,null,null,null,null,null,null,null,null,null,null,null,null,null,null,null,null,null,null,null,null,null,null,null,null,null,null,null,null,null,null,null,null,null,null,null,null,null,null,null,null,null,null,null,null,null,null,null,null,null,null,null,null,null,null,null,null,null,null,null,null,null,null,null,null,null,null,null,null,null,null,null,null,null,null,null,null,null,null,null,null,null,null,null,null,null,null,null,null,null,null,null,null,null,null,null,null,null,null,null,null,null,null,null,null,null,null,null,null,null,null,null,null,null,null,null,null,null,null,null,null,null,null,null,null,null,null,null,null,null,null,null,null,null,null,null,null,null,null,null,null,null,null,null,null,null,null,null,null,null,null,null,null,null,null,null,null,null,null,null,null,null,null,null,null,null,null,null,null,null,null,null,null,null,null,null,null,null,null,null,null,null,null,null,null,null,null,null,null,null,null,null,null,null,null,null,null,null,null,null,null,null,null,null,null,null,null,null,null,null,null,null,null,null,null,null,null,null,null,null,null,null,null,null,null,null,null,null,null,null,null,null,null,null,null,null,null,null,null,null,null,null,null,null,null,null,null,null,null,null,null,null,null,null,null,null,null,null,null,null,null,null,null,null,null,null,null,null,null,null,null,null,null,null,null,null,null,null,null,null,null,null,null,null,null,null,null,null,null,null,null,null,null,null,null,null,null,null,null,null,null,null,null,null,null,null,null,null,null,null,null,null,null,null,null,null,null,null,null,null,null,null,null,null,null,null,null,null,null,null,null,null,null,null,null,null,null,null,null,null,null,null,null,null,null,null,null,null,null,null,null,null,null,null,null,null,null,null,null,null,null,null,null,null,null,null,null,null,null,null,null,null,null,null,null,null,null,null,null,null,null,null,null,null,null,null,null,null,null,null,null,null,null,null,null,null,null,null,null,null,null,null,null,null,null,null,null,null,null,null,null,null,null,null,null,null,null,null,null,null,null,null,null,null,null,null,null,null,null,null,null,null,null,null,null,null,null,null,null,null,null,null,null,null,null,null,null,null,null,null,null,null,null,null,null,null,null,null,null,null,null,null,null,null,null,null,null,null,null,null,null,null,null,null,null,null,null,null,null,null,null,null,null,null,null,null,null,null,null,null,null,null,null,null,null,null,null,null,null,null,null,null,null,null,null,null,null,null,null,null,null,null,null,null,null,null,null,null,null,null,null,null,null,null,null,null,null,null,null,null,null,null,null,null,null,null,null,null,null,null,null,null,null,null,null,null,null,null,null,null,null,null,null,null,null,null,null,null,null,null,null,null,null,null,null,null,null,null,null,null,null,null,null,null,null,null,null,null,null,null,null,null,null,null,null,null,null,null,null,null,null,null,null,null,null,null,null,null,null,null,null,null,null,null,null,null,null,null,null,null,null,null,null,null,null,null,null,null,null,null,null,null,null,null,null,null],\"x_values\":[1388620800000.0,1388707200000.0,1388966400000.0,1389052800000.0,1389139200000.0,1389312000000.0,1389571200000.0,1389657600000.0,1389744000000.0,1389830400000.0,1389916800000.0,1390176000000.0,1390262400000.0,1390348800000.0,1390435200000.0,1390521600000.0,1390780800000.0,1390867200000.0,1390953600000.0,1391040000000.0,1391126400000.0,1391385600000.0,1391472000000.0,1391558400000.0,1391644800000.0,1391731200000.0,1391990400000.0,1392076800000.0,1392163200000.0,1392249600000.0,1392336000000.0,1392508800000.0,1392595200000.0,1392681600000.0,1392768000000.0,1392854400000.0,1392940800000.0,1393027200000.0,1393200000000.0,1393286400000.0,1393372800000.0,1393459200000.0,1393545600000.0,1393804800000.0,1393891200000.0,1393977600000.0,1394064000000.0,1394150400000.0,1394236800000.0,1394409600000.0,1394496000000.0,1394582400000.0,1394668800000.0,1394755200000.0,1394841600000.0,1395014400000.0,1395100800000.0,1395187200000.0,1395273600000.0,1395360000000.0,1395446400000.0,1395532800000.0,1395619200000.0,1395705600000.0,1395792000000.0,1395878400000.0,1395964800000.0,1396051200000.0,1396137600000.0,1396224000000.0,1396310400000.0,1396396800000.0,1396483200000.0,1396569600000.0,1396656000000.0,1396742400000.0,1396828800000.0,1396915200000.0,1397001600000.0,1397088000000.0,1397174400000.0,1397260800000.0,1397347200000.0,1397433600000.0,1397520000000.0,1397606400000.0,1397692800000.0,1397779200000.0,1397865600000.0,1397952000000.0,1398038400000.0,1398124800000.0,1398211200000.0,1398297600000.0,1398384000000.0,1398470400000.0,1398556800000.0,1398643200000.0,1398729600000.0,1398816000000.0,1398902400000.0,1398988800000.0,1399075200000.0,1399161600000.0,1399248000000.0,1399334400000.0,1399420800000.0,1399507200000.0,1399593600000.0,1399680000000.0,1399766400000.0,1399852800000.0,1399939200000.0,1400025600000.0,1400112000000.0,1400198400000.0,1400284800000.0,1400371200000.0,1400457600000.0,1400544000000.0,1400630400000.0,1400716800000.0,1400803200000.0,1400889600000.0,1400976000000.0,1401062400000.0,1401148800000.0,1401235200000.0,1401321600000.0,1401408000000.0,1401494400000.0,1401580800000.0,1401667200000.0,1401753600000.0,1401840000000.0,1401926400000.0,1402012800000.0,1402099200000.0,1402185600000.0,1402272000000.0,1402358400000.0,1402444800000.0,1402531200000.0,1402617600000.0,1402704000000.0,1402790400000.0,1402876800000.0,1402963200000.0,1403049600000.0,1403136000000.0,1403222400000.0,1403308800000.0,1403395200000.0,1403481600000.0,1403568000000.0,1403654400000.0,1403740800000.0,1403827200000.0,1403913600000.0,1404000000000.0,1404086400000.0,1404172800000.0,1404259200000.0,1404345600000.0,1404432000000.0,1404518400000.0,1404604800000.0,1404691200000.0,1404777600000.0,1404864000000.0,1404950400000.0,1405036800000.0,1405123200000.0,1405209600000.0,1405296000000.0,1405382400000.0,1405468800000.0,1405555200000.0,1405641600000.0,1405728000000.0,1405814400000.0,1405900800000.0,1405987200000.0,1406073600000.0,1406160000000.0,1406246400000.0,1406332800000.0,1406419200000.0,1406505600000.0,1406592000000.0,1406678400000.0,1406764800000.0,1406851200000.0,1406937600000.0,1407024000000.0,1407110400000.0,1407196800000.0,1407283200000.0,1407369600000.0,1407456000000.0,1407542400000.0,1407628800000.0,1407715200000.0,1407801600000.0,1407888000000.0,1407974400000.0,1408060800000.0,1408147200000.0,1408233600000.0,1408320000000.0,1408406400000.0,1408492800000.0,1408579200000.0,1408665600000.0,1408752000000.0,1408838400000.0,1408924800000.0,1409011200000.0,1409097600000.0,1409184000000.0,1409270400000.0,1409356800000.0,1409443200000.0,1409529600000.0,1409616000000.0,1409702400000.0,1409788800000.0,1409875200000.0,1409961600000.0,1410048000000.0,1410134400000.0,1410220800000.0,1410307200000.0,1410393600000.0,1410480000000.0,1410566400000.0,1410652800000.0,1410739200000.0,1410825600000.0,1410912000000.0,1410998400000.0,1411084800000.0,1411171200000.0,1411257600000.0,1411344000000.0,1411430400000.0,1411516800000.0,1411603200000.0,1411689600000.0,1411776000000.0,1411862400000.0,1411948800000.0,1412035200000.0,1412121600000.0,1412208000000.0,1412294400000.0,1412380800000.0,1412467200000.0,1412553600000.0,1412640000000.0,1412726400000.0,1412812800000.0,1412899200000.0,1412985600000.0,1413072000000.0,1413158400000.0,1413244800000.0,1413331200000.0,1413417600000.0,1413504000000.0,1413590400000.0,1413676800000.0,1413763200000.0,1413849600000.0,1413936000000.0,1414022400000.0,1414108800000.0,1414195200000.0,1414281600000.0,1414368000000.0,1414454400000.0,1414540800000.0,1414627200000.0,1414713600000.0,1414800000000.0,1414886400000.0,1414972800000.0,1415059200000.0,1415145600000.0,1415232000000.0,1415318400000.0,1415404800000.0,1415491200000.0,1415577600000.0,1415664000000.0,1415750400000.0,1415836800000.0,1415923200000.0,1416009600000.0,1416096000000.0,1416182400000.0,1416268800000.0,1416355200000.0,1416441600000.0,1416528000000.0,1416614400000.0,1416700800000.0,1416787200000.0,1416873600000.0,1416960000000.0,1417046400000.0,1417132800000.0,1417219200000.0,1417305600000.0,1417392000000.0,1417478400000.0,1417564800000.0,1417651200000.0,1417737600000.0,1417824000000.0,1417910400000.0,1417996800000.0,1418083200000.0,1418169600000.0,1418256000000.0,1418342400000.0,1418428800000.0,1418515200000.0,1418601600000.0,1418688000000.0,1418774400000.0,1418860800000.0,1418947200000.0,1419033600000.0,1419120000000.0,1419206400000.0,1419292800000.0,1419379200000.0,1419465600000.0,1419552000000.0,1419638400000.0,1419724800000.0,1419811200000.0,1419897600000.0,1419984000000.0,1420070400000.0,1420156800000.0,1420243200000.0,1420329600000.0,1420416000000.0,1420502400000.0,1420588800000.0,1420675200000.0,1420761600000.0,1420848000000.0,1420934400000.0,1421020800000.0,1421107200000.0,1421193600000.0,1421280000000.0,1421366400000.0,1421452800000.0,1421539200000.0,1421625600000.0,1421712000000.0,1421798400000.0,1421884800000.0,1421971200000.0,1422057600000.0,1422144000000.0,1422230400000.0,1422316800000.0,1422403200000.0,1422489600000.0,1422576000000.0,1422662400000.0,1422748800000.0,1422835200000.0,1422921600000.0,1423008000000.0,1423094400000.0,1423180800000.0,1423267200000.0,1423353600000.0,1423440000000.0,1423526400000.0,1423612800000.0,1423699200000.0,1423785600000.0,1423872000000.0,1423958400000.0,1424044800000.0,1424131200000.0,1424217600000.0,1424304000000.0,1424390400000.0,1424476800000.0,1424563200000.0,1424649600000.0,1424736000000.0,1424822400000.0,1424908800000.0,1424995200000.0,1425081600000.0,1425168000000.0,1425254400000.0,1425340800000.0,1425427200000.0,1425513600000.0,1425600000000.0,1425686400000.0,1425772800000.0,1425859200000.0,1425945600000.0,1426032000000.0,1426118400000.0,1426204800000.0,1426291200000.0,1426377600000.0,1426464000000.0,1426550400000.0,1426636800000.0,1426723200000.0,1426809600000.0,1426896000000.0,1426982400000.0,1427068800000.0,1427155200000.0,1427241600000.0,1427328000000.0,1427414400000.0,1427500800000.0,1427587200000.0,1427673600000.0,1427760000000.0,1427846400000.0,1427932800000.0,1428019200000.0,1428105600000.0,1428192000000.0,1428278400000.0,1428364800000.0,1428451200000.0,1428537600000.0,1428624000000.0,1428710400000.0,1428796800000.0,1428883200000.0,1428969600000.0,1429056000000.0,1429142400000.0,1429228800000.0,1429315200000.0,1429401600000.0,1429488000000.0,1429574400000.0,1429660800000.0,1429747200000.0,1429833600000.0,1429920000000.0,1430006400000.0,1430092800000.0,1430179200000.0,1430265600000.0,1430352000000.0,1430438400000.0,1430524800000.0,1430611200000.0,1430697600000.0,1430784000000.0,1430870400000.0,1430956800000.0,1431043200000.0,1431129600000.0,1431216000000.0,1431302400000.0,1431388800000.0,1431475200000.0,1431561600000.0,1431648000000.0,1431734400000.0,1431820800000.0,1431907200000.0,1431993600000.0,1432080000000.0,1432166400000.0,1432252800000.0,1432339200000.0,1432425600000.0,1432512000000.0,1432598400000.0,1432684800000.0,1432771200000.0,1432857600000.0,1432944000000.0,1433030400000.0,1433116800000.0,1433203200000.0,1433289600000.0,1433376000000.0,1433462400000.0,1433548800000.0,1433635200000.0,1433721600000.0,1433808000000.0,1433894400000.0,1433980800000.0,1434067200000.0,1434153600000.0,1434240000000.0,1434326400000.0,1434412800000.0,1434499200000.0,1434585600000.0,1434672000000.0,1434758400000.0,1434844800000.0,1434931200000.0,1435017600000.0,1435104000000.0,1435190400000.0,1435276800000.0,1435363200000.0,1435449600000.0,1435536000000.0,1435622400000.0,1435708800000.0,1435795200000.0,1435881600000.0,1435968000000.0,1436054400000.0,1436140800000.0,1436227200000.0,1436313600000.0,1436400000000.0,1436486400000.0,1436572800000.0,1436659200000.0,1436745600000.0,1436832000000.0,1436918400000.0,1437004800000.0,1437091200000.0,1437177600000.0,1437264000000.0,1437350400000.0,1437436800000.0,1437523200000.0,1437609600000.0,1437696000000.0,1437782400000.0,1437868800000.0,1437955200000.0,1438041600000.0,1438128000000.0,1438214400000.0,1438300800000.0,1438387200000.0,1438473600000.0,1438560000000.0,1438646400000.0,1438732800000.0,1438819200000.0,1438905600000.0,1438992000000.0,1439078400000.0,1439164800000.0,1439251200000.0,1439337600000.0,1439424000000.0,1439510400000.0,1439596800000.0,1439683200000.0,1439769600000.0,1439856000000.0,1439942400000.0,1440028800000.0,1440115200000.0,1440201600000.0,1440288000000.0,1440374400000.0,1440460800000.0,1440547200000.0,1440633600000.0,1440720000000.0,1440806400000.0,1440892800000.0,1440979200000.0,1441065600000.0,1441152000000.0,1441238400000.0,1441324800000.0,1441411200000.0,1441497600000.0,1441584000000.0,1441670400000.0,1441756800000.0,1441843200000.0,1441929600000.0,1442016000000.0,1442102400000.0,1442188800000.0,1442275200000.0,1442361600000.0,1442448000000.0,1442534400000.0,1442620800000.0,1442707200000.0,1442793600000.0,1442880000000.0,1442966400000.0,1443052800000.0,1443139200000.0,1443225600000.0,1443312000000.0,1443398400000.0,1443484800000.0,1443571200000.0,1443657600000.0,1443744000000.0,1443830400000.0,1443916800000.0,1444003200000.0,1444089600000.0,1444176000000.0,1444262400000.0,1444348800000.0,1444435200000.0,1444521600000.0,1444608000000.0,1444694400000.0,1444780800000.0,1444867200000.0,1444953600000.0,1445040000000.0,1445126400000.0,1445212800000.0,1445299200000.0,1445385600000.0,1445472000000.0,1445558400000.0,1445644800000.0,1445731200000.0,1445817600000.0,1445904000000.0,1445990400000.0,1446076800000.0,1446163200000.0,1446249600000.0,1446336000000.0,1446422400000.0,1446508800000.0,1446595200000.0,1446681600000.0,1446768000000.0,1446854400000.0,1446940800000.0,1447027200000.0,1447113600000.0,1447200000000.0,1447286400000.0,1447372800000.0,1447459200000.0,1447545600000.0,1447632000000.0,1447718400000.0,1447804800000.0,1447891200000.0,1447977600000.0,1448064000000.0,1448150400000.0,1448236800000.0,1448323200000.0,1448409600000.0,1448496000000.0,1448582400000.0,1448668800000.0,1448755200000.0,1448841600000.0,1448928000000.0,1449014400000.0,1449100800000.0,1449187200000.0,1449273600000.0,1449360000000.0,1449446400000.0,1449532800000.0,1449619200000.0,1449705600000.0,1449792000000.0,1449878400000.0,1449964800000.0,1450051200000.0,1450137600000.0,1450224000000.0,1450310400000.0,1450396800000.0,1450483200000.0,1450569600000.0,1450656000000.0,1450742400000.0,1450828800000.0,1450915200000.0,1451001600000.0,1451088000000.0,1451174400000.0,1451260800000.0,1451347200000.0,1451433600000.0,1451520000000.0,1451606400000.0,1451692800000.0,1451779200000.0,1451865600000.0,1451952000000.0,1452038400000.0,1452124800000.0,1452211200000.0,1452297600000.0,1452384000000.0,1452470400000.0,1452556800000.0,1452643200000.0,1452729600000.0,1452816000000.0,1452902400000.0,1452988800000.0,1453075200000.0,1453161600000.0,1453248000000.0,1453334400000.0,1453420800000.0,1453507200000.0,1453593600000.0,1453680000000.0,1453766400000.0,1453852800000.0,1453939200000.0,1454025600000.0,1454112000000.0,1454198400000.0,1454284800000.0,1454371200000.0,1454457600000.0,1454544000000.0,1454630400000.0,1454716800000.0,1454803200000.0,1454889600000.0,1454976000000.0,1455062400000.0,1455148800000.0,1455235200000.0,1455321600000.0,1455408000000.0,1455494400000.0,1455580800000.0,1455667200000.0,1455753600000.0,1455840000000.0,1455926400000.0,1456012800000.0,1456099200000.0,1456185600000.0,1456272000000.0,1456358400000.0,1456444800000.0,1456531200000.0,1456617600000.0,1456704000000.0,1456790400000.0,1456876800000.0,1456963200000.0,1457049600000.0,1457136000000.0,1457222400000.0,1457308800000.0,1457395200000.0,1457481600000.0,1457568000000.0,1457654400000.0,1457740800000.0,1457827200000.0,1457913600000.0,1458000000000.0,1458086400000.0,1458172800000.0,1458259200000.0,1458345600000.0,1458432000000.0,1458518400000.0,1458604800000.0,1458691200000.0,1458777600000.0,1458864000000.0,1458950400000.0,1459036800000.0,1459123200000.0,1459209600000.0,1459296000000.0,1459382400000.0,1459468800000.0,1459555200000.0,1459641600000.0,1459728000000.0,1459814400000.0,1459900800000.0,1459987200000.0,1460073600000.0],\"y_values\":[2,2,6,5,4,3,6,2,1,10,3,16,10,8,4,7,19,11,11,11,12,7,6,21,23,23,27,24,31,39,23,1,30,25,21,21,21,5,30,36,26,35,39,24,41,64,62,50,11,86,68,95,75,60,6,115,100,122,120,114,4,4,160,169,152,140,155,5,2,241,265,226,215,190,13,8,362,256,210,254,204,33,13,288,247,236,186,21,21,17,22,282,233,232,206,14,11,290,255,236,222,170,22,19,19,286,192,199,186,22,8,318,194,193,204,156,15,8,210,217,225,40,264,15,13,17,259,203,176,191,15,6,310,229,253,189,196,23,11,266,182,202,191,165,9,11,252,182,194,206,220,18,13,262,207,219,210,207,9,10,296,207,210,186,182,28,13,272,240,149,188,172,8,3,238,210,178,190,176,22,12,247,248,196,184,179,14,4,234,213,195,177,166,9,10,290,192,204,183,155,8,12,260,232,184,178,161,25,4,278,177,205,166,189,20,10,13,284,230,181,198,11,4,273,236,174,186,177,11,7,258,232,173,160,176,11,13,283,211,187,192,176,25,10,317,277,214,173,182,15,7,229,213,153,203,193,18,10,366,276,243,261,211,20,22,388,262,248,190,206,16,13,293,252,234,201,198,19,13,344,269,191,191,234,21,17,297,283,257,258,220,24,12,344,307,273,292,207,29,18,329,283,265,272,247,18,6,297,277,251,280,178,12,10,310,277,282,264,233,28,18,335,247,239,272,241,19,22,266,231,174,199,215,19,10,276,158,102,9,18,31,22,72,60,31,14,349,26,24,425,351,287,273,271,25,15,349,309,341,370,287,32,15,405,344,336,313,266,15,11,384,265,233,286,279,14,10,439,339,294,307,300,23,16,393,276,235,253,157,19,17,315,318,256,202,219,18,15,337,247,262,203,194,26,18,211,283,222,173,185,14,15,216,197,235,174,163,14,9,276,203,165,201,173,14,2,228,190,219,188,182,12,7,241,229,205,225,19,8,3,5,301,325,297,250,6,7,321,336,303,300,215,13,9,293,265,344,255,190,9,7,335,266,283,267,221,12,20,6,341,303,236,243,7,5,298,258,229,267,216,16,7,301,253,231,202,241,10,8,5,292,199,205,159,1,9,286,265,198,187,150,5,9,250,260,234,170,199,13,10,260,243,188,173,186,14,8,288,225,165,202,206,7,3,284,228,225,217,171,2,5,266,253,237,198,213,8,13,274,204,206,206,237,5,1,300,207,233,191,237,9,12,291,243,235,198,172,14,16,234,198,227,190,227,6,6,307,257,262,220,199,15,2,312,231,221,218,216,26,6,280,269,230,199,175,3,11,6,355,211,224,229,8,11,247,254,253,191,168,8,14,310,225,233,258,201,12,10,344,263,254,191,202,6,6,265,248,234,245,206,5,2,318,263,227,246,220,18,10,267,221,269,226,220,8,6,311,248,224,247,220,4,15,303,258,230,222,218,8,5,343,284,219,254,186,7,28,341,268,253,228,247,19,24,342,366,191,256,272,26,21,400,258,291,245,279,82,15,332,290,283,283,219,17,20,343,318,282,288,235,17,18,310,286,304,188,236,30,29,316,298,228,113,19,9,34,19,40,65,25,24,41,26,521,419,384,363,366,21,52,420,399,461,353,368,19,48,438,311,468,266,296,16,10,442,349,311,347,252,23,27,428,319,304,304,302,3,42,406,353,325,327,307,22,21,406,371,363,301,285,31,14,373,346,298,232,262,20,10,322,305,269,206,215,19,32,337,265,294,229,203,43,20,303,212,203,183,187,18,22,195,182,139,138,17,13,23,18,159,110,122,80,3,4,131,94,69,61,33]}},\"id\":\"6f7d13f1-2974-4f84-b7e3-34abb2ae257e\",\"type\":\"ColumnDataSource\"},{\"attributes\":{\"base\":24,\"mantissas\":[1,2,4,6,8,12],\"max_interval\":43200000.0,\"min_interval\":3600000.0,\"num_minor_ticks\":0},\"id\":\"e5557ad7-ac61-47db-8ad5-cb130ac03abe\",\"type\":\"AdaptiveTicker\"},{\"attributes\":{\"months\":[0,1,2,3,4,5,6,7,8,9,10,11]},\"id\":\"041f2e24-17bf-4970-bfd1-74add1683b4d\",\"type\":\"MonthsTicker\"},{\"attributes\":{\"bottom_units\":\"screen\",\"fill_alpha\":{\"value\":0.5},\"fill_color\":{\"value\":\"lightgrey\"},\"left_units\":\"screen\",\"level\":\"overlay\",\"line_alpha\":{\"value\":1.0},\"line_color\":{\"value\":\"black\"},\"line_dash\":[4,4],\"line_width\":{\"value\":2},\"plot\":null,\"render_mode\":\"css\",\"right_units\":\"screen\",\"top_units\":\"screen\"},\"id\":\"84115f17-8871-48bc-97e8-b774dfb57097\",\"type\":\"BoxAnnotation\"},{\"attributes\":{},\"id\":\"9443582a-6cb2-4ef8-b11f-af4af0a8e3d6\",\"type\":\"DatetimeTicker\"},{\"attributes\":{\"months\":[0,2,4,6,8,10]},\"id\":\"c6d3f902-4093-4c77-9f2b-bdc975946fc0\",\"type\":\"MonthsTicker\"},{\"attributes\":{\"plot\":{\"id\":\"09a7f360-f9f1-44fa-b043-360460e5e413\",\"subtype\":\"Chart\",\"type\":\"Plot\"}},\"id\":\"989666ca-73da-4702-a036-07396a6947f9\",\"type\":\"ResetTool\"},{\"attributes\":{\"callback\":null,\"end\":573.0,\"start\":-51.0},\"id\":\"e9a182dd-7fde-46b7-9937-99c27f339f75\",\"type\":\"Range1d\"},{\"attributes\":{\"days\":[1,15]},\"id\":\"f1d64efb-3084-4cad-a5d8-d0b41ef4a573\",\"type\":\"DaysTicker\"},{\"attributes\":{\"data_source\":{\"id\":\"cabe779e-e199-4fa7-8c15-f8ecac431600\",\"type\":\"ColumnDataSource\"},\"glyph\":{\"id\":\"624cfa9d-43dd-41db-a91e-98b4a859c12f\",\"type\":\"Line\"},\"hover_glyph\":null,\"nonselection_glyph\":null,\"selection_glyph\":null},\"id\":\"3cfbb57a-39c5-42d0-9c6a-8c771cab103d\",\"type\":\"GlyphRenderer\"},{\"attributes\":{\"days\":[1,4,7,10,13,16,19,22,25,28]},\"id\":\"089ae3bd-593e-4b4e-979e-38e493350491\",\"type\":\"DaysTicker\"}],\"root_ids\":[\"2d15a852-304f-45b2-9770-b8af765f9800\",\"09a7f360-f9f1-44fa-b043-360460e5e413\"]},\"title\":\"Bokeh Application\",\"version\":\"0.11.1\"}};\n",
       "            var render_items = [{\"docid\":\"efc87af6-977b-46ae-af9b-4b5e93606a9e\",\"elementid\":\"b0c1648d-6665-4735-aa73-73e423878607\",\"modelid\":\"09a7f360-f9f1-44fa-b043-360460e5e413\",\"notebook_comms_target\":\"fa9f1d24-50a4-4a69-b961-7598360b0bb9\"}];\n",
       "            \n",
       "            Bokeh.embed.embed_items(docs_json, render_items);\n",
       "        });\n",
       "      },\n",
       "      function(Bokeh) {\n",
       "      }\n",
       "    ];\n",
       "  \n",
       "    function run_inline_js() {\n",
       "      for (var i = 0; i < inline_js.length; i++) {\n",
       "        inline_js[i](window.Bokeh);\n",
       "      }\n",
       "    }\n",
       "  \n",
       "    if (window._bokeh_is_loading === 0) {\n",
       "      console.log(\"Bokeh: BokehJS loaded, going straight to plotting\");\n",
       "      run_inline_js();\n",
       "    } else {\n",
       "      load_libs(js_urls, function() {\n",
       "        console.log(\"Bokeh: BokehJS plotting callback run at\", now());\n",
       "        run_inline_js();\n",
       "      });\n",
       "    }\n",
       "  }(this));\n",
       "</script>"
      ]
     },
     "metadata": {},
     "output_type": "display_data"
    },
    {
     "data": {
      "text/html": [
       "<p><code>&lt;Bokeh Notebook handle for <strong>In[7]</strong>&gt;</code></p>"
      ],
      "text/plain": [
       "<bokeh.io._CommsHandle at 0x7fb06fe5ca90>"
      ]
     },
     "execution_count": 7,
     "metadata": {},
     "output_type": "execute_result"
    }
   ],
   "source": [
    "daily_repairs_plot = Line(join_daily_repairs, x='logged-date', y='number of repairs', color='blue', \n",
    "                          title='Number of repairs between 2014 and 2016',\n",
    "                          xlabel=\"Date an issue was reported\", plot_width=1000)\n",
    "\n",
    "output_file(\"data/plots/ts-allrepairs-2014-to-2016.html\")\n",
    "\n",
    "output_notebook()\n",
    "\n",
    "show(daily_repairs_plot)"
   ]
  },
  {
   "cell_type": "code",
   "execution_count": 9,
   "metadata": {
    "collapsed": true
   },
   "outputs": [],
   "source": [
    "year_month = {1: 'January', 2: 'February', 3: 'March', 4: 'April', 5: 'May', 6: 'June',\n",
    "              7: 'July', 8: 'August', 9: 'September', 10: 'October', 11: 'November', 12: 'December'}"
   ]
  },
  {
   "cell_type": "code",
   "execution_count": 10,
   "metadata": {
    "collapsed": false
   },
   "outputs": [],
   "source": [
    "def daily_to_monthly_counts(df):\n",
    "    df['logged-date'] = [pd.to_datetime(d) for d in df['logged-date']]\n",
    "    df['logged month'] = pd.DatetimeIndex(df['logged-date']).to_period('M')\n",
    "    df['logged month'] = [year_month.get(d) for d in df['logged month'].dt.month]\n",
    "    tmp_df = df.drop(['logged-date'], axis=1)\n",
    "    monthly_counts = tmp_df.groupby('logged month', as_index=False).sum()\n",
    "    return monthly_counts"
   ]
  },
  {
   "cell_type": "code",
   "execution_count": 11,
   "metadata": {
    "collapsed": false
   },
   "outputs": [],
   "source": [
    "monthly_counts_2014_df = daily_to_monthly_counts(counts_2014_df).rename(columns={'number of repairs': \n",
    "                                                                                 'number of repairs in 2014'})\n",
    "\n",
    "monthly_counts_2015_df = daily_to_monthly_counts(counts_2015_df).rename(columns={'number of repairs': \n",
    "                                                                                 'number of repairs in 2015'})\n",
    "\n",
    "monthly_counts_2016_df = daily_to_monthly_counts(counts_2016_df).rename(columns={'number of repairs': \n",
    "                                                                                 'number of repairs in 2016'})"
   ]
  },
  {
   "cell_type": "code",
   "execution_count": 12,
   "metadata": {
    "collapsed": false
   },
   "outputs": [],
   "source": [
    "#monthly_counts_2014_df"
   ]
  },
  {
   "cell_type": "code",
   "execution_count": 13,
   "metadata": {
    "collapsed": false
   },
   "outputs": [],
   "source": [
    "joined_df = pd.merge(monthly_counts_2014_df, monthly_counts_2015_df, \n",
    "                     on=['logged month', 'logged month'], how='outer')\n",
    "\n",
    "joined_df2 = pd.merge(joined_df, monthly_counts_2016_df, on=['logged month', 'logged month'], how='outer')\n",
    "\n",
    "joined_df2 = joined_df2.fillna(0)"
   ]
  },
  {
   "cell_type": "code",
   "execution_count": 14,
   "metadata": {
    "collapsed": false
   },
   "outputs": [],
   "source": [
    "#joined_df2"
   ]
  },
  {
   "cell_type": "code",
   "execution_count": 15,
   "metadata": {
    "collapsed": false
   },
   "outputs": [],
   "source": [
    "monthly_counts = joined_df2.reindex(index=[4, 3, 7, 0, 8, 6, 5, 1, 11, 10, 9, 2])"
   ]
  },
  {
   "cell_type": "code",
   "execution_count": 16,
   "metadata": {
    "collapsed": false
   },
   "outputs": [],
   "source": [
    "#monthly_counts"
   ]
  },
  {
   "cell_type": "code",
   "execution_count": 17,
   "metadata": {
    "collapsed": false
   },
   "outputs": [],
   "source": [
    "#monthly_counts.plot(x='logged month', y=['number of repairs in 2014', 'number of repairs in 2015', 'number of repairs in 2016'],\n",
    "                    #figsize=(16, 8), title='Number of repairs per months')"
   ]
  },
  {
   "cell_type": "markdown",
   "metadata": {},
   "source": [
    "### Were all the repair events added to the dataset in 2016?"
   ]
  },
  {
   "cell_type": "code",
   "execution_count": null,
   "metadata": {
    "collapsed": true
   },
   "outputs": [],
   "source": []
  }
 ],
 "metadata": {
  "kernelspec": {
   "display_name": "Python 2",
   "language": "python",
   "name": "python2"
  },
  "language_info": {
   "codemirror_mode": {
    "name": "ipython",
    "version": 2
   },
   "file_extension": ".py",
   "mimetype": "text/x-python",
   "name": "python",
   "nbconvert_exporter": "python",
   "pygments_lexer": "ipython2",
   "version": "2.7.6"
  }
 },
 "nbformat": 4,
 "nbformat_minor": 0
}
