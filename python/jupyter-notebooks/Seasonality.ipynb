{
 "cells": [
  {
   "cell_type": "code",
   "execution_count": 1,
   "metadata": {
    "collapsed": true
   },
   "outputs": [],
   "source": [
    "import numpy as np\n",
    "import pandas as pd\n",
    "\n",
    "from matplotlib import pyplot as plt\n",
    "plt.style.use('ggplot')\n",
    "\n",
    "from bokeh.charts import Line, output_file, output_notebook, show"
   ]
  },
  {
   "cell_type": "code",
   "execution_count": 2,
   "metadata": {
    "collapsed": true
   },
   "outputs": [],
   "source": [
    "repairs_2014 = pd.read_csv('data/historical-repairs-2014-merge.csv',\n",
    "                           encoding=\"utf-8\", index_col=False, parse_dates=['logged-date'])\n",
    "\n",
    "repairs_2015 = pd.read_csv('data/historical-repairs-2015-merge.csv',\n",
    "                           encoding=\"utf-8\", index_col=False, parse_dates=['logged-date'])\n",
    "\n",
    "repairs_2016 = pd.read_csv('data/historical-repairs-2016-mini.csv',\n",
    "                           encoding=\"utf-8\", index_col=False, parse_dates=['logged-date']) "
   ]
  },
  {
   "cell_type": "code",
   "execution_count": 3,
   "metadata": {
    "collapsed": true
   },
   "outputs": [],
   "source": [
    "def count_repairs_by_date_all_repairs_df(df):\n",
    "    tmp_df = df.drop(['property-reference', 'repair-number', 'description-for-code'], axis=1)\n",
    "    tmp_df['number of repairs'] = pd.Series([1] * len(tmp_df))\n",
    "    counts = tmp_df.groupby(['logged-date'], as_index=False).sum()\n",
    "    return counts"
   ]
  },
  {
   "cell_type": "code",
   "execution_count": 4,
   "metadata": {
    "collapsed": false
   },
   "outputs": [],
   "source": [
    "counts_2014_df = count_repairs_by_date_all_repairs_df(repairs_2014)\n",
    "\n",
    "counts_2015_df = count_repairs_by_date_all_repairs_df(repairs_2015)\n",
    "\n",
    "counts_2016_df = count_repairs_by_date_all_repairs_df(repairs_2016)"
   ]
  },
  {
   "cell_type": "code",
   "execution_count": 5,
   "metadata": {
    "collapsed": false
   },
   "outputs": [],
   "source": [
    "#counts_2015_df.head()"
   ]
  },
  {
   "cell_type": "code",
   "execution_count": 6,
   "metadata": {
    "collapsed": false
   },
   "outputs": [],
   "source": [
    "#counts_2016_df.head()"
   ]
  },
  {
   "cell_type": "code",
   "execution_count": 7,
   "metadata": {
    "collapsed": true
   },
   "outputs": [],
   "source": [
    "join_daily_repairs = pd.concat([counts_2014_df, counts_2015_df, counts_2016_df])"
   ]
  },
  {
   "cell_type": "code",
   "execution_count": 8,
   "metadata": {
    "collapsed": false
   },
   "outputs": [
    {
     "data": {
      "text/html": [
       "\n",
       "    <div class=\"bk-banner\">\n",
       "        <a href=\"http://bokeh.pydata.org\" target=\"_blank\" class=\"bk-logo bk-logo-small bk-logo-notebook\"></a>\n",
       "        <span id=\"2e6e0d8c-ad43-45b9-8f13-cfa14f25f2aa\">Loading BokehJS ...</span>\n",
       "    </div>"
      ]
     },
     "metadata": {},
     "output_type": "display_data"
    },
    {
     "data": {
      "application/javascript": [
       "\n",
       "(function(global) {\n",
       "  function now() {\n",
       "    return new Date();\n",
       "  }\n",
       "\n",
       "  if (typeof (window._bokeh_onload_callbacks) === \"undefined\") {\n",
       "    window._bokeh_onload_callbacks = [];\n",
       "  }\n",
       "\n",
       "  function run_callbacks() {\n",
       "    window._bokeh_onload_callbacks.forEach(function(callback) { callback() });\n",
       "    delete window._bokeh_onload_callbacks\n",
       "    console.info(\"Bokeh: all callbacks have finished\");\n",
       "  }\n",
       "\n",
       "  function load_libs(js_urls, callback) {\n",
       "    window._bokeh_onload_callbacks.push(callback);\n",
       "    if (window._bokeh_is_loading > 0) {\n",
       "      console.log(\"Bokeh: BokehJS is being loaded, scheduling callback at\", now());\n",
       "      return null;\n",
       "    }\n",
       "    if (js_urls == null || js_urls.length === 0) {\n",
       "      run_callbacks();\n",
       "      return null;\n",
       "    }\n",
       "    console.log(\"Bokeh: BokehJS not loaded, scheduling load and callback at\", now());\n",
       "    window._bokeh_is_loading = js_urls.length;\n",
       "    for (var i = 0; i < js_urls.length; i++) {\n",
       "      var url = js_urls[i];\n",
       "      var s = document.createElement('script');\n",
       "      s.src = url;\n",
       "      s.async = false;\n",
       "      s.onreadystatechange = s.onload = function() {\n",
       "        window._bokeh_is_loading--;\n",
       "        if (window._bokeh_is_loading === 0) {\n",
       "          console.log(\"Bokeh: all BokehJS libraries loaded\");\n",
       "          run_callbacks()\n",
       "        }\n",
       "      };\n",
       "      s.onerror = function() {\n",
       "        console.warn(\"failed to load library \" + url);\n",
       "      };\n",
       "      console.log(\"Bokeh: injecting script tag for BokehJS library: \", url);\n",
       "      document.getElementsByTagName(\"head\")[0].appendChild(s);\n",
       "    }\n",
       "  };\n",
       "\n",
       "  var js_urls = ['https://cdn.pydata.org/bokeh/release/bokeh-0.11.1.min.js', 'https://cdn.pydata.org/bokeh/release/bokeh-widgets-0.11.1.min.js', 'https://cdn.pydata.org/bokeh/release/bokeh-compiler-0.11.1.min.js'];\n",
       "\n",
       "  var inline_js = [\n",
       "    function(Bokeh) {\n",
       "      Bokeh.set_log_level(\"info\");\n",
       "    },\n",
       "    \n",
       "    function(Bokeh) {\n",
       "      Bokeh.$(\"#2e6e0d8c-ad43-45b9-8f13-cfa14f25f2aa\").text(\"BokehJS successfully loaded\");\n",
       "    },\n",
       "    function(Bokeh) {\n",
       "      console.log(\"Bokeh: injecting CSS: https://cdn.pydata.org/bokeh/release/bokeh-0.11.1.min.css\");\n",
       "      Bokeh.embed.inject_css(\"https://cdn.pydata.org/bokeh/release/bokeh-0.11.1.min.css\");\n",
       "      console.log(\"Bokeh: injecting CSS: https://cdn.pydata.org/bokeh/release/bokeh-widgets-0.11.1.min.css\");\n",
       "      Bokeh.embed.inject_css(\"https://cdn.pydata.org/bokeh/release/bokeh-widgets-0.11.1.min.css\");\n",
       "    }\n",
       "  ];\n",
       "\n",
       "  function run_inline_js() {\n",
       "    for (var i = 0; i < inline_js.length; i++) {\n",
       "      inline_js[i](window.Bokeh);\n",
       "    }\n",
       "  }\n",
       "\n",
       "  if (window._bokeh_is_loading === 0) {\n",
       "    console.log(\"Bokeh: BokehJS loaded, going straight to plotting\");\n",
       "    run_inline_js();\n",
       "  } else {\n",
       "    load_libs(js_urls, function() {\n",
       "      console.log(\"Bokeh: BokehJS plotting callback run at\", now());\n",
       "      run_inline_js();\n",
       "    });\n",
       "  }\n",
       "}(this));"
      ]
     },
     "metadata": {},
     "output_type": "display_data"
    },
    {
     "data": {
      "text/html": [
       "\n",
       "\n",
       "    <div class=\"plotdiv\" id=\"a810b9e6-09d1-491e-aac6-bc1e08f99ac8\"></div>\n",
       "<script type=\"text/javascript\">\n",
       "  \n",
       "  (function(global) {\n",
       "    function now() {\n",
       "      return new Date();\n",
       "    }\n",
       "  \n",
       "    if (typeof (window._bokeh_onload_callbacks) === \"undefined\") {\n",
       "      window._bokeh_onload_callbacks = [];\n",
       "    }\n",
       "  \n",
       "    function run_callbacks() {\n",
       "      window._bokeh_onload_callbacks.forEach(function(callback) { callback() });\n",
       "      delete window._bokeh_onload_callbacks\n",
       "      console.info(\"Bokeh: all callbacks have finished\");\n",
       "    }\n",
       "  \n",
       "    function load_libs(js_urls, callback) {\n",
       "      window._bokeh_onload_callbacks.push(callback);\n",
       "      if (window._bokeh_is_loading > 0) {\n",
       "        console.log(\"Bokeh: BokehJS is being loaded, scheduling callback at\", now());\n",
       "        return null;\n",
       "      }\n",
       "      if (js_urls == null || js_urls.length === 0) {\n",
       "        run_callbacks();\n",
       "        return null;\n",
       "      }\n",
       "      console.log(\"Bokeh: BokehJS not loaded, scheduling load and callback at\", now());\n",
       "      window._bokeh_is_loading = js_urls.length;\n",
       "      for (var i = 0; i < js_urls.length; i++) {\n",
       "        var url = js_urls[i];\n",
       "        var s = document.createElement('script');\n",
       "        s.src = url;\n",
       "        s.async = false;\n",
       "        s.onreadystatechange = s.onload = function() {\n",
       "          window._bokeh_is_loading--;\n",
       "          if (window._bokeh_is_loading === 0) {\n",
       "            console.log(\"Bokeh: all BokehJS libraries loaded\");\n",
       "            run_callbacks()\n",
       "          }\n",
       "        };\n",
       "        s.onerror = function() {\n",
       "          console.warn(\"failed to load library \" + url);\n",
       "        };\n",
       "        console.log(\"Bokeh: injecting script tag for BokehJS library: \", url);\n",
       "        document.getElementsByTagName(\"head\")[0].appendChild(s);\n",
       "      }\n",
       "    };var element = document.getElementById(\"a810b9e6-09d1-491e-aac6-bc1e08f99ac8\");\n",
       "    if (element == null) {\n",
       "      console.log(\"Bokeh: ERROR: autoload.js configured with elementid 'a810b9e6-09d1-491e-aac6-bc1e08f99ac8' but no matching script tag was found. \")\n",
       "      return false;\n",
       "    }\n",
       "  \n",
       "    var js_urls = [];\n",
       "  \n",
       "    var inline_js = [\n",
       "      function(Bokeh) {\n",
       "        Bokeh.$(function() {\n",
       "            var docs_json = {\"0844bc9c-ad4f-4d14-9ef8-49319dc4e1c9\":{\"roots\":{\"references\":[{\"attributes\":{\"plot\":{\"id\":\"fed5bda6-186e-47ff-9179-aa631f9ee886\",\"subtype\":\"Chart\",\"type\":\"Plot\"},\"ticker\":{\"id\":\"2bbb6512-2d1c-4d23-a9f2-68814daa969e\",\"type\":\"DatetimeTicker\"}},\"id\":\"ac910048-c3c0-43de-a0e3-fc5a8f2a68d4\",\"type\":\"Grid\"},{\"attributes\":{\"plot\":{\"id\":\"fed5bda6-186e-47ff-9179-aa631f9ee886\",\"subtype\":\"Chart\",\"type\":\"Plot\"}},\"id\":\"7a0e9222-7832-47c7-b52c-ff45e029deee\",\"type\":\"ResetTool\"},{\"attributes\":{\"plot\":{\"id\":\"fed5bda6-186e-47ff-9179-aa631f9ee886\",\"subtype\":\"Chart\",\"type\":\"Plot\"}},\"id\":\"c7f194f6-06b7-4f73-9987-3ffacbf5bf50\",\"type\":\"PreviewSaveTool\"},{\"attributes\":{\"days\":[1,8,15,22]},\"id\":\"fdf0a309-d07e-4569-9119-4fc6b9da472a\",\"type\":\"DaysTicker\"},{\"attributes\":{\"axis_label\":\"number of repairs\",\"formatter\":{\"id\":\"780b8be7-e3fe-4b0b-a89e-82b942bdbabc\",\"type\":\"BasicTickFormatter\"},\"plot\":{\"id\":\"fed5bda6-186e-47ff-9179-aa631f9ee886\",\"subtype\":\"Chart\",\"type\":\"Plot\"},\"ticker\":{\"id\":\"6a1b3001-baf0-4693-9ff2-18e21a9ae891\",\"type\":\"BasicTicker\"}},\"id\":\"ae473a7f-472a-44f9-88d5-d0a3dbca9be6\",\"type\":\"LinearAxis\"},{\"attributes\":{\"days\":[1,15]},\"id\":\"59af34a3-7cf3-4558-a322-fc26f4192230\",\"type\":\"DaysTicker\"},{\"attributes\":{\"plot\":{\"id\":\"fed5bda6-186e-47ff-9179-aa631f9ee886\",\"subtype\":\"Chart\",\"type\":\"Plot\"}},\"id\":\"5e03132a-e163-40a5-9f04-1deff87945e8\",\"type\":\"WheelZoomTool\"},{\"attributes\":{\"below\":[{\"id\":\"bbb9cc83-367c-41b5-8963-e2dd0d4cd3d8\",\"type\":\"DatetimeAxis\"}],\"left\":[{\"id\":\"ae473a7f-472a-44f9-88d5-d0a3dbca9be6\",\"type\":\"LinearAxis\"}],\"legend\":null,\"plot_width\":1000,\"renderers\":[{\"id\":\"7f4ce421-3283-458d-a8d4-383fa8073074\",\"type\":\"BoxAnnotation\"},{\"id\":\"059c9392-91af-41ca-a1d7-b289f611394b\",\"type\":\"GlyphRenderer\"},{\"id\":\"bbb9cc83-367c-41b5-8963-e2dd0d4cd3d8\",\"type\":\"DatetimeAxis\"},{\"id\":\"ae473a7f-472a-44f9-88d5-d0a3dbca9be6\",\"type\":\"LinearAxis\"},{\"id\":\"ac910048-c3c0-43de-a0e3-fc5a8f2a68d4\",\"type\":\"Grid\"},{\"id\":\"0f447aaa-0002-4e3d-8f8e-66443681c7ba\",\"type\":\"Grid\"}],\"title\":\"Number of repairs between 2014 and 2016\",\"title_text_font_size\":{\"value\":\"14pt\"},\"tool_events\":{\"id\":\"0056fc49-9eb7-4fa1-aa42-6311b9a749f2\",\"type\":\"ToolEvents\"},\"tools\":[{\"id\":\"b0d67509-978f-4707-91a3-96bfc66de67e\",\"type\":\"PanTool\"},{\"id\":\"5e03132a-e163-40a5-9f04-1deff87945e8\",\"type\":\"WheelZoomTool\"},{\"id\":\"9be671eb-6edb-4e0a-b2e9-a379652d8aee\",\"type\":\"BoxZoomTool\"},{\"id\":\"c7f194f6-06b7-4f73-9987-3ffacbf5bf50\",\"type\":\"PreviewSaveTool\"},{\"id\":\"357fe420-cf6f-422d-8c61-f995ca6ff6a0\",\"type\":\"ResizeTool\"},{\"id\":\"7a0e9222-7832-47c7-b52c-ff45e029deee\",\"type\":\"ResetTool\"},{\"id\":\"21e3fd06-9776-4ffb-ba82-f1939f15f091\",\"type\":\"HelpTool\"}],\"x_mapper_type\":\"auto\",\"x_range\":{\"id\":\"6fe88317-d546-4e48-bb80-1840d6b08c34\",\"type\":\"Range1d\"},\"xscale\":\"auto\",\"y_mapper_type\":\"auto\",\"y_range\":{\"id\":\"c24414c6-0644-4229-8236-b17c7972193c\",\"type\":\"Range1d\"},\"yscale\":\"auto\"},\"id\":\"fed5bda6-186e-47ff-9179-aa631f9ee886\",\"subtype\":\"Chart\",\"type\":\"Plot\"},{\"attributes\":{\"plot\":{\"id\":\"fed5bda6-186e-47ff-9179-aa631f9ee886\",\"subtype\":\"Chart\",\"type\":\"Plot\"}},\"id\":\"b0d67509-978f-4707-91a3-96bfc66de67e\",\"type\":\"PanTool\"},{\"attributes\":{},\"id\":\"780b8be7-e3fe-4b0b-a89e-82b942bdbabc\",\"type\":\"BasicTickFormatter\"},{\"attributes\":{},\"id\":\"0056fc49-9eb7-4fa1-aa42-6311b9a749f2\",\"type\":\"ToolEvents\"},{\"attributes\":{\"max_interval\":500.0,\"num_minor_ticks\":0},\"id\":\"11abba62-c3ea-4570-9cd0-90197e93d4e6\",\"type\":\"AdaptiveTicker\"},{\"attributes\":{\"plot\":{\"id\":\"fed5bda6-186e-47ff-9179-aa631f9ee886\",\"subtype\":\"Chart\",\"type\":\"Plot\"}},\"id\":\"357fe420-cf6f-422d-8c61-f995ca6ff6a0\",\"type\":\"ResizeTool\"},{\"attributes\":{\"axis_label\":\"Date an issue was reported\",\"formatter\":{\"id\":\"9d947be3-4d10-4774-ab87-0e634a8ae7c7\",\"type\":\"DatetimeTickFormatter\"},\"plot\":{\"id\":\"fed5bda6-186e-47ff-9179-aa631f9ee886\",\"subtype\":\"Chart\",\"type\":\"Plot\"},\"ticker\":{\"id\":\"2bbb6512-2d1c-4d23-a9f2-68814daa969e\",\"type\":\"DatetimeTicker\"}},\"id\":\"bbb9cc83-367c-41b5-8963-e2dd0d4cd3d8\",\"type\":\"DatetimeAxis\"},{\"attributes\":{\"line_color\":{\"value\":\"blue\"},\"line_width\":{\"value\":2},\"x\":{\"field\":\"x_values\"},\"y\":{\"field\":\"y_values\"}},\"id\":\"e6460a6d-8b52-447d-8f08-6e956ec69249\",\"type\":\"Line\"},{\"attributes\":{\"callback\":null,\"end\":1460073600000.0,\"start\":1388620800000.0},\"id\":\"6fe88317-d546-4e48-bb80-1840d6b08c34\",\"type\":\"Range1d\"},{\"attributes\":{},\"id\":\"a067e3f1-c18a-4dd8-8f24-a5bc1df6557e\",\"type\":\"YearsTicker\"},{\"attributes\":{\"data_source\":{\"id\":\"9df023d8-934e-4561-a342-c2bb89d8476c\",\"type\":\"ColumnDataSource\"},\"glyph\":{\"id\":\"e6460a6d-8b52-447d-8f08-6e956ec69249\",\"type\":\"Line\"},\"hover_glyph\":null,\"nonselection_glyph\":null,\"selection_glyph\":null},\"id\":\"059c9392-91af-41ca-a1d7-b289f611394b\",\"type\":\"GlyphRenderer\"},{\"attributes\":{\"months\":[0,2,4,6,8,10]},\"id\":\"9280074c-8c82-46a5-b51d-2f310daaa523\",\"type\":\"MonthsTicker\"},{\"attributes\":{},\"id\":\"6a1b3001-baf0-4693-9ff2-18e21a9ae891\",\"type\":\"BasicTicker\"},{\"attributes\":{\"base\":60,\"mantissas\":[1,2,5,10,15,20,30],\"max_interval\":1800000.0,\"min_interval\":1000.0,\"num_minor_ticks\":0},\"id\":\"fe0492a2-ba04-4d50-aa53-ee643a70c728\",\"type\":\"AdaptiveTicker\"},{\"attributes\":{},\"id\":\"2bbb6512-2d1c-4d23-a9f2-68814daa969e\",\"type\":\"DatetimeTicker\"},{\"attributes\":{\"days\":[1,4,7,10,13,16,19,22,25,28]},\"id\":\"7312d2ce-a514-4722-b0a8-f273d90492a9\",\"type\":\"DaysTicker\"},{\"attributes\":{\"bottom_units\":\"screen\",\"fill_alpha\":{\"value\":0.5},\"fill_color\":{\"value\":\"lightgrey\"},\"left_units\":\"screen\",\"level\":\"overlay\",\"line_alpha\":{\"value\":1.0},\"line_color\":{\"value\":\"black\"},\"line_dash\":[4,4],\"line_width\":{\"value\":2},\"plot\":null,\"render_mode\":\"css\",\"right_units\":\"screen\",\"top_units\":\"screen\"},\"id\":\"7f4ce421-3283-458d-a8d4-383fa8073074\",\"type\":\"BoxAnnotation\"},{\"attributes\":{\"months\":[0,6]},\"id\":\"b10f589c-f4eb-4800-87af-e1b116a92925\",\"type\":\"MonthsTicker\"},{\"attributes\":{\"callback\":null,\"column_names\":[\"x_values\",\"y_values\"],\"data\":{\"chart_index\":[null,null,null,null,null,null,null,null,null,null,null,null,null,null,null,null,null,null,null,null,null,null,null,null,null,null,null,null,null,null,null,null,null,null,null,null,null,null,null,null,null,null,null,null,null,null,null,null,null,null,null,null,null,null,null,null,null,null,null,null,null,null,null,null,null,null,null,null,null,null,null,null,null,null,null,null,null,null,null,null,null,null,null,null,null,null,null,null,null,null,null,null,null,null,null,null,null,null,null,null,null,null,null,null,null,null,null,null,null,null,null,null,null,null,null,null,null,null,null,null,null,null,null,null,null,null,null,null,null,null,null,null,null,null,null,null,null,null,null,null,null,null,null,null,null,null,null,null,null,null,null,null,null,null,null,null,null,null,null,null,null,null,null,null,null,null,null,null,null,null,null,null,null,null,null,null,null,null,null,null,null,null,null,null,null,null,null,null,null,null,null,null,null,null,null,null,null,null,null,null,null,null,null,null,null,null,null,null,null,null,null,null,null,null,null,null,null,null,null,null,null,null,null,null,null,null,null,null,null,null,null,null,null,null,null,null,null,null,null,null,null,null,null,null,null,null,null,null,null,null,null,null,null,null,null,null,null,null,null,null,null,null,null,null,null,null,null,null,null,null,null,null,null,null,null,null,null,null,null,null,null,null,null,null,null,null,null,null,null,null,null,null,null,null,null,null,null,null,null,null,null,null,null,null,null,null,null,null,null,null,null,null,null,null,null,null,null,null,null,null,null,null,null,null,null,null,null,null,null,null,null,null,null,null,null,null,null,null,null,null,null,null,null,null,null,null,null,null,null,null,null,null,null,null,null,null,null,null,null,null,null,null,null,null,null,null,null,null,null,null,null,null,null,null,null,null,null,null,null,null,null,null,null,null,null,null,null,null,null,null,null,null,null,null,null,null,null,null,null,null,null,null,null,null,null,null,null,null,null,null,null,null,null,null,null,null,null,null,null,null,null,null,null,null,null,null,null,null,null,null,null,null,null,null,null,null,null,null,null,null,null,null,null,null,null,null,null,null,null,null,null,null,null,null,null,null,null,null,null,null,null,null,null,null,null,null,null,null,null,null,null,null,null,null,null,null,null,null,null,null,null,null,null,null,null,null,null,null,null,null,null,null,null,null,null,null,null,null,null,null,null,null,null,null,null,null,null,null,null,null,null,null,null,null,null,null,null,null,null,null,null,null,null,null,null,null,null,null,null,null,null,null,null,null,null,null,null,null,null,null,null,null,null,null,null,null,null,null,null,null,null,null,null,null,null,null,null,null,null,null,null,null,null,null,null,null,null,null,null,null,null,null,null,null,null,null,null,null,null,null,null,null,null,null,null,null,null,null,null,null,null,null,null,null,null,null,null,null,null,null,null,null,null,null,null,null,null,null,null,null,null,null,null,null,null,null,null,null,null,null,null,null,null,null,null,null,null,null,null,null,null,null,null,null,null,null,null,null,null,null,null,null,null,null,null,null,null,null,null,null,null,null,null,null,null,null,null,null,null,null,null,null,null,null,null,null,null,null,null,null,null,null,null,null,null,null,null,null,null,null,null,null,null,null,null,null,null,null,null,null,null,null,null,null,null,null,null,null,null,null,null,null,null,null,null,null,null,null,null,null,null,null,null,null,null,null,null,null,null,null,null,null,null,null,null,null,null,null,null,null,null,null,null,null,null,null,null,null,null,null,null,null,null,null,null,null,null,null,null,null,null,null,null,null,null,null,null,null,null,null,null,null,null,null,null,null,null,null,null,null,null,null,null,null,null,null,null,null,null,null,null,null,null,null,null,null,null,null,null,null,null,null,null,null,null,null,null,null,null,null,null,null,null,null,null,null,null,null,null],\"x_values\":[1388620800000.0,1388707200000.0,1388966400000.0,1389052800000.0,1389139200000.0,1389312000000.0,1389571200000.0,1389657600000.0,1389744000000.0,1389830400000.0,1389916800000.0,1390176000000.0,1390262400000.0,1390348800000.0,1390435200000.0,1390521600000.0,1390780800000.0,1390867200000.0,1390953600000.0,1391040000000.0,1391126400000.0,1391385600000.0,1391472000000.0,1391558400000.0,1391644800000.0,1391731200000.0,1391990400000.0,1392076800000.0,1392163200000.0,1392249600000.0,1392336000000.0,1392508800000.0,1392595200000.0,1392681600000.0,1392768000000.0,1392854400000.0,1392940800000.0,1393027200000.0,1393200000000.0,1393286400000.0,1393372800000.0,1393459200000.0,1393545600000.0,1393804800000.0,1393891200000.0,1393977600000.0,1394064000000.0,1394150400000.0,1394236800000.0,1394409600000.0,1394496000000.0,1394582400000.0,1394668800000.0,1394755200000.0,1394841600000.0,1395014400000.0,1395100800000.0,1395187200000.0,1395273600000.0,1395360000000.0,1395446400000.0,1395532800000.0,1395619200000.0,1395705600000.0,1395792000000.0,1395878400000.0,1395964800000.0,1396051200000.0,1396137600000.0,1396224000000.0,1396310400000.0,1396396800000.0,1396483200000.0,1396569600000.0,1396656000000.0,1396742400000.0,1396828800000.0,1396915200000.0,1397001600000.0,1397088000000.0,1397174400000.0,1397260800000.0,1397347200000.0,1397433600000.0,1397520000000.0,1397606400000.0,1397692800000.0,1397779200000.0,1397865600000.0,1397952000000.0,1398038400000.0,1398124800000.0,1398211200000.0,1398297600000.0,1398384000000.0,1398470400000.0,1398556800000.0,1398643200000.0,1398729600000.0,1398816000000.0,1398902400000.0,1398988800000.0,1399075200000.0,1399161600000.0,1399248000000.0,1399334400000.0,1399420800000.0,1399507200000.0,1399593600000.0,1399680000000.0,1399766400000.0,1399852800000.0,1399939200000.0,1400025600000.0,1400112000000.0,1400198400000.0,1400284800000.0,1400371200000.0,1400457600000.0,1400544000000.0,1400630400000.0,1400716800000.0,1400803200000.0,1400889600000.0,1400976000000.0,1401062400000.0,1401148800000.0,1401235200000.0,1401321600000.0,1401408000000.0,1401494400000.0,1401580800000.0,1401667200000.0,1401753600000.0,1401840000000.0,1401926400000.0,1402012800000.0,1402099200000.0,1402185600000.0,1402272000000.0,1402358400000.0,1402444800000.0,1402531200000.0,1402617600000.0,1402704000000.0,1402790400000.0,1402876800000.0,1402963200000.0,1403049600000.0,1403136000000.0,1403222400000.0,1403308800000.0,1403395200000.0,1403481600000.0,1403568000000.0,1403654400000.0,1403740800000.0,1403827200000.0,1403913600000.0,1404000000000.0,1404086400000.0,1404172800000.0,1404259200000.0,1404345600000.0,1404432000000.0,1404518400000.0,1404604800000.0,1404691200000.0,1404777600000.0,1404864000000.0,1404950400000.0,1405036800000.0,1405123200000.0,1405209600000.0,1405296000000.0,1405382400000.0,1405468800000.0,1405555200000.0,1405641600000.0,1405728000000.0,1405814400000.0,1405900800000.0,1405987200000.0,1406073600000.0,1406160000000.0,1406246400000.0,1406332800000.0,1406419200000.0,1406505600000.0,1406592000000.0,1406678400000.0,1406764800000.0,1406851200000.0,1406937600000.0,1407024000000.0,1407110400000.0,1407196800000.0,1407283200000.0,1407369600000.0,1407456000000.0,1407542400000.0,1407628800000.0,1407715200000.0,1407801600000.0,1407888000000.0,1407974400000.0,1408060800000.0,1408147200000.0,1408233600000.0,1408320000000.0,1408406400000.0,1408492800000.0,1408579200000.0,1408665600000.0,1408752000000.0,1408838400000.0,1408924800000.0,1409011200000.0,1409097600000.0,1409184000000.0,1409270400000.0,1409356800000.0,1409443200000.0,1409529600000.0,1409616000000.0,1409702400000.0,1409788800000.0,1409875200000.0,1409961600000.0,1410048000000.0,1410134400000.0,1410220800000.0,1410307200000.0,1410393600000.0,1410480000000.0,1410566400000.0,1410652800000.0,1410739200000.0,1410825600000.0,1410912000000.0,1410998400000.0,1411084800000.0,1411171200000.0,1411257600000.0,1411344000000.0,1411430400000.0,1411516800000.0,1411603200000.0,1411689600000.0,1411776000000.0,1411862400000.0,1411948800000.0,1412035200000.0,1412121600000.0,1412208000000.0,1412294400000.0,1412380800000.0,1412467200000.0,1412553600000.0,1412640000000.0,1412726400000.0,1412812800000.0,1412899200000.0,1412985600000.0,1413072000000.0,1413158400000.0,1413244800000.0,1413331200000.0,1413417600000.0,1413504000000.0,1413590400000.0,1413676800000.0,1413763200000.0,1413849600000.0,1413936000000.0,1414022400000.0,1414108800000.0,1414195200000.0,1414281600000.0,1414368000000.0,1414454400000.0,1414540800000.0,1414627200000.0,1414713600000.0,1414800000000.0,1414886400000.0,1414972800000.0,1415059200000.0,1415145600000.0,1415232000000.0,1415318400000.0,1415404800000.0,1415491200000.0,1415577600000.0,1415664000000.0,1415750400000.0,1415836800000.0,1415923200000.0,1416009600000.0,1416096000000.0,1416182400000.0,1416268800000.0,1416355200000.0,1416441600000.0,1416528000000.0,1416614400000.0,1416700800000.0,1416787200000.0,1416873600000.0,1416960000000.0,1417046400000.0,1417132800000.0,1417219200000.0,1417305600000.0,1417392000000.0,1417478400000.0,1417564800000.0,1417651200000.0,1417737600000.0,1417824000000.0,1417910400000.0,1417996800000.0,1418083200000.0,1418169600000.0,1418256000000.0,1418342400000.0,1418428800000.0,1418515200000.0,1418601600000.0,1418688000000.0,1418774400000.0,1418860800000.0,1418947200000.0,1419033600000.0,1419120000000.0,1419206400000.0,1419292800000.0,1419379200000.0,1419465600000.0,1419552000000.0,1419638400000.0,1419724800000.0,1419811200000.0,1419897600000.0,1419984000000.0,1420070400000.0,1420156800000.0,1420243200000.0,1420329600000.0,1420416000000.0,1420502400000.0,1420588800000.0,1420675200000.0,1420761600000.0,1420848000000.0,1420934400000.0,1421020800000.0,1421107200000.0,1421193600000.0,1421280000000.0,1421366400000.0,1421452800000.0,1421539200000.0,1421625600000.0,1421712000000.0,1421798400000.0,1421884800000.0,1421971200000.0,1422057600000.0,1422144000000.0,1422230400000.0,1422316800000.0,1422403200000.0,1422489600000.0,1422576000000.0,1422662400000.0,1422748800000.0,1422835200000.0,1422921600000.0,1423008000000.0,1423094400000.0,1423180800000.0,1423267200000.0,1423353600000.0,1423440000000.0,1423526400000.0,1423612800000.0,1423699200000.0,1423785600000.0,1423872000000.0,1423958400000.0,1424044800000.0,1424131200000.0,1424217600000.0,1424304000000.0,1424390400000.0,1424476800000.0,1424563200000.0,1424649600000.0,1424736000000.0,1424822400000.0,1424908800000.0,1424995200000.0,1425081600000.0,1425168000000.0,1425254400000.0,1425340800000.0,1425427200000.0,1425513600000.0,1425600000000.0,1425686400000.0,1425772800000.0,1425859200000.0,1425945600000.0,1426032000000.0,1426118400000.0,1426204800000.0,1426291200000.0,1426377600000.0,1426464000000.0,1426550400000.0,1426636800000.0,1426723200000.0,1426809600000.0,1426896000000.0,1426982400000.0,1427068800000.0,1427155200000.0,1427241600000.0,1427328000000.0,1427414400000.0,1427500800000.0,1427587200000.0,1427673600000.0,1427760000000.0,1427846400000.0,1427932800000.0,1428019200000.0,1428105600000.0,1428192000000.0,1428278400000.0,1428364800000.0,1428451200000.0,1428537600000.0,1428624000000.0,1428710400000.0,1428796800000.0,1428883200000.0,1428969600000.0,1429056000000.0,1429142400000.0,1429228800000.0,1429315200000.0,1429401600000.0,1429488000000.0,1429574400000.0,1429660800000.0,1429747200000.0,1429833600000.0,1429920000000.0,1430006400000.0,1430092800000.0,1430179200000.0,1430265600000.0,1430352000000.0,1430438400000.0,1430524800000.0,1430611200000.0,1430697600000.0,1430784000000.0,1430870400000.0,1430956800000.0,1431043200000.0,1431129600000.0,1431216000000.0,1431302400000.0,1431388800000.0,1431475200000.0,1431561600000.0,1431648000000.0,1431734400000.0,1431820800000.0,1431907200000.0,1431993600000.0,1432080000000.0,1432166400000.0,1432252800000.0,1432339200000.0,1432425600000.0,1432512000000.0,1432598400000.0,1432684800000.0,1432771200000.0,1432857600000.0,1432944000000.0,1433030400000.0,1433116800000.0,1433203200000.0,1433289600000.0,1433376000000.0,1433462400000.0,1433548800000.0,1433635200000.0,1433721600000.0,1433808000000.0,1433894400000.0,1433980800000.0,1434067200000.0,1434153600000.0,1434240000000.0,1434326400000.0,1434412800000.0,1434499200000.0,1434585600000.0,1434672000000.0,1434758400000.0,1434844800000.0,1434931200000.0,1435017600000.0,1435104000000.0,1435190400000.0,1435276800000.0,1435363200000.0,1435449600000.0,1435536000000.0,1435622400000.0,1435708800000.0,1435795200000.0,1435881600000.0,1435968000000.0,1436054400000.0,1436140800000.0,1436227200000.0,1436313600000.0,1436400000000.0,1436486400000.0,1436572800000.0,1436659200000.0,1436745600000.0,1436832000000.0,1436918400000.0,1437004800000.0,1437091200000.0,1437177600000.0,1437264000000.0,1437350400000.0,1437436800000.0,1437523200000.0,1437609600000.0,1437696000000.0,1437782400000.0,1437868800000.0,1437955200000.0,1438041600000.0,1438128000000.0,1438214400000.0,1438300800000.0,1438387200000.0,1438473600000.0,1438560000000.0,1438646400000.0,1438732800000.0,1438819200000.0,1438905600000.0,1438992000000.0,1439078400000.0,1439164800000.0,1439251200000.0,1439337600000.0,1439424000000.0,1439510400000.0,1439596800000.0,1439683200000.0,1439769600000.0,1439856000000.0,1439942400000.0,1440028800000.0,1440115200000.0,1440201600000.0,1440288000000.0,1440374400000.0,1440460800000.0,1440547200000.0,1440633600000.0,1440720000000.0,1440806400000.0,1440892800000.0,1440979200000.0,1441065600000.0,1441152000000.0,1441238400000.0,1441324800000.0,1441411200000.0,1441497600000.0,1441584000000.0,1441670400000.0,1441756800000.0,1441843200000.0,1441929600000.0,1442016000000.0,1442102400000.0,1442188800000.0,1442275200000.0,1442361600000.0,1442448000000.0,1442534400000.0,1442620800000.0,1442707200000.0,1442793600000.0,1442880000000.0,1442966400000.0,1443052800000.0,1443139200000.0,1443225600000.0,1443312000000.0,1443398400000.0,1443484800000.0,1443571200000.0,1443657600000.0,1443744000000.0,1443830400000.0,1443916800000.0,1444003200000.0,1444089600000.0,1444176000000.0,1444262400000.0,1444348800000.0,1444435200000.0,1444521600000.0,1444608000000.0,1444694400000.0,1444780800000.0,1444867200000.0,1444953600000.0,1445040000000.0,1445126400000.0,1445212800000.0,1445299200000.0,1445385600000.0,1445472000000.0,1445558400000.0,1445644800000.0,1445731200000.0,1445817600000.0,1445904000000.0,1445990400000.0,1446076800000.0,1446163200000.0,1446249600000.0,1446336000000.0,1446422400000.0,1446508800000.0,1446595200000.0,1446681600000.0,1446768000000.0,1446854400000.0,1446940800000.0,1447027200000.0,1447113600000.0,1447200000000.0,1447286400000.0,1447372800000.0,1447459200000.0,1447545600000.0,1447632000000.0,1447718400000.0,1447804800000.0,1447891200000.0,1447977600000.0,1448064000000.0,1448150400000.0,1448236800000.0,1448323200000.0,1448409600000.0,1448496000000.0,1448582400000.0,1448668800000.0,1448755200000.0,1448841600000.0,1448928000000.0,1449014400000.0,1449100800000.0,1449187200000.0,1449273600000.0,1449360000000.0,1449446400000.0,1449532800000.0,1449619200000.0,1449705600000.0,1449792000000.0,1449878400000.0,1449964800000.0,1450051200000.0,1450137600000.0,1450224000000.0,1450310400000.0,1450396800000.0,1450483200000.0,1450569600000.0,1450656000000.0,1450742400000.0,1450828800000.0,1450915200000.0,1451001600000.0,1451088000000.0,1451174400000.0,1451260800000.0,1451347200000.0,1451433600000.0,1451520000000.0,1451606400000.0,1451692800000.0,1451779200000.0,1451865600000.0,1451952000000.0,1452038400000.0,1452124800000.0,1452211200000.0,1452297600000.0,1452384000000.0,1452470400000.0,1452556800000.0,1452643200000.0,1452729600000.0,1452816000000.0,1452902400000.0,1452988800000.0,1453075200000.0,1453161600000.0,1453248000000.0,1453334400000.0,1453420800000.0,1453507200000.0,1453593600000.0,1453680000000.0,1453766400000.0,1453852800000.0,1453939200000.0,1454025600000.0,1454112000000.0,1454198400000.0,1454284800000.0,1454371200000.0,1454457600000.0,1454544000000.0,1454630400000.0,1454716800000.0,1454803200000.0,1454889600000.0,1454976000000.0,1455062400000.0,1455148800000.0,1455235200000.0,1455321600000.0,1455408000000.0,1455494400000.0,1455580800000.0,1455667200000.0,1455753600000.0,1455840000000.0,1455926400000.0,1456012800000.0,1456099200000.0,1456185600000.0,1456272000000.0,1456358400000.0,1456444800000.0,1456531200000.0,1456617600000.0,1456704000000.0,1456790400000.0,1456876800000.0,1456963200000.0,1457049600000.0,1457136000000.0,1457222400000.0,1457308800000.0,1457395200000.0,1457481600000.0,1457568000000.0,1457654400000.0,1457740800000.0,1457827200000.0,1457913600000.0,1458000000000.0,1458086400000.0,1458172800000.0,1458259200000.0,1458345600000.0,1458432000000.0,1458518400000.0,1458604800000.0,1458691200000.0,1458777600000.0,1458864000000.0,1458950400000.0,1459036800000.0,1459123200000.0,1459209600000.0,1459296000000.0,1459382400000.0,1459468800000.0,1459555200000.0,1459641600000.0,1459728000000.0,1459814400000.0,1459900800000.0,1459987200000.0,1460073600000.0],\"y_values\":[2,2,6,5,4,3,6,2,1,10,3,16,10,8,4,7,19,11,11,11,12,7,6,21,23,23,27,24,31,39,23,1,30,25,21,21,21,5,30,36,26,35,39,24,41,64,62,50,11,86,68,95,75,60,6,115,100,122,120,114,4,4,160,169,152,140,155,5,2,241,265,226,215,190,13,8,362,256,210,254,204,33,13,288,247,236,186,21,21,17,22,282,233,232,206,14,11,290,255,236,222,170,22,19,19,286,192,199,186,22,8,318,194,193,204,156,15,8,210,217,225,40,264,15,13,17,259,203,176,191,15,6,310,229,253,189,196,23,11,266,182,202,191,165,9,11,252,182,194,206,220,18,13,262,207,219,210,207,9,10,296,207,210,186,182,28,13,272,240,149,188,172,8,3,238,210,178,190,176,22,12,247,248,196,184,179,14,4,234,213,195,177,166,9,10,290,192,204,183,155,8,12,260,232,184,178,161,25,4,278,177,205,166,189,20,10,13,284,230,181,198,11,4,273,236,174,186,177,11,7,258,232,173,160,176,11,13,283,211,187,192,176,25,10,317,277,214,173,182,15,7,229,213,153,203,193,18,10,366,276,243,261,211,20,22,388,262,248,190,206,16,13,293,252,234,201,198,19,13,344,269,191,191,234,21,17,297,283,257,258,220,24,12,344,307,273,292,207,29,18,329,283,265,272,247,18,6,297,277,251,280,178,12,10,310,277,282,264,233,28,18,335,247,239,272,241,19,22,266,231,174,199,215,19,10,276,158,102,9,18,31,22,72,60,31,14,349,26,24,425,351,287,273,271,25,15,349,309,341,370,287,32,15,405,344,336,313,266,15,11,384,265,233,286,279,14,10,439,339,294,307,300,23,16,393,276,235,253,157,19,17,315,318,256,202,219,18,15,337,247,262,203,194,26,18,211,283,222,173,185,14,15,216,197,235,174,163,14,9,276,203,165,201,173,14,2,228,190,219,188,182,12,7,241,229,205,225,19,8,3,5,301,325,297,250,6,7,321,336,303,300,215,13,9,293,265,344,255,190,9,7,335,266,283,267,221,12,20,6,341,303,236,243,7,5,298,258,229,267,216,16,7,301,253,231,202,241,10,8,5,292,199,205,159,1,9,286,265,198,187,150,5,9,250,260,234,170,199,13,10,260,243,188,173,186,14,8,288,225,165,202,206,7,3,284,228,225,217,171,2,5,266,253,237,198,213,8,13,274,204,206,206,237,5,1,300,207,233,191,237,9,12,291,243,235,198,172,14,16,234,198,227,190,227,6,6,307,257,262,220,199,15,2,312,231,221,218,216,26,6,280,269,230,199,175,3,11,6,355,211,224,229,8,11,247,254,253,191,168,8,14,310,225,233,258,201,12,10,344,263,254,191,202,6,6,265,248,234,245,206,5,2,318,263,227,246,220,18,10,267,221,269,226,220,8,6,311,248,224,247,220,4,15,303,258,230,222,218,8,5,343,284,219,254,186,7,28,341,268,253,228,247,19,24,342,366,191,256,272,26,21,400,258,291,245,279,82,15,332,290,283,283,219,17,20,343,318,282,288,235,17,18,310,286,304,188,236,30,29,316,298,228,113,19,9,34,19,40,65,25,24,41,26,521,419,384,363,366,21,52,420,399,461,353,368,19,48,438,311,468,266,296,16,10,442,349,311,347,252,23,27,428,319,304,304,302,3,42,406,353,325,327,307,22,21,406,371,363,301,285,31,14,373,346,298,232,262,20,10,322,305,269,206,215,19,32,337,265,294,229,203,43,20,303,212,203,183,187,18,22,195,182,139,138,17,13,23,18,159,110,122,80,3,4,131,94,69,61,33]}},\"id\":\"9df023d8-934e-4561-a342-c2bb89d8476c\",\"type\":\"ColumnDataSource\"},{\"attributes\":{\"base\":24,\"mantissas\":[1,2,4,6,8,12],\"max_interval\":43200000.0,\"min_interval\":3600000.0,\"num_minor_ticks\":0},\"id\":\"3394682e-fd4c-4834-95e7-1b517737bdec\",\"type\":\"AdaptiveTicker\"},{\"attributes\":{},\"id\":\"9d947be3-4d10-4774-ab87-0e634a8ae7c7\",\"type\":\"DatetimeTickFormatter\"},{\"attributes\":{\"dimension\":1,\"plot\":{\"id\":\"fed5bda6-186e-47ff-9179-aa631f9ee886\",\"subtype\":\"Chart\",\"type\":\"Plot\"},\"ticker\":{\"id\":\"6a1b3001-baf0-4693-9ff2-18e21a9ae891\",\"type\":\"BasicTicker\"}},\"id\":\"0f447aaa-0002-4e3d-8f8e-66443681c7ba\",\"type\":\"Grid\"},{\"attributes\":{\"days\":[1,2,3,4,5,6,7,8,9,10,11,12,13,14,15,16,17,18,19,20,21,22,23,24,25,26,27,28,29,30,31]},\"id\":\"d487a6f4-bdf6-4dde-815d-9afe7cff08eb\",\"type\":\"DaysTicker\"},{\"attributes\":{\"months\":[0,4,8]},\"id\":\"74b56eb3-5b2e-4e64-ad8c-49cbc38a3f5f\",\"type\":\"MonthsTicker\"},{\"attributes\":{\"callback\":null,\"end\":573.0,\"start\":-51.0},\"id\":\"c24414c6-0644-4229-8236-b17c7972193c\",\"type\":\"Range1d\"},{\"attributes\":{\"months\":[0,1,2,3,4,5,6,7,8,9,10,11]},\"id\":\"1d07fae9-be09-4c31-a5e0-d15d31741450\",\"type\":\"MonthsTicker\"},{\"attributes\":{\"overlay\":{\"id\":\"7f4ce421-3283-458d-a8d4-383fa8073074\",\"type\":\"BoxAnnotation\"},\"plot\":{\"id\":\"fed5bda6-186e-47ff-9179-aa631f9ee886\",\"subtype\":\"Chart\",\"type\":\"Plot\"}},\"id\":\"9be671eb-6edb-4e0a-b2e9-a379652d8aee\",\"type\":\"BoxZoomTool\"},{\"attributes\":{\"plot\":{\"id\":\"fed5bda6-186e-47ff-9179-aa631f9ee886\",\"subtype\":\"Chart\",\"type\":\"Plot\"}},\"id\":\"21e3fd06-9776-4ffb-ba82-f1939f15f091\",\"type\":\"HelpTool\"}],\"root_ids\":[\"fed5bda6-186e-47ff-9179-aa631f9ee886\"]},\"title\":\"Bokeh Application\",\"version\":\"0.11.1\"}};\n",
       "            var render_items = [{\"docid\":\"0844bc9c-ad4f-4d14-9ef8-49319dc4e1c9\",\"elementid\":\"a810b9e6-09d1-491e-aac6-bc1e08f99ac8\",\"modelid\":\"fed5bda6-186e-47ff-9179-aa631f9ee886\",\"notebook_comms_target\":\"bdeb72d5-e7b3-403c-a983-d4b8b6294315\"}];\n",
       "            \n",
       "            Bokeh.embed.embed_items(docs_json, render_items);\n",
       "        });\n",
       "      },\n",
       "      function(Bokeh) {\n",
       "      }\n",
       "    ];\n",
       "  \n",
       "    function run_inline_js() {\n",
       "      for (var i = 0; i < inline_js.length; i++) {\n",
       "        inline_js[i](window.Bokeh);\n",
       "      }\n",
       "    }\n",
       "  \n",
       "    if (window._bokeh_is_loading === 0) {\n",
       "      console.log(\"Bokeh: BokehJS loaded, going straight to plotting\");\n",
       "      run_inline_js();\n",
       "    } else {\n",
       "      load_libs(js_urls, function() {\n",
       "        console.log(\"Bokeh: BokehJS plotting callback run at\", now());\n",
       "        run_inline_js();\n",
       "      });\n",
       "    }\n",
       "  }(this));\n",
       "</script>"
      ]
     },
     "metadata": {},
     "output_type": "display_data"
    },
    {
     "data": {
      "text/html": [
       "<p><code>&lt;Bokeh Notebook handle for <strong>In[8]</strong>&gt;</code></p>"
      ],
      "text/plain": [
       "<bokeh.io._CommsHandle at 0x7fc116cd6150>"
      ]
     },
     "execution_count": 8,
     "metadata": {},
     "output_type": "execute_result"
    }
   ],
   "source": [
    "daily_repairs_plot = Line(join_daily_repairs, x='logged-date', y='number of repairs', color='blue', \n",
    "                          title='Number of repairs between 2014 and 2016',\n",
    "                          xlabel=\"Date an issue was reported\", plot_width=1000)\n",
    "\n",
    "output_notebook()\n",
    "\n",
    "show(daily_repairs_plot)"
   ]
  },
  {
   "cell_type": "code",
   "execution_count": 9,
   "metadata": {
    "collapsed": true
   },
   "outputs": [],
   "source": [
    "year_month = {1: 'January', 2: 'February', 3: 'March', 4: 'April', 5: 'May', 6: 'June',\n",
    "              7: 'July', 8: 'August', 9: 'September', 10: 'October', 11: 'November', 12: 'December'}"
   ]
  },
  {
   "cell_type": "code",
   "execution_count": 10,
   "metadata": {
    "collapsed": false
   },
   "outputs": [],
   "source": [
    "def daily_to_monthly_counts(df):\n",
    "    df['logged-date'] = [pd.to_datetime(d) for d in df['logged-date']]\n",
    "    df['logged month'] = pd.DatetimeIndex(df['logged-date']).to_period('M')\n",
    "    df['logged month'] = [year_month.get(d) for d in df['logged month'].dt.month]\n",
    "    tmp_df = df.drop(['logged-date'], axis=1)\n",
    "    monthly_counts = tmp_df.groupby('logged month', as_index=False).sum()\n",
    "    return monthly_counts"
   ]
  },
  {
   "cell_type": "code",
   "execution_count": 11,
   "metadata": {
    "collapsed": false
   },
   "outputs": [],
   "source": [
    "monthly_counts_2014_df = daily_to_monthly_counts(counts_2014_df).rename(columns={'number of repairs': \n",
    "                                                                                 'number of repairs in 2014'})\n",
    "\n",
    "monthly_counts_2015_df = daily_to_monthly_counts(counts_2015_df).rename(columns={'number of repairs': \n",
    "                                                                                 'number of repairs in 2015'})\n",
    "\n",
    "monthly_counts_2016_df = daily_to_monthly_counts(counts_2016_df).rename(columns={'number of repairs': \n",
    "                                                                                 'number of repairs in 2016'})"
   ]
  },
  {
   "cell_type": "code",
   "execution_count": 12,
   "metadata": {
    "collapsed": false
   },
   "outputs": [],
   "source": [
    "#monthly_counts_2014_df"
   ]
  },
  {
   "cell_type": "code",
   "execution_count": 13,
   "metadata": {
    "collapsed": false
   },
   "outputs": [],
   "source": [
    "joined_df = pd.merge(monthly_counts_2014_df, monthly_counts_2015_df, \n",
    "                     on=['logged month', 'logged month'], how='outer')\n",
    "\n",
    "joined_df2 = pd.merge(joined_df, monthly_counts_2016_df, on=['logged month', 'logged month'], how='outer')\n",
    "\n",
    "joined_df2 = joined_df2.fillna(0)"
   ]
  },
  {
   "cell_type": "code",
   "execution_count": 14,
   "metadata": {
    "collapsed": false
   },
   "outputs": [],
   "source": [
    "#joined_df2"
   ]
  },
  {
   "cell_type": "code",
   "execution_count": 15,
   "metadata": {
    "collapsed": false
   },
   "outputs": [],
   "source": [
    "monthly_counts = joined_df2.reindex(index=[4, 3, 7, 0, 8, 6, 5, 1, 11, 10, 9, 2])"
   ]
  },
  {
   "cell_type": "code",
   "execution_count": 16,
   "metadata": {
    "collapsed": false
   },
   "outputs": [],
   "source": [
    "#monthly_counts"
   ]
  },
  {
   "cell_type": "code",
   "execution_count": 17,
   "metadata": {
    "collapsed": false
   },
   "outputs": [],
   "source": [
    "#monthly_counts.plot(x='logged month', y=['number of repairs in 2014', 'number of repairs in 2015', 'number of repairs in 2016'],\n",
    "                    #figsize=(16, 8), title='Number of repairs per months')"
   ]
  },
  {
   "cell_type": "markdown",
   "metadata": {},
   "source": [
    "### Were all the repair events added to the dataset in 2016?"
   ]
  },
  {
   "cell_type": "code",
   "execution_count": null,
   "metadata": {
    "collapsed": true
   },
   "outputs": [],
   "source": []
  }
 ],
 "metadata": {
  "kernelspec": {
   "display_name": "Python 2",
   "language": "python",
   "name": "python2"
  },
  "language_info": {
   "codemirror_mode": {
    "name": "ipython",
    "version": 2
   },
   "file_extension": ".py",
   "mimetype": "text/x-python",
   "name": "python",
   "nbconvert_exporter": "python",
   "pygments_lexer": "ipython2",
   "version": "2.7.6"
  }
 },
 "nbformat": 4,
 "nbformat_minor": 0
}
