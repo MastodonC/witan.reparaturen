{
 "cells": [
  {
   "cell_type": "code",
   "execution_count": 1,
   "metadata": {
    "collapsed": true
   },
   "outputs": [],
   "source": [
    "import numpy as np\n",
    "import pandas as pd\n",
    "\n",
    "from bokeh.charts import Bar, TimeSeries\n",
    "from bokeh.plotting import figure, show\n",
    "from bokeh.io import output_notebook, output_file"
   ]
  },
  {
   "cell_type": "code",
   "execution_count": 2,
   "metadata": {
    "collapsed": true
   },
   "outputs": [],
   "source": [
    "df_repairs = pd.read_csv(\"data/all-historical-repairs-mini.csv\",\n",
    "                         encoding=\"utf-8\", index_col=False, parse_dates=['logged-date'])\n",
    "\n",
    "df_repair_2014 = pd.read_csv('data/historical-repairs-2014-merge.csv',\n",
    "                                encoding=\"utf-8\", index_col=False, parse_dates=['logged-date'])\n",
    "\n",
    "df_repair_2015 = pd.read_csv('data/historical-repairs-2015-merge.csv',\n",
    "                                encoding=\"utf-8\", index_col=False, parse_dates=['logged-date'])\n",
    "                                \n",
    "df_repair_2016 = pd.read_csv('data/historical-repairs-2016-mini.csv',\n",
    "                                encoding=\"utf-8\", index_col=False, parse_dates=['logged-date'])                      "
   ]
  },
  {
   "cell_type": "code",
   "execution_count": 44,
   "metadata": {
    "collapsed": false
   },
   "outputs": [],
   "source": [
    "repair_types = df_repairs[['logged-date', 'description-for-code']]\n",
    "\n",
    "repair_types_2014 = df_repair_2014[['logged-date', 'description-for-code']]\n",
    "\n",
    "repair_types_2015 = df_repair_2015[['logged-date', 'description-for-code']]\n",
    "\n",
    "repair_types_2016 = df_repair_2016[['logged-date', 'description-for-code']]\n",
    "\n",
    "#repair_types_2016.head(3)"
   ]
  },
  {
   "cell_type": "code",
   "execution_count": 4,
   "metadata": {
    "collapsed": false
   },
   "outputs": [],
   "source": [
    "def merge_repairs_dates(repair_type, dates, repairs):\n",
    "    join_df = pd.merge(dates, repairs, left_on='dates', right_on='logged-date', how='left')\n",
    "    del join_df['logged-date']\n",
    "    return join_df.fillna({'description-for-code': repair_type, 'repair events': 0})"
   ]
  },
  {
   "cell_type": "code",
   "execution_count": 34,
   "metadata": {
    "collapsed": true
   },
   "outputs": [],
   "source": [
    "# DEBUGGING IN PROGRESS for year 2016\n",
    "\n",
    "def annual_repairs_by_type(df_repair_types, start_year, end_year):\n",
    "    # example: start_year='2014-01-01', end_year='2014-12-31'\n",
    "    all_repair_types = set([r.strip() for r in df_repair_types['description-for-code']])\n",
    "    df_repair_types['repair events'] = pd.Series([1] * len(df_repair_types))\n",
    "    repair_types_counts = df_repair_types.groupby(['logged-date', 'description-for-code'], as_index=False).sum()\n",
    "    return repair_types_counts\n",
    "    #annual_repairs_counts = [{rt: repair_types_counts[(repair_types_counts['description-for-code'] == rt)]} \n",
    "                             #for rt in list(all_repair_types)]\n",
    "    #print annual_repairs_counts[11]\n",
    "    # All days in the year, to be merged with the each repair type dataframe\n",
    "    #annual_repairs = pd.date_range(start_year, end_year, freq='D')\n",
    "    #repairs_period = pd.DataFrame({'dates': annual_repairs})\n",
    "    # Merge dataframe of all days of the year w/ dataframe of repair counts by type\n",
    "    #joined_df = [{repairs.keys()[0]: merge_repairs_dates(repairs.keys()[0], repairs_period, repairs.values()[0])} \n",
    "                #for repairs in annual_repairs_counts]\n",
    "    #dates = joined_df[0].values()[0]['dates']\n",
    "    #keys = [j.keys()[0] for j in joined_df]\n",
    "    #keys.append('Dates')\n",
    "    #values = [j.values()[0]['repair events'] for j in joined_df]\n",
    "    #values.append(dates)\n",
    "    #data_to_plot = dict(zip(keys, values))\n",
    "    #return data_to_plot\n",
    "    "
   ]
  },
  {
   "cell_type": "code",
   "execution_count": 6,
   "metadata": {
    "collapsed": true
   },
   "outputs": [],
   "source": [
    "# 10 colours to plot the repair types 10 by 10\n",
    "color_10 = ['#111D9C', '#2598FF', '#2CB7BF', '#28BF9C', '#9BE576',\n",
    "            '#5E2D9C', '#99259C', '#BF3A32', '#229C69', '#FFEF14']"
   ]
  },
  {
   "cell_type": "markdown",
   "metadata": {},
   "source": [
    "### For the year 2014"
   ]
  },
  {
   "cell_type": "code",
   "execution_count": 45,
   "metadata": {
    "collapsed": false
   },
   "outputs": [],
   "source": [
    "data_2014 = annual_repairs_by_type(repair_types_2014, '2014-01-01', '2014-12-31')"
   ]
  },
  {
   "cell_type": "code",
   "execution_count": 22,
   "metadata": {
    "collapsed": false
   },
   "outputs": [
    {
     "name": "stdout",
     "output_type": "stream",
     "text": [
      "27\n"
     ]
    }
   ],
   "source": [
    "repairs_2014 = set([r.strip() for r in repair_types_2014['description-for-code']])\n",
    "print len(repairs_2014)"
   ]
  },
  {
   "cell_type": "code",
   "execution_count": 23,
   "metadata": {
    "collapsed": false
   },
   "outputs": [],
   "source": [
    "ts1_repairs_2014 = TimeSeries(data_2014, x='Dates', y=list(repairs_2014)[:9],\n",
    "                              color=color_10, legend='top_left',\n",
    "                              title='Number of repair types in 2014',\n",
    "                              ylabel='Number of repairs', plot_width=1000)\n",
    "\n",
    "output_file(\"data/ts1_repairs_2014.html\")\n",
    "#output_notebook()\n",
    "show(ts1_repairs_2014)"
   ]
  },
  {
   "cell_type": "code",
   "execution_count": 24,
   "metadata": {
    "collapsed": false
   },
   "outputs": [],
   "source": [
    "ts2_repairs_2014 = TimeSeries(data_2014, x='Dates', y=list(repairs_2014)[9:19],\n",
    "                              color=color_10, legend='top_left',\n",
    "                              title='Number of repair types in 2014 (2)',\n",
    "                              ylabel='Number of repairs', plot_width=1000)\n",
    "\n",
    "output_file(\"data/ts2_repairs_2014.html\")\n",
    "#output_notebook()\n",
    "show(ts2_repairs_2014)"
   ]
  },
  {
   "cell_type": "code",
   "execution_count": 25,
   "metadata": {
    "collapsed": false
   },
   "outputs": [],
   "source": [
    "ts3_repairs_2014 = TimeSeries(data_2014, x='Dates', y=list(repairs_2014)[19:],\n",
    "                              color=color_10, legend='top_left',\n",
    "                              title='Number of repair types in 2014 (3)',\n",
    "                              ylabel='Number of repairs', plot_width=1000)\n",
    "\n",
    "output_file(\"data/ts3_repairs_2014.html\")\n",
    "#output_notebook()\n",
    "show(ts3_repairs_2014)"
   ]
  },
  {
   "cell_type": "markdown",
   "metadata": {},
   "source": [
    "### For the year 2015"
   ]
  },
  {
   "cell_type": "code",
   "execution_count": 26,
   "metadata": {
    "collapsed": false
   },
   "outputs": [
    {
     "name": "stdout",
     "output_type": "stream",
     "text": [
      "{u'INFESTATION':     logged-date description-for-code  repair events\n",
      "208  2015-01-23          INFESTATION              1}\n"
     ]
    }
   ],
   "source": [
    "data_2015 = annual_repairs_by_type(repair_types_2015, '2015-01-01', '2015-12-31')"
   ]
  },
  {
   "cell_type": "code",
   "execution_count": 27,
   "metadata": {
    "collapsed": false
   },
   "outputs": [
    {
     "name": "stdout",
     "output_type": "stream",
     "text": [
      "22\n"
     ]
    }
   ],
   "source": [
    "repairs_2015 = set([r.strip() for r in repair_types_2015['description-for-code']])\n",
    "print len(repairs_2015)"
   ]
  },
  {
   "cell_type": "code",
   "execution_count": 29,
   "metadata": {
    "collapsed": false
   },
   "outputs": [],
   "source": [
    "ts1_repairs_2015 = TimeSeries(data_2015, x='Dates', y=list(repairs_2015)[:7],\n",
    "                              color=color_10, legend='top_right',\n",
    "                              title='Number of repair types in 2015',\n",
    "                              ylabel='Number of repairs', plot_width=1000)\n",
    "\n",
    "output_file(\"data/ts1_repairs_2015.html\")\n",
    "#output_notebook()\n",
    "show(ts1_repairs_2015)"
   ]
  },
  {
   "cell_type": "code",
   "execution_count": 30,
   "metadata": {
    "collapsed": true
   },
   "outputs": [],
   "source": [
    "ts2_repairs_2015 = TimeSeries(data_2015, x='Dates', y=list(repairs_2015)[7:14],\n",
    "                              color=color_10, legend='top_right',\n",
    "                              title='Number of repair types in 2015 (2)',\n",
    "                              ylabel='Number of repairs', plot_width=1000)\n",
    "\n",
    "output_file(\"data/ts2_repairs_2015.html\")\n",
    "#output_notebook()\n",
    "show(ts2_repairs_2015)"
   ]
  },
  {
   "cell_type": "code",
   "execution_count": 31,
   "metadata": {
    "collapsed": true
   },
   "outputs": [],
   "source": [
    "ts3_repairs_2015 = TimeSeries(data_2015, x='Dates', y=list(repairs_2015)[14:],\n",
    "                              color=color_10, legend='top_right',\n",
    "                              title='Number of repair types in 2015 (3)',\n",
    "                              ylabel='Number of repairs', plot_width=1000)\n",
    "\n",
    "output_file(\"data/ts3_repairs_2015.html\")\n",
    "#output_notebook()\n",
    "show(ts3_repairs_2015)"
   ]
  },
  {
   "cell_type": "markdown",
   "metadata": {},
   "source": [
    "### For the year 2016"
   ]
  },
  {
   "cell_type": "code",
   "execution_count": 35,
   "metadata": {
    "collapsed": false
   },
   "outputs": [],
   "source": [
    "data_2016 = annual_repairs_by_type(repair_types_2016, '2016-01-01', '2016-12-31')"
   ]
  },
  {
   "cell_type": "code",
   "execution_count": 33,
   "metadata": {
    "collapsed": false
   },
   "outputs": [
    {
     "name": "stdout",
     "output_type": "stream",
     "text": [
      "16\n"
     ]
    }
   ],
   "source": [
    "repairs_2016 = set([r.strip() for r in repair_types_2016['description-for-code']])\n",
    "print len(repairs_2016)"
   ]
  },
  {
   "cell_type": "code",
   "execution_count": 46,
   "metadata": {
    "collapsed": false
   },
   "outputs": [],
   "source": [
    "#data_2016.head(10)"
   ]
  },
  {
   "cell_type": "code",
   "execution_count": 24,
   "metadata": {
    "collapsed": true
   },
   "outputs": [],
   "source": [
    "ts1_repairs_2016 = TimeSeries(data_2016, x='Dates', y=list(all_repair_types)[:5],\n",
    "                              color=color_10, legend='top_right',\n",
    "                              title='Number of repair types in 2016',\n",
    "                              ylabel='Number of repairs', plot_width=1000)\n",
    "\n",
    "output_file(\"data/ts1_repairs_2016.html\")\n",
    "#output_notebook()\n",
    "show(ts1_repairs_2016)"
   ]
  },
  {
   "cell_type": "code",
   "execution_count": 25,
   "metadata": {
    "collapsed": true
   },
   "outputs": [],
   "source": [
    "ts2_repairs_2016 = TimeSeries(data_2016, x='Dates', y=list(all_repair_types)[5:10],\n",
    "                              color=color_10, legend='top_right',\n",
    "                              title='Number of repair types in 2016 (2)',\n",
    "                              ylabel='Number of repairs', plot_width=1000)\n",
    "\n",
    "output_file(\"data/ts2_repairs_2016.html\")\n",
    "#output_notebook()\n",
    "show(ts2_repairs_2016)"
   ]
  },
  {
   "cell_type": "code",
   "execution_count": 27,
   "metadata": {
    "collapsed": true
   },
   "outputs": [],
   "source": [
    "ts3_repairs_2016 = TimeSeries(data_2016, x='Dates', y=list(all_repair_types)[10:],\n",
    "                              color=color_10, legend='top_right',\n",
    "                              title='Number of repair types in 2016 (3)',\n",
    "                              ylabel='Number of repairs', plot_width=1000)\n",
    "\n",
    "output_file(\"data/ts3_repairs_2016.html\")\n",
    "#output_notebook()\n",
    "show(ts3_repairs_2016)"
   ]
  },
  {
   "cell_type": "code",
   "execution_count": null,
   "metadata": {
    "collapsed": true
   },
   "outputs": [],
   "source": []
  }
 ],
 "metadata": {
  "kernelspec": {
   "display_name": "Python 2",
   "language": "python",
   "name": "python2"
  },
  "language_info": {
   "codemirror_mode": {
    "name": "ipython",
    "version": 2
   },
   "file_extension": ".py",
   "mimetype": "text/x-python",
   "name": "python",
   "nbconvert_exporter": "python",
   "pygments_lexer": "ipython2",
   "version": "2.7.6"
  }
 },
 "nbformat": 4,
 "nbformat_minor": 0
}
