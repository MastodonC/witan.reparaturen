{
 "cells": [
  {
   "cell_type": "code",
   "execution_count": 3,
   "metadata": {
    "collapsed": true
   },
   "outputs": [],
   "source": [
    "import numpy as np\n",
    "import pandas as pd"
   ]
  },
  {
   "cell_type": "code",
   "execution_count": 4,
   "metadata": {
    "collapsed": true
   },
   "outputs": [],
   "source": [
    "df_repairs = pd.read_csv(\"data/historic-repairs-2014-2015-cleaned.csv\",\n",
    "                         encoding=\"utf-8\", index_col=False, parse_dates=['logged-date'])"
   ]
  },
  {
   "cell_type": "code",
   "execution_count": 5,
   "metadata": {
    "collapsed": false
   },
   "outputs": [],
   "source": [
    "#df_repairs.head(3)"
   ]
  },
  {
   "cell_type": "markdown",
   "metadata": {},
   "source": [
    "### Let's remove columns I don't think will be useful"
   ]
  },
  {
   "cell_type": "code",
   "execution_count": 6,
   "metadata": {
    "collapsed": false
   },
   "outputs": [],
   "source": [
    "df_repairs_minimal = df_repairs.drop(['target-end-date', 'workforce-name', 'termination-date', \n",
    "                                      'original-target-date', 'priority-code'], \n",
    "                                     axis=1)"
   ]
  },
  {
   "cell_type": "code",
   "execution_count": 7,
   "metadata": {
    "collapsed": false
   },
   "outputs": [],
   "source": [
    "#df_repairs_minimal.head(3)"
   ]
  },
  {
   "cell_type": "code",
   "execution_count": 8,
   "metadata": {
    "collapsed": true
   },
   "outputs": [],
   "source": [
    "df_repairs_minimal.to_csv('data/historical-repairs-2014-2015-minimal.csv', index=False)"
   ]
  },
  {
   "cell_type": "markdown",
   "metadata": {},
   "source": [
    "### Split dataset by year"
   ]
  },
  {
   "cell_type": "code",
   "execution_count": 9,
   "metadata": {
    "collapsed": false
   },
   "outputs": [],
   "source": [
    "#df_repairs_minimal[(df_repairs_minimal['logged-date'] <= '2012-12-31')]"
   ]
  },
  {
   "cell_type": "markdown",
   "metadata": {},
   "source": [
    "#### There's only one repair event for 2012 so I want to delete it!"
   ]
  },
  {
   "cell_type": "code",
   "execution_count": 10,
   "metadata": {
    "collapsed": true
   },
   "outputs": [],
   "source": [
    "df_repairs_mini_after2012 = df_repairs_minimal.drop(df_repairs_minimal.index[[28649]])"
   ]
  },
  {
   "cell_type": "code",
   "execution_count": 11,
   "metadata": {
    "collapsed": false
   },
   "outputs": [
    {
     "data": {
      "text/html": [
       "<div>\n",
       "<table border=\"1\" class=\"dataframe\">\n",
       "  <thead>\n",
       "    <tr style=\"text-align: right;\">\n",
       "      <th></th>\n",
       "      <th>logged-date</th>\n",
       "      <th>repair-number</th>\n",
       "      <th>description-for-code</th>\n",
       "      <th>property-reference</th>\n",
       "    </tr>\n",
       "  </thead>\n",
       "  <tbody>\n",
       "  </tbody>\n",
       "</table>\n",
       "</div>"
      ],
      "text/plain": [
       "Empty DataFrame\n",
       "Columns: [logged-date, repair-number, description-for-code, property-reference]\n",
       "Index: []"
      ]
     },
     "execution_count": 11,
     "metadata": {},
     "output_type": "execute_result"
    }
   ],
   "source": [
    "df_repairs_mini_after2012[(df_repairs_mini_after2012['logged-date'] <= '2012-12-31')]"
   ]
  },
  {
   "cell_type": "markdown",
   "metadata": {},
   "source": [
    "#### Let's look up the repairs in 2013:"
   ]
  },
  {
   "cell_type": "code",
   "execution_count": 12,
   "metadata": {
    "collapsed": false
   },
   "outputs": [
    {
     "name": "stdout",
     "output_type": "stream",
     "text": [
      "There were 23 repairs in 2013\n"
     ]
    }
   ],
   "source": [
    "df_repairs_2013 = df_repairs_mini_after2012[(df_repairs_mini_after2012['logged-date'] <= '2013-12-31')]\n",
    "\n",
    "print \"There were {0} repairs in 2013\".format(len(df_repairs_2013))"
   ]
  },
  {
   "cell_type": "markdown",
   "metadata": {},
   "source": [
    "#### I feel this is incomplete. Also the dataset name mention \"2014-2015\" so I should focus on those years!"
   ]
  },
  {
   "cell_type": "code",
   "execution_count": 13,
   "metadata": {
    "collapsed": false
   },
   "outputs": [
    {
     "data": {
      "text/plain": [
       "Int64Index([ 2257,  5235,  5497, 10265, 14385, 15774, 26723, 30625, 31440,\n",
       "            31554, 31788, 32588, 33177, 34472, 35055, 35652, 41397, 42468,\n",
       "            42702, 44908, 44938, 45171, 59910],\n",
       "           dtype='int64')"
      ]
     },
     "execution_count": 13,
     "metadata": {},
     "output_type": "execute_result"
    }
   ],
   "source": [
    "# I'm looking for the index of rows with repairs in 2013\n",
    "df_repairs_2013.index"
   ]
  },
  {
   "cell_type": "code",
   "execution_count": 14,
   "metadata": {
    "collapsed": false
   },
   "outputs": [],
   "source": [
    "df_repairs_mini_2014_2015 = df_repairs_mini_after2012.drop(df_repairs_2013.index)"
   ]
  },
  {
   "cell_type": "code",
   "execution_count": 15,
   "metadata": {
    "collapsed": false
   },
   "outputs": [
    {
     "data": {
      "text/html": [
       "<div>\n",
       "<table border=\"1\" class=\"dataframe\">\n",
       "  <thead>\n",
       "    <tr style=\"text-align: right;\">\n",
       "      <th></th>\n",
       "      <th>logged-date</th>\n",
       "      <th>repair-number</th>\n",
       "      <th>description-for-code</th>\n",
       "      <th>property-reference</th>\n",
       "    </tr>\n",
       "  </thead>\n",
       "  <tbody>\n",
       "  </tbody>\n",
       "</table>\n",
       "</div>"
      ],
      "text/plain": [
       "Empty DataFrame\n",
       "Columns: [logged-date, repair-number, description-for-code, property-reference]\n",
       "Index: []"
      ]
     },
     "execution_count": 15,
     "metadata": {},
     "output_type": "execute_result"
    }
   ],
   "source": [
    "df_repairs_mini_2014_2015[(df_repairs_mini_2014_2015['logged-date'] <= '2013-12-31')]"
   ]
  },
  {
   "cell_type": "code",
   "execution_count": 16,
   "metadata": {
    "collapsed": true
   },
   "outputs": [],
   "source": [
    "df_repairs_mini_2014_2015.to_csv('data/historical-repairs-2014-2015-mini-cleaned.csv', index=False)"
   ]
  },
  {
   "cell_type": "markdown",
   "metadata": {},
   "source": [
    "#### Create the repairs 2014 dataset"
   ]
  },
  {
   "cell_type": "code",
   "execution_count": 17,
   "metadata": {
    "collapsed": true
   },
   "outputs": [],
   "source": [
    "df_repairs_mini_2014 = df_repairs_mini_2014_2015[(df_repairs_mini_2014_2015['logged-date'] <= '2014-12-31')]"
   ]
  },
  {
   "cell_type": "code",
   "execution_count": 18,
   "metadata": {
    "collapsed": false
   },
   "outputs": [],
   "source": [
    "#df_repairs_mini_2014.head()"
   ]
  },
  {
   "cell_type": "code",
   "execution_count": 19,
   "metadata": {
    "collapsed": true
   },
   "outputs": [],
   "source": [
    "#df_repairs_mini_2014.to_csv('data/historical-repairs-2014-mini.csv', index=False) #Incomplete"
   ]
  },
  {
   "cell_type": "markdown",
   "metadata": {},
   "source": [
    "#### Create the repairs 2014 dataset"
   ]
  },
  {
   "cell_type": "code",
   "execution_count": 20,
   "metadata": {
    "collapsed": true
   },
   "outputs": [],
   "source": [
    "df_repairs_mini_2015 = df_repairs_mini_2014_2015[(df_repairs_mini_2014_2015['logged-date'] > '2014-12-31')]"
   ]
  },
  {
   "cell_type": "code",
   "execution_count": 21,
   "metadata": {
    "collapsed": false
   },
   "outputs": [],
   "source": [
    "#df_repairs_mini_2015.head()"
   ]
  },
  {
   "cell_type": "code",
   "execution_count": 22,
   "metadata": {
    "collapsed": true
   },
   "outputs": [],
   "source": [
    "#df_repairs_mini_2015.to_csv('data/historical-repairs-2015-mini.csv', index=False) #Incomplete"
   ]
  },
  {
   "cell_type": "markdown",
   "metadata": {},
   "source": [
    "### Handle \"2016\" repairs data"
   ]
  },
  {
   "cell_type": "code",
   "execution_count": 23,
   "metadata": {
    "collapsed": false
   },
   "outputs": [],
   "source": [
    "df_repairs_2016 = pd.read_csv(\"data/historic-repairs-data-2016.csv\",\n",
    "                              encoding=\"utf-8\", index_col=False, parse_dates=['Logged date'])"
   ]
  },
  {
   "cell_type": "code",
   "execution_count": 24,
   "metadata": {
    "collapsed": false
   },
   "outputs": [],
   "source": [
    "#df_repairs_2016.head(3)"
   ]
  },
  {
   "cell_type": "code",
   "execution_count": 25,
   "metadata": {
    "collapsed": true
   },
   "outputs": [],
   "source": [
    "df_2016_minimal = df_repairs_2016.drop(['Current target', 'Workforce name', 'Termination date', \n",
    "                                        'Original target', 'Priority', 'Cost code',\n",
    "                                        'Category of provision summary', 'Estate code'], \n",
    "                                       axis=1)"
   ]
  },
  {
   "cell_type": "code",
   "execution_count": 26,
   "metadata": {
    "collapsed": false
   },
   "outputs": [],
   "source": [
    "#df_2016_minimal.head(3)"
   ]
  },
  {
   "cell_type": "code",
   "execution_count": 27,
   "metadata": {
    "collapsed": true
   },
   "outputs": [],
   "source": [
    "df_2016_minimal.to_csv('data/historical-repairs-2016-minimal.csv', index=False)"
   ]
  },
  {
   "cell_type": "code",
   "execution_count": 28,
   "metadata": {
    "collapsed": false
   },
   "outputs": [],
   "source": [
    "df_extra_2014 = df_2016_minimal[(df_2016_minimal['Logged date'] <= '2014-12-31')]\n",
    "\n",
    "#df_extra_2014"
   ]
  },
  {
   "cell_type": "code",
   "execution_count": 29,
   "metadata": {
    "collapsed": true
   },
   "outputs": [],
   "source": [
    "df_extra_2014 = df_extra_2014.rename(columns={'Repair number': 'repair-number',\n",
    "                                              'Property reference': 'property-reference',\n",
    "                                              'Logged date': 'logged-date',\n",
    "                                              'Trade name': 'description-for-code'})"
   ]
  },
  {
   "cell_type": "code",
   "execution_count": 30,
   "metadata": {
    "collapsed": false
   },
   "outputs": [
    {
     "name": "stdout",
     "output_type": "stream",
     "text": [
      "46798\n",
      "46798\n"
     ]
    }
   ],
   "source": [
    "print len(df_repairs_mini_2014) + len(df_extra_2014)\n",
    "\n",
    "df_full_2014_repairs = pd.concat([df_repairs_mini_2014, df_extra_2014])\n",
    "\n",
    "print len(df_full_2014_repairs)"
   ]
  },
  {
   "cell_type": "code",
   "execution_count": 31,
   "metadata": {
    "collapsed": true
   },
   "outputs": [],
   "source": [
    "df_full_2014_repairs.to_csv(\"data/historical-repairs-2014-merge.csv\", index=False)"
   ]
  },
  {
   "cell_type": "code",
   "execution_count": 32,
   "metadata": {
    "collapsed": false
   },
   "outputs": [],
   "source": [
    "df_extra_2015_2016 = df_2016_minimal.drop(df_extra_2014.index)"
   ]
  },
  {
   "cell_type": "code",
   "execution_count": 33,
   "metadata": {
    "collapsed": false
   },
   "outputs": [],
   "source": [
    "df_extra_2015 = df_extra_2015_2016[(df_extra_2015_2016['Logged date'] <= '2015-12-31')]\n",
    "\n",
    "#df_extra_2015.head(3)"
   ]
  },
  {
   "cell_type": "code",
   "execution_count": 34,
   "metadata": {
    "collapsed": true
   },
   "outputs": [],
   "source": [
    "df_extra_2015 = df_extra_2015.rename(columns={'Repair number': 'repair-number',\n",
    "                                              'Property reference': 'property-reference',\n",
    "                                              'Logged date': 'logged-date',\n",
    "                                              'Trade name': 'description-for-code'})"
   ]
  },
  {
   "cell_type": "code",
   "execution_count": 35,
   "metadata": {
    "collapsed": false
   },
   "outputs": [
    {
     "name": "stdout",
     "output_type": "stream",
     "text": [
      "64858\n",
      "64858\n"
     ]
    }
   ],
   "source": [
    "print len(df_repairs_mini_2015) + len(df_extra_2015)\n",
    "\n",
    "df_full_2015_repairs = pd.concat([df_repairs_mini_2015, df_extra_2015])\n",
    "\n",
    "print len(df_full_2015_repairs)"
   ]
  },
  {
   "cell_type": "code",
   "execution_count": 36,
   "metadata": {
    "collapsed": true
   },
   "outputs": [],
   "source": [
    "df_full_2015_repairs.to_csv(\"data/historical-repairs-2015-merge.csv\", index=False)"
   ]
  },
  {
   "cell_type": "code",
   "execution_count": 37,
   "metadata": {
    "collapsed": false
   },
   "outputs": [],
   "source": [
    "df_repairs_2016 = df_extra_2015_2016[(df_extra_2015_2016['Logged date'] >= '2016-01-01')]\n",
    "\n",
    "#df_repairs_2016.head()"
   ]
  },
  {
   "cell_type": "code",
   "execution_count": 38,
   "metadata": {
    "collapsed": true
   },
   "outputs": [],
   "source": [
    "df_repairs_2016 = df_repairs_2016.rename(columns={'Repair number': 'repair-number',\n",
    "                                                  'Property reference': 'property-reference',\n",
    "                                                  'Logged date': 'logged-date',\n",
    "                                                  'Trade name': 'description-for-code'})"
   ]
  },
  {
   "cell_type": "code",
   "execution_count": 39,
   "metadata": {
    "collapsed": true
   },
   "outputs": [],
   "source": [
    "df_repairs_2016.to_csv(\"data/historical-repairs-2016-mini.csv\", index=False)"
   ]
  },
  {
   "cell_type": "markdown",
   "metadata": {},
   "source": [
    "### Bring together all repair data (2014, 2015, 2016)"
   ]
  },
  {
   "cell_type": "code",
   "execution_count": 40,
   "metadata": {
    "collapsed": true
   },
   "outputs": [],
   "source": [
    "df_all_repairs = pd.concat([df_full_2014_repairs, df_full_2015_repairs, df_repairs_2016])"
   ]
  },
  {
   "cell_type": "code",
   "execution_count": 41,
   "metadata": {
    "collapsed": false
   },
   "outputs": [
    {
     "name": "stdout",
     "output_type": "stream",
     "text": [
      "131750 131750\n"
     ]
    }
   ],
   "source": [
    "print len(df_full_2014_repairs) + len(df_full_2015_repairs) + len(df_repairs_2016),len(df_all_repairs)\n",
    "\n",
    "#df_all_repairs.head(3)"
   ]
  },
  {
   "cell_type": "code",
   "execution_count": 42,
   "metadata": {
    "collapsed": true
   },
   "outputs": [],
   "source": [
    "df_all_repairs.to_csv(\"data/all-historical-repairs-mini.csv\", index=False)"
   ]
  },
  {
   "cell_type": "markdown",
   "metadata": {
    "collapsed": true
   },
   "source": [
    "### Prepare repair costs data"
   ]
  },
  {
   "cell_type": "code",
   "execution_count": 43,
   "metadata": {
    "collapsed": false
   },
   "outputs": [],
   "source": [
    "df_costs = pd.read_csv(\"data/costs-historic-repairs-2014-2015.csv\",\n",
    "                       encoding=\"utf-8\", index_col=False, parse_dates=['Logged date'])"
   ]
  },
  {
   "cell_type": "code",
   "execution_count": 44,
   "metadata": {
    "collapsed": false
   },
   "outputs": [],
   "source": [
    "#df_costs.head(3)"
   ]
  },
  {
   "cell_type": "code",
   "execution_count": 45,
   "metadata": {
    "collapsed": true
   },
   "outputs": [],
   "source": [
    "df_costs_minimal = df_costs.drop(['Current target', 'Workforce name', 'Termination date', \n",
    "                                  'Original target', 'Priority', 'Cost code',\n",
    "                                  'Category of provision summary'], \n",
    "                                 axis=1)"
   ]
  },
  {
   "cell_type": "code",
   "execution_count": 46,
   "metadata": {
    "collapsed": false
   },
   "outputs": [],
   "source": [
    "#df_costs_minimal.head(3)"
   ]
  },
  {
   "cell_type": "code",
   "execution_count": 47,
   "metadata": {
    "collapsed": true
   },
   "outputs": [],
   "source": [
    "df_costs_minimal.to_csv('data/costs-historical-repairs-2014-2015-minimal.csv', index=False)"
   ]
  },
  {
   "cell_type": "code",
   "execution_count": null,
   "metadata": {
    "collapsed": true
   },
   "outputs": [],
   "source": []
  }
 ],
 "metadata": {
  "kernelspec": {
   "display_name": "Python 2",
   "language": "python",
   "name": "python2"
  },
  "language_info": {
   "codemirror_mode": {
    "name": "ipython",
    "version": 2
   },
   "file_extension": ".py",
   "mimetype": "text/x-python",
   "name": "python",
   "nbconvert_exporter": "python",
   "pygments_lexer": "ipython2",
   "version": "2.7.6"
  }
 },
 "nbformat": 4,
 "nbformat_minor": 0
}
