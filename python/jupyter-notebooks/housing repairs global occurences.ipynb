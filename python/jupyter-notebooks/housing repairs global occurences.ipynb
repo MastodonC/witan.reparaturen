{
 "cells": [
  {
   "cell_type": "code",
   "execution_count": 1,
   "metadata": {
    "collapsed": true
   },
   "outputs": [],
   "source": [
    "import numpy as np\n",
    "import pandas as pd\n",
    "\n",
    "from bokeh.charts import Histogram, Bar, BoxPlot\n",
    "from bokeh.plotting import figure, show\n",
    "from bokeh.io import output_notebook, output_file"
   ]
  },
  {
   "cell_type": "code",
   "execution_count": 2,
   "metadata": {
    "collapsed": true
   },
   "outputs": [],
   "source": [
    "df_repairs_occurences = pd.read_csv(\"data/summary-repairs-of-properties.csv\",\n",
    "                                    encoding=\"utf-8\", index_col=False)"
   ]
  },
  {
   "cell_type": "code",
   "execution_count": 3,
   "metadata": {
    "collapsed": true
   },
   "outputs": [],
   "source": [
    "df_repairs_occurences = df_repairs_occurences.rename(columns={'occurences-of-repairs-count':\n",
    "                                                             'number of properties'})"
   ]
  },
  {
   "cell_type": "code",
   "execution_count": 1,
   "metadata": {
    "collapsed": false
   },
   "outputs": [],
   "source": [
    "#df_repairs_occurences.head()"
   ]
  },
  {
   "cell_type": "code",
   "execution_count": 5,
   "metadata": {
    "collapsed": false,
    "scrolled": true
   },
   "outputs": [
    {
     "data": {
      "text/html": [
       "<div>\n",
       "<table border=\"1\" class=\"dataframe\">\n",
       "  <thead>\n",
       "    <tr style=\"text-align: right;\">\n",
       "      <th></th>\n",
       "      <th>count-repairs-per-property</th>\n",
       "      <th>number of properties</th>\n",
       "    </tr>\n",
       "  </thead>\n",
       "  <tbody>\n",
       "    <tr>\n",
       "      <th>count</th>\n",
       "      <td>43.000000</td>\n",
       "      <td>43.000000</td>\n",
       "    </tr>\n",
       "    <tr>\n",
       "      <th>mean</th>\n",
       "      <td>24.232558</td>\n",
       "      <td>345.162791</td>\n",
       "    </tr>\n",
       "    <tr>\n",
       "      <th>std</th>\n",
       "      <td>16.769924</td>\n",
       "      <td>764.604564</td>\n",
       "    </tr>\n",
       "    <tr>\n",
       "      <th>min</th>\n",
       "      <td>1.000000</td>\n",
       "      <td>1.000000</td>\n",
       "    </tr>\n",
       "    <tr>\n",
       "      <th>25%</th>\n",
       "      <td>11.500000</td>\n",
       "      <td>2.500000</td>\n",
       "    </tr>\n",
       "    <tr>\n",
       "      <th>50%</th>\n",
       "      <td>22.000000</td>\n",
       "      <td>12.000000</td>\n",
       "    </tr>\n",
       "    <tr>\n",
       "      <th>75%</th>\n",
       "      <td>32.500000</td>\n",
       "      <td>180.500000</td>\n",
       "    </tr>\n",
       "    <tr>\n",
       "      <th>max</th>\n",
       "      <td>66.000000</td>\n",
       "      <td>3341.000000</td>\n",
       "    </tr>\n",
       "  </tbody>\n",
       "</table>\n",
       "</div>"
      ],
      "text/plain": [
       "       count-repairs-per-property  number of properties\n",
       "count                   43.000000             43.000000\n",
       "mean                    24.232558            345.162791\n",
       "std                     16.769924            764.604564\n",
       "min                      1.000000              1.000000\n",
       "25%                     11.500000              2.500000\n",
       "50%                     22.000000             12.000000\n",
       "75%                     32.500000            180.500000\n",
       "max                     66.000000           3341.000000"
      ]
     },
     "execution_count": 5,
     "metadata": {},
     "output_type": "execute_result"
    }
   ],
   "source": [
    "df_repairs_occurences.describe()"
   ]
  },
  {
   "cell_type": "code",
   "execution_count": 12,
   "metadata": {
    "collapsed": false
   },
   "outputs": [
    {
     "data": {
      "text/plain": [
       "14842"
      ]
     },
     "execution_count": 12,
     "metadata": {},
     "output_type": "execute_result"
    }
   ],
   "source": [
    "df_repairs_occurences['number of properties'].sum()"
   ]
  },
  {
   "cell_type": "code",
   "execution_count": 6,
   "metadata": {
    "collapsed": false
   },
   "outputs": [
    {
     "data": {
      "text/html": [
       "\n",
       "    <div class=\"bk-banner\">\n",
       "        <a href=\"http://bokeh.pydata.org\" target=\"_blank\" class=\"bk-logo bk-logo-small bk-logo-notebook\"></a>\n",
       "        <span id=\"82a46401-6d86-4760-9f6f-eff97d7871e3\">Loading BokehJS ...</span>\n",
       "    </div>"
      ]
     },
     "metadata": {},
     "output_type": "display_data"
    },
    {
     "data": {
      "application/javascript": [
       "\n",
       "(function(global) {\n",
       "  function now() {\n",
       "    return new Date();\n",
       "  }\n",
       "\n",
       "  if (typeof (window._bokeh_onload_callbacks) === \"undefined\") {\n",
       "    window._bokeh_onload_callbacks = [];\n",
       "  }\n",
       "\n",
       "  function run_callbacks() {\n",
       "    window._bokeh_onload_callbacks.forEach(function(callback) { callback() });\n",
       "    delete window._bokeh_onload_callbacks\n",
       "    console.info(\"Bokeh: all callbacks have finished\");\n",
       "  }\n",
       "\n",
       "  function load_libs(js_urls, callback) {\n",
       "    window._bokeh_onload_callbacks.push(callback);\n",
       "    if (window._bokeh_is_loading > 0) {\n",
       "      console.log(\"Bokeh: BokehJS is being loaded, scheduling callback at\", now());\n",
       "      return null;\n",
       "    }\n",
       "    if (js_urls == null || js_urls.length === 0) {\n",
       "      run_callbacks();\n",
       "      return null;\n",
       "    }\n",
       "    console.log(\"Bokeh: BokehJS not loaded, scheduling load and callback at\", now());\n",
       "    window._bokeh_is_loading = js_urls.length;\n",
       "    for (var i = 0; i < js_urls.length; i++) {\n",
       "      var url = js_urls[i];\n",
       "      var s = document.createElement('script');\n",
       "      s.src = url;\n",
       "      s.async = false;\n",
       "      s.onreadystatechange = s.onload = function() {\n",
       "        window._bokeh_is_loading--;\n",
       "        if (window._bokeh_is_loading === 0) {\n",
       "          console.log(\"Bokeh: all BokehJS libraries loaded\");\n",
       "          run_callbacks()\n",
       "        }\n",
       "      };\n",
       "      s.onerror = function() {\n",
       "        console.warn(\"failed to load library \" + url);\n",
       "      };\n",
       "      console.log(\"Bokeh: injecting script tag for BokehJS library: \", url);\n",
       "      document.getElementsByTagName(\"head\")[0].appendChild(s);\n",
       "    }\n",
       "  };\n",
       "\n",
       "  var js_urls = ['https://cdn.pydata.org/bokeh/release/bokeh-0.11.1.min.js', 'https://cdn.pydata.org/bokeh/release/bokeh-widgets-0.11.1.min.js', 'https://cdn.pydata.org/bokeh/release/bokeh-compiler-0.11.1.min.js'];\n",
       "\n",
       "  var inline_js = [\n",
       "    function(Bokeh) {\n",
       "      Bokeh.set_log_level(\"info\");\n",
       "    },\n",
       "    \n",
       "    function(Bokeh) {\n",
       "      Bokeh.$(\"#82a46401-6d86-4760-9f6f-eff97d7871e3\").text(\"BokehJS successfully loaded\");\n",
       "    },\n",
       "    function(Bokeh) {\n",
       "      console.log(\"Bokeh: injecting CSS: https://cdn.pydata.org/bokeh/release/bokeh-0.11.1.min.css\");\n",
       "      Bokeh.embed.inject_css(\"https://cdn.pydata.org/bokeh/release/bokeh-0.11.1.min.css\");\n",
       "      console.log(\"Bokeh: injecting CSS: https://cdn.pydata.org/bokeh/release/bokeh-widgets-0.11.1.min.css\");\n",
       "      Bokeh.embed.inject_css(\"https://cdn.pydata.org/bokeh/release/bokeh-widgets-0.11.1.min.css\");\n",
       "    }\n",
       "  ];\n",
       "\n",
       "  function run_inline_js() {\n",
       "    for (var i = 0; i < inline_js.length; i++) {\n",
       "      inline_js[i](window.Bokeh);\n",
       "    }\n",
       "  }\n",
       "\n",
       "  if (window._bokeh_is_loading === 0) {\n",
       "    console.log(\"Bokeh: BokehJS loaded, going straight to plotting\");\n",
       "    run_inline_js();\n",
       "  } else {\n",
       "    load_libs(js_urls, function() {\n",
       "      console.log(\"Bokeh: BokehJS plotting callback run at\", now());\n",
       "      run_inline_js();\n",
       "    });\n",
       "  }\n",
       "}(this));"
      ]
     },
     "metadata": {},
     "output_type": "display_data"
    },
    {
     "data": {
      "text/html": [
       "\n",
       "\n",
       "    <div class=\"plotdiv\" id=\"7392a71c-acf7-4ee3-a51c-6e26e5542d76\"></div>\n",
       "<script type=\"text/javascript\">\n",
       "  \n",
       "  (function(global) {\n",
       "    function now() {\n",
       "      return new Date();\n",
       "    }\n",
       "  \n",
       "    if (typeof (window._bokeh_onload_callbacks) === \"undefined\") {\n",
       "      window._bokeh_onload_callbacks = [];\n",
       "    }\n",
       "  \n",
       "    function run_callbacks() {\n",
       "      window._bokeh_onload_callbacks.forEach(function(callback) { callback() });\n",
       "      delete window._bokeh_onload_callbacks\n",
       "      console.info(\"Bokeh: all callbacks have finished\");\n",
       "    }\n",
       "  \n",
       "    function load_libs(js_urls, callback) {\n",
       "      window._bokeh_onload_callbacks.push(callback);\n",
       "      if (window._bokeh_is_loading > 0) {\n",
       "        console.log(\"Bokeh: BokehJS is being loaded, scheduling callback at\", now());\n",
       "        return null;\n",
       "      }\n",
       "      if (js_urls == null || js_urls.length === 0) {\n",
       "        run_callbacks();\n",
       "        return null;\n",
       "      }\n",
       "      console.log(\"Bokeh: BokehJS not loaded, scheduling load and callback at\", now());\n",
       "      window._bokeh_is_loading = js_urls.length;\n",
       "      for (var i = 0; i < js_urls.length; i++) {\n",
       "        var url = js_urls[i];\n",
       "        var s = document.createElement('script');\n",
       "        s.src = url;\n",
       "        s.async = false;\n",
       "        s.onreadystatechange = s.onload = function() {\n",
       "          window._bokeh_is_loading--;\n",
       "          if (window._bokeh_is_loading === 0) {\n",
       "            console.log(\"Bokeh: all BokehJS libraries loaded\");\n",
       "            run_callbacks()\n",
       "          }\n",
       "        };\n",
       "        s.onerror = function() {\n",
       "          console.warn(\"failed to load library \" + url);\n",
       "        };\n",
       "        console.log(\"Bokeh: injecting script tag for BokehJS library: \", url);\n",
       "        document.getElementsByTagName(\"head\")[0].appendChild(s);\n",
       "      }\n",
       "    };var element = document.getElementById(\"7392a71c-acf7-4ee3-a51c-6e26e5542d76\");\n",
       "    if (element == null) {\n",
       "      console.log(\"Bokeh: ERROR: autoload.js configured with elementid '7392a71c-acf7-4ee3-a51c-6e26e5542d76' but no matching script tag was found. \")\n",
       "      return false;\n",
       "    }\n",
       "  \n",
       "    var js_urls = [];\n",
       "  \n",
       "    var inline_js = [\n",
       "      function(Bokeh) {\n",
       "        Bokeh.$(function() {\n",
       "            var docs_json = {\"da4dfbe6-bc4b-46b8-8eb1-628f1d49408c\":{\"roots\":{\"references\":[{\"attributes\":{\"fill_alpha\":{\"field\":\"fill_alpha\"},\"fill_color\":{\"field\":\"color\"},\"height\":{\"field\":\"height\",\"units\":\"data\"},\"line_color\":{\"field\":\"line_color\"},\"width\":{\"field\":\"width\",\"units\":\"data\"},\"x\":{\"field\":\"x\"},\"y\":{\"field\":\"y\"}},\"id\":\"1f8dad6b-3c48-4d84-adbf-b9ff8689defd\",\"type\":\"Rect\"},{\"attributes\":{\"callback\":null,\"column_names\":[\"line_color\",\"line_alpha\",\"color\",\"fill_alpha\",\"height\",\"width\",\"y\",\"x\"],\"data\":{\"chart_index\":[{\"count-repairs-per-property\":23}],\"color\":[\"#f22c40\"],\"count-repairs-per-property\":[23],\"fill_alpha\":[0.8],\"height\":[11.0],\"line_alpha\":[1.0],\"line_color\":[\"white\"],\"width\":[0.8],\"x\":[\"23\"],\"y\":[5.5]}},\"id\":\"0878e40f-df5d-4c52-8039-9fc0b7f48de2\",\"type\":\"ColumnDataSource\"},{\"attributes\":{\"fill_alpha\":{\"field\":\"fill_alpha\"},\"fill_color\":{\"field\":\"color\"},\"height\":{\"field\":\"height\",\"units\":\"data\"},\"line_color\":{\"field\":\"line_color\"},\"width\":{\"field\":\"width\",\"units\":\"data\"},\"x\":{\"field\":\"x\"},\"y\":{\"field\":\"y\"}},\"id\":\"5b355fe4-f7e7-4562-8228-58b7dd28a712\",\"type\":\"Rect\"},{\"attributes\":{\"data_source\":{\"id\":\"7d0aa7aa-fd42-4cb8-871a-52ab8c43d3ae\",\"type\":\"ColumnDataSource\"},\"glyph\":{\"id\":\"3a645ea0-cb41-4530-a49f-6cdd3ff7921d\",\"type\":\"Rect\"},\"hover_glyph\":null,\"nonselection_glyph\":null,\"selection_glyph\":null},\"id\":\"0a524556-8384-42ee-92a1-88b1476a11f9\",\"type\":\"GlyphRenderer\"},{\"attributes\":{\"fill_alpha\":{\"field\":\"fill_alpha\"},\"fill_color\":{\"field\":\"color\"},\"height\":{\"field\":\"height\",\"units\":\"data\"},\"line_color\":{\"field\":\"line_color\"},\"width\":{\"field\":\"width\",\"units\":\"data\"},\"x\":{\"field\":\"x\"},\"y\":{\"field\":\"y\"}},\"id\":\"5a7324c3-7a86-4782-afcf-77ac6d71c797\",\"type\":\"Rect\"},{\"attributes\":{\"data_source\":{\"id\":\"876a2a29-3e94-497e-ae17-df8775523304\",\"type\":\"ColumnDataSource\"},\"glyph\":{\"id\":\"1a5915c5-4c80-4072-abd0-abfce70de497\",\"type\":\"Rect\"},\"hover_glyph\":null,\"nonselection_glyph\":null,\"selection_glyph\":null},\"id\":\"8e8bc9b1-4cf7-4015-831b-17a73eeebbd9\",\"type\":\"GlyphRenderer\"},{\"attributes\":{\"data_source\":{\"id\":\"abff4674-4474-46fc-8f00-6115b8bd90a1\",\"type\":\"ColumnDataSource\"},\"glyph\":{\"id\":\"1f8dad6b-3c48-4d84-adbf-b9ff8689defd\",\"type\":\"Rect\"},\"hover_glyph\":null,\"nonselection_glyph\":null,\"selection_glyph\":null},\"id\":\"ab3d081d-dfa6-469a-b09f-da74d94330aa\",\"type\":\"GlyphRenderer\"},{\"attributes\":{\"data_source\":{\"id\":\"9167415d-e44a-4438-b25c-85313f8a4d80\",\"type\":\"ColumnDataSource\"},\"glyph\":{\"id\":\"0e6bb4d0-610f-4f0e-a766-a22b95cbe31a\",\"type\":\"Rect\"},\"hover_glyph\":null,\"nonselection_glyph\":null,\"selection_glyph\":null},\"id\":\"7e49db16-9731-4723-b503-aba4f69f53a3\",\"type\":\"GlyphRenderer\"},{\"attributes\":{\"data_source\":{\"id\":\"d73eabce-e400-4f02-8eb3-90508bdcf55b\",\"type\":\"ColumnDataSource\"},\"glyph\":{\"id\":\"da549a99-4218-40cf-9f1d-6a4b5089c055\",\"type\":\"Rect\"},\"hover_glyph\":null,\"nonselection_glyph\":null,\"selection_glyph\":null},\"id\":\"2ec822a7-b333-4298-9b9a-0b7d5452326e\",\"type\":\"GlyphRenderer\"},{\"attributes\":{\"data_source\":{\"id\":\"05d6a6ea-c9ed-44f6-a90b-ada09f884c55\",\"type\":\"ColumnDataSource\"},\"glyph\":{\"id\":\"aa993e04-0ccb-4e96-a4ea-f4165dd8f6e8\",\"type\":\"Rect\"},\"hover_glyph\":null,\"nonselection_glyph\":null,\"selection_glyph\":null},\"id\":\"6e551d49-d853-4e65-9880-9fd967c6b856\",\"type\":\"GlyphRenderer\"},{\"attributes\":{\"callback\":null,\"column_names\":[\"line_color\",\"line_alpha\",\"color\",\"fill_alpha\",\"height\",\"width\",\"y\",\"x\"],\"data\":{\"chart_index\":[{\"count-repairs-per-property\":61}],\"color\":[\"#f22c40\"],\"count-repairs-per-property\":[61],\"fill_alpha\":[0.8],\"height\":[1.0],\"line_alpha\":[1.0],\"line_color\":[\"white\"],\"width\":[0.8],\"x\":[\"61\"],\"y\":[0.5]}},\"id\":\"b7e3268f-618f-4ad0-8c31-b4990d45ad16\",\"type\":\"ColumnDataSource\"},{\"attributes\":{\"callback\":null,\"column_names\":[\"line_color\",\"line_alpha\",\"color\",\"fill_alpha\",\"height\",\"width\",\"y\",\"x\"],\"data\":{\"chart_index\":[{\"count-repairs-per-property\":37}],\"color\":[\"#f22c40\"],\"count-repairs-per-property\":[37],\"fill_alpha\":[0.8],\"height\":[3.0],\"line_alpha\":[1.0],\"line_color\":[\"white\"],\"width\":[0.8],\"x\":[\"37\"],\"y\":[1.5]}},\"id\":\"f1ea1115-36e9-4522-bd4b-0abf9be9729a\",\"type\":\"ColumnDataSource\"},{\"attributes\":{\"fill_alpha\":{\"field\":\"fill_alpha\"},\"fill_color\":{\"field\":\"color\"},\"height\":{\"field\":\"height\",\"units\":\"data\"},\"line_color\":{\"field\":\"line_color\"},\"width\":{\"field\":\"width\",\"units\":\"data\"},\"x\":{\"field\":\"x\"},\"y\":{\"field\":\"y\"}},\"id\":\"ed7b6eee-a280-45d0-b559-dbda3da3a33c\",\"type\":\"Rect\"},{\"attributes\":{\"data_source\":{\"id\":\"e412c0de-ca42-43e1-850f-31de7bdcf824\",\"type\":\"ColumnDataSource\"},\"glyph\":{\"id\":\"a3bf9295-d620-4eec-b038-dec4ac8a9447\",\"type\":\"Rect\"},\"hover_glyph\":null,\"nonselection_glyph\":null,\"selection_glyph\":null},\"id\":\"c7e787f2-59a5-4c9c-a125-32cd8dbf414a\",\"type\":\"GlyphRenderer\"},{\"attributes\":{\"callback\":null,\"column_names\":[\"line_color\",\"line_alpha\",\"color\",\"fill_alpha\",\"height\",\"width\",\"y\",\"x\"],\"data\":{\"chart_index\":[{\"count-repairs-per-property\":35}],\"color\":[\"#f22c40\"],\"count-repairs-per-property\":[35],\"fill_alpha\":[0.8],\"height\":[1.0],\"line_alpha\":[1.0],\"line_color\":[\"white\"],\"width\":[0.8],\"x\":[\"35\"],\"y\":[0.5]}},\"id\":\"5c40217b-b1e7-433f-874d-1fbe90afbb18\",\"type\":\"ColumnDataSource\"},{\"attributes\":{\"callback\":null,\"column_names\":[\"line_color\",\"line_alpha\",\"color\",\"fill_alpha\",\"height\",\"width\",\"y\",\"x\"],\"data\":{\"chart_index\":[{\"count-repairs-per-property\":32}],\"color\":[\"#f22c40\"],\"count-repairs-per-property\":[32],\"fill_alpha\":[0.8],\"height\":[2.0],\"line_alpha\":[1.0],\"line_color\":[\"white\"],\"width\":[0.8],\"x\":[\"32\"],\"y\":[1.0]}},\"id\":\"fac400df-1c9a-494c-8a9f-f33e27b7b645\",\"type\":\"ColumnDataSource\"},{\"attributes\":{\"data_source\":{\"id\":\"f1ea1115-36e9-4522-bd4b-0abf9be9729a\",\"type\":\"ColumnDataSource\"},\"glyph\":{\"id\":\"c9ab6c1c-dfc8-475e-ab54-6d347c47e365\",\"type\":\"Rect\"},\"hover_glyph\":null,\"nonselection_glyph\":null,\"selection_glyph\":null},\"id\":\"2b9fb69c-1ac9-44fa-9f9d-4f032a2e5203\",\"type\":\"GlyphRenderer\"},{\"attributes\":{\"callback\":null,\"column_names\":[\"line_color\",\"line_alpha\",\"color\",\"fill_alpha\",\"height\",\"width\",\"y\",\"x\"],\"data\":{\"chart_index\":[{\"count-repairs-per-property\":42}],\"color\":[\"#f22c40\"],\"count-repairs-per-property\":[42],\"fill_alpha\":[0.8],\"height\":[1.0],\"line_alpha\":[1.0],\"line_color\":[\"white\"],\"width\":[0.8],\"x\":[\"42\"],\"y\":[0.5]}},\"id\":\"e412c0de-ca42-43e1-850f-31de7bdcf824\",\"type\":\"ColumnDataSource\"},{\"attributes\":{\"callback\":null,\"column_names\":[\"line_color\",\"line_alpha\",\"color\",\"fill_alpha\",\"height\",\"width\",\"y\",\"x\"],\"data\":{\"chart_index\":[{\"count-repairs-per-property\":3}],\"color\":[\"#f22c40\"],\"count-repairs-per-property\":[3],\"fill_alpha\":[0.8],\"height\":[2206.0],\"line_alpha\":[1.0],\"line_color\":[\"white\"],\"width\":[0.8],\"x\":[\"3\"],\"y\":[1103.0]}},\"id\":\"d8b6905d-fc1f-4218-a0cc-212509e5ccde\",\"type\":\"ColumnDataSource\"},{\"attributes\":{\"data_source\":{\"id\":\"dc96c67f-bdfa-442f-96bf-143c68145b38\",\"type\":\"ColumnDataSource\"},\"glyph\":{\"id\":\"e49fa87e-44d9-4800-9dbb-902b757643cd\",\"type\":\"Rect\"},\"hover_glyph\":null,\"nonselection_glyph\":null,\"selection_glyph\":null},\"id\":\"23407794-36ab-4354-a85a-3081d6ae073b\",\"type\":\"GlyphRenderer\"},{\"attributes\":{\"plot\":{\"id\":\"910f769f-d574-4949-b408-3baabc7e5605\",\"subtype\":\"Chart\",\"type\":\"Plot\"}},\"id\":\"e2194797-844c-4fb2-bbce-d8b2179f7786\",\"type\":\"PreviewSaveTool\"},{\"attributes\":{\"callback\":null,\"column_names\":[\"line_color\",\"line_alpha\",\"color\",\"fill_alpha\",\"height\",\"width\",\"y\",\"x\"],\"data\":{\"chart_index\":[{\"count-repairs-per-property\":7}],\"color\":[\"#f22c40\"],\"count-repairs-per-property\":[7],\"fill_alpha\":[0.8],\"height\":[699.0],\"line_alpha\":[1.0],\"line_color\":[\"white\"],\"width\":[0.8],\"x\":[\"7\"],\"y\":[349.5]}},\"id\":\"b351e3d3-6cdf-4793-96ac-3f7bb03b5f33\",\"type\":\"ColumnDataSource\"},{\"attributes\":{},\"id\":\"8703f9cc-f4da-4280-93e5-4e16bdea83c3\",\"type\":\"CategoricalTickFormatter\"},{\"attributes\":{\"fill_alpha\":{\"field\":\"fill_alpha\"},\"fill_color\":{\"field\":\"color\"},\"height\":{\"field\":\"height\",\"units\":\"data\"},\"line_color\":{\"field\":\"line_color\"},\"width\":{\"field\":\"width\",\"units\":\"data\"},\"x\":{\"field\":\"x\"},\"y\":{\"field\":\"y\"}},\"id\":\"54b1319b-3730-438c-b629-97aa6db10e73\",\"type\":\"Rect\"},{\"attributes\":{\"data_source\":{\"id\":\"f95a5f3b-3f46-4e67-ac6d-49ca683f9a32\",\"type\":\"ColumnDataSource\"},\"glyph\":{\"id\":\"ed7b6eee-a280-45d0-b559-dbda3da3a33c\",\"type\":\"Rect\"},\"hover_glyph\":null,\"nonselection_glyph\":null,\"selection_glyph\":null},\"id\":\"232c5d57-0b28-42f8-baa7-7c6f76e829e0\",\"type\":\"GlyphRenderer\"},{\"attributes\":{\"data_source\":{\"id\":\"d7159fbd-5c89-469a-b44b-b703ac1a6e9c\",\"type\":\"ColumnDataSource\"},\"glyph\":{\"id\":\"5a7324c3-7a86-4782-afcf-77ac6d71c797\",\"type\":\"Rect\"},\"hover_glyph\":null,\"nonselection_glyph\":null,\"selection_glyph\":null},\"id\":\"91fde158-e05a-4580-951d-4a705aa22e46\",\"type\":\"GlyphRenderer\"},{\"attributes\":{\"data_source\":{\"id\":\"9a4bcc02-88cc-492b-868b-bb630b795e57\",\"type\":\"ColumnDataSource\"},\"glyph\":{\"id\":\"5b3ffa5e-1e7f-4456-9523-852d371fc6d5\",\"type\":\"Rect\"},\"hover_glyph\":null,\"nonselection_glyph\":null,\"selection_glyph\":null},\"id\":\"7fab6435-abfc-47f3-be9d-41d514767673\",\"type\":\"GlyphRenderer\"},{\"attributes\":{\"data_source\":{\"id\":\"23643122-f366-4cf7-a19e-dc121dec4335\",\"type\":\"ColumnDataSource\"},\"glyph\":{\"id\":\"f35b5d73-6d0b-4b5f-bd51-1baf6be519b6\",\"type\":\"Rect\"},\"hover_glyph\":null,\"nonselection_glyph\":null,\"selection_glyph\":null},\"id\":\"3d8d6eac-3fab-4b14-b9e5-4a1396b60f9f\",\"type\":\"GlyphRenderer\"},{\"attributes\":{\"fill_alpha\":{\"field\":\"fill_alpha\"},\"fill_color\":{\"field\":\"color\"},\"height\":{\"field\":\"height\",\"units\":\"data\"},\"line_color\":{\"field\":\"line_color\"},\"width\":{\"field\":\"width\",\"units\":\"data\"},\"x\":{\"field\":\"x\"},\"y\":{\"field\":\"y\"}},\"id\":\"d83e1148-92c3-4933-8856-2e648909c9b6\",\"type\":\"Rect\"},{\"attributes\":{\"data_source\":{\"id\":\"d5660639-bb6c-426f-b2d0-ac5ac6e31c74\",\"type\":\"ColumnDataSource\"},\"glyph\":{\"id\":\"5b355fe4-f7e7-4562-8228-58b7dd28a712\",\"type\":\"Rect\"},\"hover_glyph\":null,\"nonselection_glyph\":null,\"selection_glyph\":null},\"id\":\"dc244aef-f615-4151-9a69-429c1e302360\",\"type\":\"GlyphRenderer\"},{\"attributes\":{\"callback\":null,\"column_names\":[\"line_color\",\"line_alpha\",\"color\",\"fill_alpha\",\"height\",\"width\",\"y\",\"x\"],\"data\":{\"chart_index\":[{\"count-repairs-per-property\":2}],\"color\":[\"#f22c40\"],\"count-repairs-per-property\":[2],\"fill_alpha\":[0.8],\"height\":[2721.0],\"line_alpha\":[1.0],\"line_color\":[\"white\"],\"width\":[0.8],\"x\":[\"2\"],\"y\":[1360.5]}},\"id\":\"d73eabce-e400-4f02-8eb3-90508bdcf55b\",\"type\":\"ColumnDataSource\"},{\"attributes\":{\"fill_alpha\":{\"field\":\"fill_alpha\"},\"fill_color\":{\"field\":\"color\"},\"height\":{\"field\":\"height\",\"units\":\"data\"},\"line_color\":{\"field\":\"line_color\"},\"width\":{\"field\":\"width\",\"units\":\"data\"},\"x\":{\"field\":\"x\"},\"y\":{\"field\":\"y\"}},\"id\":\"f35b5d73-6d0b-4b5f-bd51-1baf6be519b6\",\"type\":\"Rect\"},{\"attributes\":{\"callback\":null,\"column_names\":[\"line_color\",\"line_alpha\",\"color\",\"fill_alpha\",\"height\",\"width\",\"y\",\"x\"],\"data\":{\"chart_index\":[{\"count-repairs-per-property\":13}],\"color\":[\"#f22c40\"],\"count-repairs-per-property\":[13],\"fill_alpha\":[0.8],\"height\":[95.0],\"line_alpha\":[1.0],\"line_color\":[\"white\"],\"width\":[0.8],\"x\":[\"13\"],\"y\":[47.5]}},\"id\":\"d5660639-bb6c-426f-b2d0-ac5ac6e31c74\",\"type\":\"ColumnDataSource\"},{\"attributes\":{\"overlay\":{\"id\":\"4020fa92-2d84-433f-bf4b-58a6d8def6fe\",\"type\":\"BoxAnnotation\"},\"plot\":{\"id\":\"910f769f-d574-4949-b408-3baabc7e5605\",\"subtype\":\"Chart\",\"type\":\"Plot\"}},\"id\":\"49582b72-4415-4407-a75a-0440a3009ec8\",\"type\":\"BoxZoomTool\"},{\"attributes\":{\"fill_alpha\":{\"field\":\"fill_alpha\"},\"fill_color\":{\"field\":\"color\"},\"height\":{\"field\":\"height\",\"units\":\"data\"},\"line_color\":{\"field\":\"line_color\"},\"width\":{\"field\":\"width\",\"units\":\"data\"},\"x\":{\"field\":\"x\"},\"y\":{\"field\":\"y\"}},\"id\":\"b0f44a26-6599-45eb-9a8e-c13882778987\",\"type\":\"Rect\"},{\"attributes\":{\"fill_alpha\":{\"field\":\"fill_alpha\"},\"fill_color\":{\"field\":\"color\"},\"height\":{\"field\":\"height\",\"units\":\"data\"},\"line_color\":{\"field\":\"line_color\"},\"width\":{\"field\":\"width\",\"units\":\"data\"},\"x\":{\"field\":\"x\"},\"y\":{\"field\":\"y\"}},\"id\":\"069f1715-621f-4a5e-9a86-60e14d9d9229\",\"type\":\"Rect\"},{\"attributes\":{\"callback\":null,\"column_names\":[\"line_color\",\"line_alpha\",\"color\",\"fill_alpha\",\"height\",\"width\",\"y\",\"x\"],\"data\":{\"chart_index\":[{\"count-repairs-per-property\":1}],\"color\":[\"#f22c40\"],\"count-repairs-per-property\":[1],\"fill_alpha\":[0.8],\"height\":[3341.0],\"line_alpha\":[1.0],\"line_color\":[\"white\"],\"width\":[0.8],\"x\":[\"1\"],\"y\":[1670.5]}},\"id\":\"8921f009-3f80-499b-989a-3bb2e9c75254\",\"type\":\"ColumnDataSource\"},{\"attributes\":{\"data_source\":{\"id\":\"f936eb1a-fbdb-4fb5-916e-731cf15231ab\",\"type\":\"ColumnDataSource\"},\"glyph\":{\"id\":\"d83e1148-92c3-4933-8856-2e648909c9b6\",\"type\":\"Rect\"},\"hover_glyph\":null,\"nonselection_glyph\":null,\"selection_glyph\":null},\"id\":\"ca90f712-2e27-45d0-852b-06de8ad33457\",\"type\":\"GlyphRenderer\"},{\"attributes\":{\"callback\":null,\"column_names\":[\"line_color\",\"line_alpha\",\"color\",\"fill_alpha\",\"height\",\"width\",\"y\",\"x\"],\"data\":{\"chart_index\":[{\"count-repairs-per-property\":31}],\"color\":[\"#f22c40\"],\"count-repairs-per-property\":[31],\"fill_alpha\":[0.8],\"height\":[6.0],\"line_alpha\":[1.0],\"line_color\":[\"white\"],\"width\":[0.8],\"x\":[\"31\"],\"y\":[3.0]}},\"id\":\"b2281199-0cd8-41c1-a396-0f96456b5687\",\"type\":\"ColumnDataSource\"},{\"attributes\":{\"fill_alpha\":{\"field\":\"fill_alpha\"},\"fill_color\":{\"field\":\"color\"},\"height\":{\"field\":\"height\",\"units\":\"data\"},\"line_color\":{\"field\":\"line_color\"},\"width\":{\"field\":\"width\",\"units\":\"data\"},\"x\":{\"field\":\"x\"},\"y\":{\"field\":\"y\"}},\"id\":\"3db55155-484a-4b2b-8bf4-f7ed8548ca4d\",\"type\":\"Rect\"},{\"attributes\":{\"callback\":null,\"column_names\":[\"line_color\",\"line_alpha\",\"color\",\"fill_alpha\",\"height\",\"width\",\"y\",\"x\"],\"data\":{\"chart_index\":[{\"count-repairs-per-property\":20}],\"color\":[\"#f22c40\"],\"count-repairs-per-property\":[20],\"fill_alpha\":[0.8],\"height\":[21.0],\"line_alpha\":[1.0],\"line_color\":[\"white\"],\"width\":[0.8],\"x\":[\"20\"],\"y\":[10.5]}},\"id\":\"abff4674-4474-46fc-8f00-6115b8bd90a1\",\"type\":\"ColumnDataSource\"},{\"attributes\":{\"callback\":null,\"column_names\":[\"line_color\",\"line_alpha\",\"color\",\"fill_alpha\",\"height\",\"width\",\"y\",\"x\"],\"data\":{\"chart_index\":[{\"count-repairs-per-property\":26}],\"color\":[\"#f22c40\"],\"count-repairs-per-property\":[26],\"fill_alpha\":[0.8],\"height\":[8.0],\"line_alpha\":[1.0],\"line_color\":[\"white\"],\"width\":[0.8],\"x\":[\"26\"],\"y\":[4.0]}},\"id\":\"dc31cb58-155d-4dd3-acf2-bf0bc7a29959\",\"type\":\"ColumnDataSource\"},{\"attributes\":{\"data_source\":{\"id\":\"b351e3d3-6cdf-4793-96ac-3f7bb03b5f33\",\"type\":\"ColumnDataSource\"},\"glyph\":{\"id\":\"06e89bc1-5819-460b-9f2b-8d12ebf1c749\",\"type\":\"Rect\"},\"hover_glyph\":null,\"nonselection_glyph\":null,\"selection_glyph\":null},\"id\":\"b2b961e9-3da7-43b2-b31f-552492459360\",\"type\":\"GlyphRenderer\"},{\"attributes\":{\"data_source\":{\"id\":\"cfd279e1-f4a4-4a33-b386-3c3f5e63bbea\",\"type\":\"ColumnDataSource\"},\"glyph\":{\"id\":\"ac4f22bd-f3e5-4dd1-acf1-a780996abe85\",\"type\":\"Rect\"},\"hover_glyph\":null,\"nonselection_glyph\":null,\"selection_glyph\":null},\"id\":\"de6b79ae-2028-4af5-87b9-ce9ff8455f61\",\"type\":\"GlyphRenderer\"},{\"attributes\":{\"callback\":null,\"column_names\":[\"line_color\",\"line_alpha\",\"color\",\"fill_alpha\",\"height\",\"width\",\"y\",\"x\"],\"data\":{\"chart_index\":[{\"count-repairs-per-property\":27}],\"color\":[\"#f22c40\"],\"count-repairs-per-property\":[27],\"fill_alpha\":[0.8],\"height\":[6.0],\"line_alpha\":[1.0],\"line_color\":[\"white\"],\"width\":[0.8],\"x\":[\"27\"],\"y\":[3.0]}},\"id\":\"732620ed-7c59-418e-bd87-9503521fc769\",\"type\":\"ColumnDataSource\"},{\"attributes\":{\"data_source\":{\"id\":\"050f579a-b3aa-496c-9172-311a1b7f70aa\",\"type\":\"ColumnDataSource\"},\"glyph\":{\"id\":\"898b17f1-f44d-496b-8ed1-a32bfa74fc8d\",\"type\":\"Rect\"},\"hover_glyph\":null,\"nonselection_glyph\":null,\"selection_glyph\":null},\"id\":\"2a3deab2-0670-4266-93b8-1428c1c14147\",\"type\":\"GlyphRenderer\"},{\"attributes\":{\"callback\":null,\"column_names\":[\"line_color\",\"line_alpha\",\"color\",\"fill_alpha\",\"height\",\"width\",\"y\",\"x\"],\"data\":{\"chart_index\":[{\"count-repairs-per-property\":10}],\"color\":[\"#f22c40\"],\"count-repairs-per-property\":[10],\"fill_alpha\":[0.8],\"height\":[262.0],\"line_alpha\":[1.0],\"line_color\":[\"white\"],\"width\":[0.8],\"x\":[\"10\"],\"y\":[131.0]}},\"id\":\"23643122-f366-4cf7-a19e-dc121dec4335\",\"type\":\"ColumnDataSource\"},{\"attributes\":{\"fill_alpha\":{\"field\":\"fill_alpha\"},\"fill_color\":{\"field\":\"color\"},\"height\":{\"field\":\"height\",\"units\":\"data\"},\"line_color\":{\"field\":\"line_color\"},\"width\":{\"field\":\"width\",\"units\":\"data\"},\"x\":{\"field\":\"x\"},\"y\":{\"field\":\"y\"}},\"id\":\"aa993e04-0ccb-4e96-a4ea-f4165dd8f6e8\",\"type\":\"Rect\"},{\"attributes\":{\"callback\":null,\"column_names\":[\"line_color\",\"line_alpha\",\"color\",\"fill_alpha\",\"height\",\"width\",\"y\",\"x\"],\"data\":{\"chart_index\":[{\"count-repairs-per-property\":66}],\"color\":[\"#f22c40\"],\"count-repairs-per-property\":[66],\"fill_alpha\":[0.8],\"height\":[1.0],\"line_alpha\":[1.0],\"line_color\":[\"white\"],\"width\":[0.8],\"x\":[\"66\"],\"y\":[0.5]}},\"id\":\"ec5aaec9-7e06-4258-b731-0217bf6afd6a\",\"type\":\"ColumnDataSource\"},{\"attributes\":{\"fill_alpha\":{\"field\":\"fill_alpha\"},\"fill_color\":{\"field\":\"color\"},\"height\":{\"field\":\"height\",\"units\":\"data\"},\"line_color\":{\"field\":\"line_color\"},\"width\":{\"field\":\"width\",\"units\":\"data\"},\"x\":{\"field\":\"x\"},\"y\":{\"field\":\"y\"}},\"id\":\"49b6cd53-cd3d-4dca-be0c-5d86d1f67a45\",\"type\":\"Rect\"},{\"attributes\":{\"callback\":null,\"column_names\":[\"line_color\",\"line_alpha\",\"color\",\"fill_alpha\",\"height\",\"width\",\"y\",\"x\"],\"data\":{\"chart_index\":[{\"count-repairs-per-property\":17}],\"color\":[\"#f22c40\"],\"count-repairs-per-property\":[17],\"fill_alpha\":[0.8],\"height\":[44.0],\"line_alpha\":[1.0],\"line_color\":[\"white\"],\"width\":[0.8],\"x\":[\"17\"],\"y\":[22.0]}},\"id\":\"cfd279e1-f4a4-4a33-b386-3c3f5e63bbea\",\"type\":\"ColumnDataSource\"},{\"attributes\":{\"callback\":null,\"column_names\":[\"line_color\",\"line_alpha\",\"color\",\"fill_alpha\",\"height\",\"width\",\"y\",\"x\"],\"data\":{\"chart_index\":[{\"count-repairs-per-property\":58}],\"color\":[\"#f22c40\"],\"count-repairs-per-property\":[58],\"fill_alpha\":[0.8],\"height\":[1.0],\"line_alpha\":[1.0],\"line_color\":[\"white\"],\"width\":[0.8],\"x\":[\"58\"],\"y\":[0.5]}},\"id\":\"050f579a-b3aa-496c-9172-311a1b7f70aa\",\"type\":\"ColumnDataSource\"},{\"attributes\":{\"data_source\":{\"id\":\"f38e12c6-611e-4625-bbdd-c886dea463a4\",\"type\":\"ColumnDataSource\"},\"glyph\":{\"id\":\"b0f44a26-6599-45eb-9a8e-c13882778987\",\"type\":\"Rect\"},\"hover_glyph\":null,\"nonselection_glyph\":null,\"selection_glyph\":null},\"id\":\"fdeda863-1d5f-4877-988d-22257968503c\",\"type\":\"GlyphRenderer\"},{\"attributes\":{\"data_source\":{\"id\":\"fac400df-1c9a-494c-8a9f-f33e27b7b645\",\"type\":\"ColumnDataSource\"},\"glyph\":{\"id\":\"d54bac15-7e77-48c7-acab-06d5a09e5e34\",\"type\":\"Rect\"},\"hover_glyph\":null,\"nonselection_glyph\":null,\"selection_glyph\":null},\"id\":\"6f48daf7-b5cc-408e-a78a-7b65a2133cab\",\"type\":\"GlyphRenderer\"},{\"attributes\":{\"data_source\":{\"id\":\"d8b6905d-fc1f-4218-a0cc-212509e5ccde\",\"type\":\"ColumnDataSource\"},\"glyph\":{\"id\":\"db15d70e-97ca-4d8c-b8c7-b93d1a613772\",\"type\":\"Rect\"},\"hover_glyph\":null,\"nonselection_glyph\":null,\"selection_glyph\":null},\"id\":\"c2646044-028b-445a-ac10-f129970f3c7e\",\"type\":\"GlyphRenderer\"},{\"attributes\":{\"data_source\":{\"id\":\"5c436654-ca8b-44e7-b258-a48b14358151\",\"type\":\"ColumnDataSource\"},\"glyph\":{\"id\":\"3db55155-484a-4b2b-8bf4-f7ed8548ca4d\",\"type\":\"Rect\"},\"hover_glyph\":null,\"nonselection_glyph\":null,\"selection_glyph\":null},\"id\":\"e71e66a3-6ecc-41e2-b563-df8c1a4678d2\",\"type\":\"GlyphRenderer\"},{\"attributes\":{\"fill_alpha\":{\"field\":\"fill_alpha\"},\"fill_color\":{\"field\":\"color\"},\"height\":{\"field\":\"height\",\"units\":\"data\"},\"line_color\":{\"field\":\"line_color\"},\"width\":{\"field\":\"width\",\"units\":\"data\"},\"x\":{\"field\":\"x\"},\"y\":{\"field\":\"y\"}},\"id\":\"06e89bc1-5819-460b-9f2b-8d12ebf1c749\",\"type\":\"Rect\"},{\"attributes\":{\"data_source\":{\"id\":\"78099b12-0533-4c46-a6ec-3227397918ce\",\"type\":\"ColumnDataSource\"},\"glyph\":{\"id\":\"e5bb5f5d-fb58-4edf-b293-362956dc9c41\",\"type\":\"Rect\"},\"hover_glyph\":null,\"nonselection_glyph\":null,\"selection_glyph\":null},\"id\":\"fdb131e2-7e4e-444c-82fd-830203e5f86c\",\"type\":\"GlyphRenderer\"},{\"attributes\":{\"fill_alpha\":{\"field\":\"fill_alpha\"},\"fill_color\":{\"field\":\"color\"},\"height\":{\"field\":\"height\",\"units\":\"data\"},\"line_color\":{\"field\":\"line_color\"},\"width\":{\"field\":\"width\",\"units\":\"data\"},\"x\":{\"field\":\"x\"},\"y\":{\"field\":\"y\"}},\"id\":\"898b17f1-f44d-496b-8ed1-a32bfa74fc8d\",\"type\":\"Rect\"},{\"attributes\":{\"callback\":null,\"column_names\":[\"line_color\",\"line_alpha\",\"color\",\"fill_alpha\",\"height\",\"width\",\"y\",\"x\"],\"data\":{\"chart_index\":[{\"count-repairs-per-property\":9}],\"color\":[\"#f22c40\"],\"count-repairs-per-property\":[9],\"fill_alpha\":[0.8],\"height\":[360.0],\"line_alpha\":[1.0],\"line_color\":[\"white\"],\"width\":[0.8],\"x\":[\"9\"],\"y\":[180.0]}},\"id\":\"bbf204f1-25db-4183-8658-bbe984543cb2\",\"type\":\"ColumnDataSource\"},{\"attributes\":{\"fill_alpha\":{\"field\":\"fill_alpha\"},\"fill_color\":{\"field\":\"color\"},\"height\":{\"field\":\"height\",\"units\":\"data\"},\"line_color\":{\"field\":\"line_color\"},\"width\":{\"field\":\"width\",\"units\":\"data\"},\"x\":{\"field\":\"x\"},\"y\":{\"field\":\"y\"}},\"id\":\"5b3ffa5e-1e7f-4456-9523-852d371fc6d5\",\"type\":\"Rect\"},{\"attributes\":{\"data_source\":{\"id\":\"9e6cb893-e6a3-4fba-8569-94be21021e7c\",\"type\":\"ColumnDataSource\"},\"glyph\":{\"id\":\"850d36db-0219-4467-96ab-394f813cab7b\",\"type\":\"Rect\"},\"hover_glyph\":null,\"nonselection_glyph\":null,\"selection_glyph\":null},\"id\":\"afdf2f68-53d4-4103-8a3b-5ced429e3ff1\",\"type\":\"GlyphRenderer\"},{\"attributes\":{\"callback\":null,\"column_names\":[\"line_color\",\"line_alpha\",\"color\",\"fill_alpha\",\"height\",\"width\",\"y\",\"x\"],\"data\":{\"chart_index\":[{\"count-repairs-per-property\":21}],\"color\":[\"#f22c40\"],\"count-repairs-per-property\":[21],\"fill_alpha\":[0.8],\"height\":[14.0],\"line_alpha\":[1.0],\"line_color\":[\"white\"],\"width\":[0.8],\"x\":[\"21\"],\"y\":[7.0]}},\"id\":\"9e6cb893-e6a3-4fba-8569-94be21021e7c\",\"type\":\"ColumnDataSource\"},{\"attributes\":{\"data_source\":{\"id\":\"b7e3268f-618f-4ad0-8c31-b4990d45ad16\",\"type\":\"ColumnDataSource\"},\"glyph\":{\"id\":\"033e705f-16e1-4633-8be3-515b3747fbf3\",\"type\":\"Rect\"},\"hover_glyph\":null,\"nonselection_glyph\":null,\"selection_glyph\":null},\"id\":\"892b660b-7cd0-49f3-b201-017d29a7985d\",\"type\":\"GlyphRenderer\"},{\"attributes\":{},\"id\":\"2b85275f-34d6-4154-8b0a-0ffde569e738\",\"type\":\"CategoricalTicker\"},{\"attributes\":{\"callback\":null,\"column_names\":[\"line_color\",\"line_alpha\",\"color\",\"fill_alpha\",\"height\",\"width\",\"y\",\"x\"],\"data\":{\"chart_index\":[{\"count-repairs-per-property\":6}],\"color\":[\"#f22c40\"],\"count-repairs-per-property\":[6],\"fill_alpha\":[0.8],\"height\":[933.0],\"line_alpha\":[1.0],\"line_color\":[\"white\"],\"width\":[0.8],\"x\":[\"6\"],\"y\":[466.5]}},\"id\":\"876a2a29-3e94-497e-ae17-df8775523304\",\"type\":\"ColumnDataSource\"},{\"attributes\":{\"callback\":null,\"column_names\":[\"line_color\",\"line_alpha\",\"color\",\"fill_alpha\",\"height\",\"width\",\"y\",\"x\"],\"data\":{\"chart_index\":[{\"count-repairs-per-property\":11}],\"color\":[\"#f22c40\"],\"count-repairs-per-property\":[11],\"fill_alpha\":[0.8],\"height\":[201.0],\"line_alpha\":[1.0],\"line_color\":[\"white\"],\"width\":[0.8],\"x\":[\"11\"],\"y\":[100.5]}},\"id\":\"d7159fbd-5c89-469a-b44b-b703ac1a6e9c\",\"type\":\"ColumnDataSource\"},{\"attributes\":{\"fill_alpha\":{\"field\":\"fill_alpha\"},\"fill_color\":{\"field\":\"color\"},\"height\":{\"field\":\"height\",\"units\":\"data\"},\"line_color\":{\"field\":\"line_color\"},\"width\":{\"field\":\"width\",\"units\":\"data\"},\"x\":{\"field\":\"x\"},\"y\":{\"field\":\"y\"}},\"id\":\"ac4f22bd-f3e5-4dd1-acf1-a780996abe85\",\"type\":\"Rect\"},{\"attributes\":{\"data_source\":{\"id\":\"39404e98-2437-4dfe-a1a4-4ca9cb0f959b\",\"type\":\"ColumnDataSource\"},\"glyph\":{\"id\":\"c6e49574-c516-45fd-a4d9-00ab2ea7358a\",\"type\":\"Rect\"},\"hover_glyph\":null,\"nonselection_glyph\":null,\"selection_glyph\":null},\"id\":\"f4eef017-4b90-489a-92fd-ce7143a25347\",\"type\":\"GlyphRenderer\"},{\"attributes\":{\"callback\":null,\"column_names\":[\"line_color\",\"line_alpha\",\"color\",\"fill_alpha\",\"height\",\"width\",\"y\",\"x\"],\"data\":{\"chart_index\":[{\"count-repairs-per-property\":24}],\"color\":[\"#f22c40\"],\"count-repairs-per-property\":[24],\"fill_alpha\":[0.8],\"height\":[10.0],\"line_alpha\":[1.0],\"line_color\":[\"white\"],\"width\":[0.8],\"x\":[\"24\"],\"y\":[5.0]}},\"id\":\"fc88abe1-df3a-405b-be33-19c609cac874\",\"type\":\"ColumnDataSource\"},{\"attributes\":{\"fill_alpha\":{\"field\":\"fill_alpha\"},\"fill_color\":{\"field\":\"color\"},\"height\":{\"field\":\"height\",\"units\":\"data\"},\"line_color\":{\"field\":\"line_color\"},\"width\":{\"field\":\"width\",\"units\":\"data\"},\"x\":{\"field\":\"x\"},\"y\":{\"field\":\"y\"}},\"id\":\"33bb58e4-99eb-447b-863e-3117a5102b36\",\"type\":\"Rect\"},{\"attributes\":{\"data_source\":{\"id\":\"bbf204f1-25db-4183-8658-bbe984543cb2\",\"type\":\"ColumnDataSource\"},\"glyph\":{\"id\":\"67921715-ef93-45f7-99dd-83e9d6634e98\",\"type\":\"Rect\"},\"hover_glyph\":null,\"nonselection_glyph\":null,\"selection_glyph\":null},\"id\":\"25271a47-95e5-49df-ad85-7f8824acec94\",\"type\":\"GlyphRenderer\"},{\"attributes\":{\"fill_alpha\":{\"field\":\"fill_alpha\"},\"fill_color\":{\"field\":\"color\"},\"height\":{\"field\":\"height\",\"units\":\"data\"},\"line_color\":{\"field\":\"line_color\"},\"width\":{\"field\":\"width\",\"units\":\"data\"},\"x\":{\"field\":\"x\"},\"y\":{\"field\":\"y\"}},\"id\":\"1a5915c5-4c80-4072-abd0-abfce70de497\",\"type\":\"Rect\"},{\"attributes\":{\"axis_label\":\"Sum( Number Of Properties )\",\"formatter\":{\"id\":\"6efebe10-b03c-4bcf-8087-00433cab3ceb\",\"type\":\"BasicTickFormatter\"},\"plot\":{\"id\":\"910f769f-d574-4949-b408-3baabc7e5605\",\"subtype\":\"Chart\",\"type\":\"Plot\"},\"ticker\":{\"id\":\"8a474c2e-075a-41ce-9d94-019b1e152514\",\"type\":\"BasicTicker\"}},\"id\":\"888a3646-d43a-4822-b97f-ec1fce6f2915\",\"type\":\"LinearAxis\"},{\"attributes\":{\"fill_alpha\":{\"field\":\"fill_alpha\"},\"fill_color\":{\"field\":\"color\"},\"height\":{\"field\":\"height\",\"units\":\"data\"},\"line_color\":{\"field\":\"line_color\"},\"width\":{\"field\":\"width\",\"units\":\"data\"},\"x\":{\"field\":\"x\"},\"y\":{\"field\":\"y\"}},\"id\":\"da549a99-4218-40cf-9f1d-6a4b5089c055\",\"type\":\"Rect\"},{\"attributes\":{},\"id\":\"3cab954b-55c6-4c69-83ce-a8b7de6187dc\",\"type\":\"ToolEvents\"},{\"attributes\":{\"callback\":null,\"column_names\":[\"line_color\",\"line_alpha\",\"color\",\"fill_alpha\",\"height\",\"width\",\"y\",\"x\"],\"data\":{\"chart_index\":[{\"count-repairs-per-property\":63}],\"color\":[\"#f22c40\"],\"count-repairs-per-property\":[63],\"fill_alpha\":[0.8],\"height\":[1.0],\"line_alpha\":[1.0],\"line_color\":[\"white\"],\"width\":[0.8],\"x\":[\"63\"],\"y\":[0.5]}},\"id\":\"242b66fa-eecb-40de-8294-56487f2dc832\",\"type\":\"ColumnDataSource\"},{\"attributes\":{\"data_source\":{\"id\":\"74550fff-b467-41fb-b6c2-036a4636051d\",\"type\":\"ColumnDataSource\"},\"glyph\":{\"id\":\"96c46968-6c6c-4ffd-be16-21992041f8ed\",\"type\":\"Rect\"},\"hover_glyph\":null,\"nonselection_glyph\":null,\"selection_glyph\":null},\"id\":\"36982129-eff5-45d0-8968-152f267ea5bb\",\"type\":\"GlyphRenderer\"},{\"attributes\":{\"data_source\":{\"id\":\"9f39e556-0dd4-4124-b398-f32b05dc4f1e\",\"type\":\"ColumnDataSource\"},\"glyph\":{\"id\":\"c5aa1d6e-8ad1-4d6f-8861-7b82f59c7579\",\"type\":\"Rect\"},\"hover_glyph\":null,\"nonselection_glyph\":null,\"selection_glyph\":null},\"id\":\"83ef0249-a882-4eb2-8767-1b691cdc8f70\",\"type\":\"GlyphRenderer\"},{\"attributes\":{\"data_source\":{\"id\":\"6c6bbfb5-20b4-4c2f-9dfb-e5b0f80e838b\",\"type\":\"ColumnDataSource\"},\"glyph\":{\"id\":\"069f1715-621f-4a5e-9a86-60e14d9d9229\",\"type\":\"Rect\"},\"hover_glyph\":null,\"nonselection_glyph\":null,\"selection_glyph\":null},\"id\":\"4177e264-09df-477a-8e7f-b29f61c0f359\",\"type\":\"GlyphRenderer\"},{\"attributes\":{\"callback\":null,\"column_names\":[\"line_color\",\"line_alpha\",\"color\",\"fill_alpha\",\"height\",\"width\",\"y\",\"x\"],\"data\":{\"chart_index\":[{\"count-repairs-per-property\":14}],\"color\":[\"#f22c40\"],\"count-repairs-per-property\":[14],\"fill_alpha\":[0.8],\"height\":[79.0],\"line_alpha\":[1.0],\"line_color\":[\"white\"],\"width\":[0.8],\"x\":[\"14\"],\"y\":[39.5]}},\"id\":\"6c6bbfb5-20b4-4c2f-9dfb-e5b0f80e838b\",\"type\":\"ColumnDataSource\"},{\"attributes\":{\"plot\":{\"id\":\"910f769f-d574-4949-b408-3baabc7e5605\",\"subtype\":\"Chart\",\"type\":\"Plot\"}},\"id\":\"b5f919e0-473d-4bd7-a303-66aa0b3db556\",\"type\":\"WheelZoomTool\"},{\"attributes\":{\"fill_alpha\":{\"field\":\"fill_alpha\"},\"fill_color\":{\"field\":\"color\"},\"height\":{\"field\":\"height\",\"units\":\"data\"},\"line_color\":{\"field\":\"line_color\"},\"width\":{\"field\":\"width\",\"units\":\"data\"},\"x\":{\"field\":\"x\"},\"y\":{\"field\":\"y\"}},\"id\":\"e5bb5f5d-fb58-4edf-b293-362956dc9c41\",\"type\":\"Rect\"},{\"attributes\":{\"data_source\":{\"id\":\"ec5aaec9-7e06-4258-b731-0217bf6afd6a\",\"type\":\"ColumnDataSource\"},\"glyph\":{\"id\":\"e7353b87-9440-4289-bf51-904fa8b56ee1\",\"type\":\"Rect\"},\"hover_glyph\":null,\"nonselection_glyph\":null,\"selection_glyph\":null},\"id\":\"f39fdec9-08a7-4004-8fa5-5356baa16e0b\",\"type\":\"GlyphRenderer\"},{\"attributes\":{\"data_source\":{\"id\":\"4680ec73-35d7-421d-8499-d72c2c88a024\",\"type\":\"ColumnDataSource\"},\"glyph\":{\"id\":\"eb6315c1-3168-4ce0-9121-29d95850a3cb\",\"type\":\"Rect\"},\"hover_glyph\":null,\"nonselection_glyph\":null,\"selection_glyph\":null},\"id\":\"c652badf-593a-49c5-91dc-9b1a028c491a\",\"type\":\"GlyphRenderer\"},{\"attributes\":{\"callback\":null,\"column_names\":[\"line_color\",\"line_alpha\",\"color\",\"fill_alpha\",\"height\",\"width\",\"y\",\"x\"],\"data\":{\"chart_index\":[{\"count-repairs-per-property\":25}],\"color\":[\"#f22c40\"],\"count-repairs-per-property\":[25],\"fill_alpha\":[0.8],\"height\":[12.0],\"line_alpha\":[1.0],\"line_color\":[\"white\"],\"width\":[0.8],\"x\":[\"25\"],\"y\":[6.0]}},\"id\":\"74550fff-b467-41fb-b6c2-036a4636051d\",\"type\":\"ColumnDataSource\"},{\"attributes\":{\"plot\":{\"id\":\"910f769f-d574-4949-b408-3baabc7e5605\",\"subtype\":\"Chart\",\"type\":\"Plot\"}},\"id\":\"3c55183f-6ecd-4144-af74-ceb9598e2235\",\"type\":\"PanTool\"},{\"attributes\":{\"plot\":{\"id\":\"910f769f-d574-4949-b408-3baabc7e5605\",\"subtype\":\"Chart\",\"type\":\"Plot\"}},\"id\":\"1782e5f0-d759-4804-903f-5bc1ce01f185\",\"type\":\"HelpTool\"},{\"attributes\":{\"data_source\":{\"id\":\"8921f009-3f80-499b-989a-3bb2e9c75254\",\"type\":\"ColumnDataSource\"},\"glyph\":{\"id\":\"49b6cd53-cd3d-4dca-be0c-5d86d1f67a45\",\"type\":\"Rect\"},\"hover_glyph\":null,\"nonselection_glyph\":null,\"selection_glyph\":null},\"id\":\"16197e8f-0c13-468b-9653-534a604f2483\",\"type\":\"GlyphRenderer\"},{\"attributes\":{\"fill_alpha\":{\"field\":\"fill_alpha\"},\"fill_color\":{\"field\":\"color\"},\"height\":{\"field\":\"height\",\"units\":\"data\"},\"line_color\":{\"field\":\"line_color\"},\"width\":{\"field\":\"width\",\"units\":\"data\"},\"x\":{\"field\":\"x\"},\"y\":{\"field\":\"y\"}},\"id\":\"f5888249-e139-4fc9-b4f3-5b784e5b8e36\",\"type\":\"Rect\"},{\"attributes\":{\"fill_alpha\":{\"field\":\"fill_alpha\"},\"fill_color\":{\"field\":\"color\"},\"height\":{\"field\":\"height\",\"units\":\"data\"},\"line_color\":{\"field\":\"line_color\"},\"width\":{\"field\":\"width\",\"units\":\"data\"},\"x\":{\"field\":\"x\"},\"y\":{\"field\":\"y\"}},\"id\":\"51841c43-3215-4885-8164-d41598007ec3\",\"type\":\"Rect\"},{\"attributes\":{\"fill_alpha\":{\"field\":\"fill_alpha\"},\"fill_color\":{\"field\":\"color\"},\"height\":{\"field\":\"height\",\"units\":\"data\"},\"line_color\":{\"field\":\"line_color\"},\"width\":{\"field\":\"width\",\"units\":\"data\"},\"x\":{\"field\":\"x\"},\"y\":{\"field\":\"y\"}},\"id\":\"7a7376bc-f4e5-4215-bd43-16293702f060\",\"type\":\"Rect\"},{\"attributes\":{\"callback\":null,\"column_names\":[\"line_color\",\"line_alpha\",\"color\",\"fill_alpha\",\"height\",\"width\",\"y\",\"x\"],\"data\":{\"chart_index\":[{\"count-repairs-per-property\":22}],\"color\":[\"#f22c40\"],\"count-repairs-per-property\":[22],\"fill_alpha\":[0.8],\"height\":[11.0],\"line_alpha\":[1.0],\"line_color\":[\"white\"],\"width\":[0.8],\"x\":[\"22\"],\"y\":[5.5]}},\"id\":\"0487e0a2-cadb-4f97-9f54-80339bc9df39\",\"type\":\"ColumnDataSource\"},{\"attributes\":{\"fill_alpha\":{\"field\":\"fill_alpha\"},\"fill_color\":{\"field\":\"color\"},\"height\":{\"field\":\"height\",\"units\":\"data\"},\"line_color\":{\"field\":\"line_color\"},\"width\":{\"field\":\"width\",\"units\":\"data\"},\"x\":{\"field\":\"x\"},\"y\":{\"field\":\"y\"}},\"id\":\"c5aa1d6e-8ad1-4d6f-8861-7b82f59c7579\",\"type\":\"Rect\"},{\"attributes\":{\"fill_alpha\":{\"field\":\"fill_alpha\"},\"fill_color\":{\"field\":\"color\"},\"height\":{\"field\":\"height\",\"units\":\"data\"},\"line_color\":{\"field\":\"line_color\"},\"width\":{\"field\":\"width\",\"units\":\"data\"},\"x\":{\"field\":\"x\"},\"y\":{\"field\":\"y\"}},\"id\":\"c6e49574-c516-45fd-a4d9-00ab2ea7358a\",\"type\":\"Rect\"},{\"attributes\":{\"fill_alpha\":{\"field\":\"fill_alpha\"},\"fill_color\":{\"field\":\"color\"},\"height\":{\"field\":\"height\",\"units\":\"data\"},\"line_color\":{\"field\":\"line_color\"},\"width\":{\"field\":\"width\",\"units\":\"data\"},\"x\":{\"field\":\"x\"},\"y\":{\"field\":\"y\"}},\"id\":\"cc428084-be07-4400-9f80-441a74e9eda0\",\"type\":\"Rect\"},{\"attributes\":{\"bottom_units\":\"screen\",\"fill_alpha\":{\"value\":0.5},\"fill_color\":{\"value\":\"lightgrey\"},\"left_units\":\"screen\",\"level\":\"overlay\",\"line_alpha\":{\"value\":1.0},\"line_color\":{\"value\":\"black\"},\"line_dash\":[4,4],\"line_width\":{\"value\":2},\"plot\":null,\"render_mode\":\"css\",\"right_units\":\"screen\",\"top_units\":\"screen\"},\"id\":\"4020fa92-2d84-433f-bf4b-58a6d8def6fe\",\"type\":\"BoxAnnotation\"},{\"attributes\":{\"fill_alpha\":{\"field\":\"fill_alpha\"},\"fill_color\":{\"field\":\"color\"},\"height\":{\"field\":\"height\",\"units\":\"data\"},\"line_color\":{\"field\":\"line_color\"},\"width\":{\"field\":\"width\",\"units\":\"data\"},\"x\":{\"field\":\"x\"},\"y\":{\"field\":\"y\"}},\"id\":\"850d36db-0219-4467-96ab-394f813cab7b\",\"type\":\"Rect\"},{\"attributes\":{\"callback\":null,\"column_names\":[\"line_color\",\"line_alpha\",\"color\",\"fill_alpha\",\"height\",\"width\",\"y\",\"x\"],\"data\":{\"chart_index\":[{\"count-repairs-per-property\":28}],\"color\":[\"#f22c40\"],\"count-repairs-per-property\":[28],\"fill_alpha\":[0.8],\"height\":[5.0],\"line_alpha\":[1.0],\"line_color\":[\"white\"],\"width\":[0.8],\"x\":[\"28\"],\"y\":[2.5]}},\"id\":\"9167415d-e44a-4438-b25c-85313f8a4d80\",\"type\":\"ColumnDataSource\"},{\"attributes\":{\"callback\":null,\"column_names\":[\"line_color\",\"line_alpha\",\"color\",\"fill_alpha\",\"height\",\"width\",\"y\",\"x\"],\"data\":{\"chart_index\":[{\"count-repairs-per-property\":4}],\"color\":[\"#f22c40\"],\"count-repairs-per-property\":[4],\"fill_alpha\":[0.8],\"height\":[1635.0],\"line_alpha\":[1.0],\"line_color\":[\"white\"],\"width\":[0.8],\"x\":[\"4\"],\"y\":[817.5]}},\"id\":\"9f39e556-0dd4-4124-b398-f32b05dc4f1e\",\"type\":\"ColumnDataSource\"},{\"attributes\":{\"axis_label\":\"Count-Repairs-Per-Property\",\"formatter\":{\"id\":\"8703f9cc-f4da-4280-93e5-4e16bdea83c3\",\"type\":\"CategoricalTickFormatter\"},\"major_label_orientation\":0.7853981633974483,\"plot\":{\"id\":\"910f769f-d574-4949-b408-3baabc7e5605\",\"subtype\":\"Chart\",\"type\":\"Plot\"},\"ticker\":{\"id\":\"2b85275f-34d6-4154-8b0a-0ffde569e738\",\"type\":\"CategoricalTicker\"}},\"id\":\"eb8db493-88ab-40d2-b683-ae8b6a9dedf7\",\"type\":\"CategoricalAxis\"},{\"attributes\":{\"fill_alpha\":{\"field\":\"fill_alpha\"},\"fill_color\":{\"field\":\"color\"},\"height\":{\"field\":\"height\",\"units\":\"data\"},\"line_color\":{\"field\":\"line_color\"},\"width\":{\"field\":\"width\",\"units\":\"data\"},\"x\":{\"field\":\"x\"},\"y\":{\"field\":\"y\"}},\"id\":\"96c46968-6c6c-4ffd-be16-21992041f8ed\",\"type\":\"Rect\"},{\"attributes\":{\"callback\":null,\"column_names\":[\"line_color\",\"line_alpha\",\"color\",\"fill_alpha\",\"height\",\"width\",\"y\",\"x\"],\"data\":{\"chart_index\":[{\"count-repairs-per-property\":19}],\"color\":[\"#f22c40\"],\"count-repairs-per-property\":[19],\"fill_alpha\":[0.8],\"height\":[16.0],\"line_alpha\":[1.0],\"line_color\":[\"white\"],\"width\":[0.8],\"x\":[\"19\"],\"y\":[8.0]}},\"id\":\"f95a5f3b-3f46-4e67-ac6d-49ca683f9a32\",\"type\":\"ColumnDataSource\"},{\"attributes\":{\"fill_alpha\":{\"field\":\"fill_alpha\"},\"fill_color\":{\"field\":\"color\"},\"height\":{\"field\":\"height\",\"units\":\"data\"},\"line_color\":{\"field\":\"line_color\"},\"width\":{\"field\":\"width\",\"units\":\"data\"},\"x\":{\"field\":\"x\"},\"y\":{\"field\":\"y\"}},\"id\":\"9f1a07fe-a585-4b66-9080-8e5df9f0b6f4\",\"type\":\"Rect\"},{\"attributes\":{\"callback\":null,\"column_names\":[\"line_color\",\"line_alpha\",\"color\",\"fill_alpha\",\"height\",\"width\",\"y\",\"x\"],\"data\":{\"chart_index\":[{\"count-repairs-per-property\":29}],\"color\":[\"#f22c40\"],\"count-repairs-per-property\":[29],\"fill_alpha\":[0.8],\"height\":[4.0],\"line_alpha\":[1.0],\"line_color\":[\"white\"],\"width\":[0.8],\"x\":[\"29\"],\"y\":[2.0]}},\"id\":\"39404e98-2437-4dfe-a1a4-4ca9cb0f959b\",\"type\":\"ColumnDataSource\"},{\"attributes\":{\"plot\":{\"id\":\"910f769f-d574-4949-b408-3baabc7e5605\",\"subtype\":\"Chart\",\"type\":\"Plot\"}},\"id\":\"8266019a-67ae-49cb-bcfd-34bbdf49d213\",\"type\":\"ResetTool\"},{\"attributes\":{\"data_source\":{\"id\":\"697d86da-0916-415e-ac0a-3bf2847797f6\",\"type\":\"ColumnDataSource\"},\"glyph\":{\"id\":\"f5888249-e139-4fc9-b4f3-5b784e5b8e36\",\"type\":\"Rect\"},\"hover_glyph\":null,\"nonselection_glyph\":null,\"selection_glyph\":null},\"id\":\"aff4ef1a-e826-4b63-9ab2-52719c267674\",\"type\":\"GlyphRenderer\"},{\"attributes\":{\"callback\":null,\"column_names\":[\"line_color\",\"line_alpha\",\"color\",\"fill_alpha\",\"height\",\"width\",\"y\",\"x\"],\"data\":{\"chart_index\":[{\"count-repairs-per-property\":8}],\"color\":[\"#f22c40\"],\"count-repairs-per-property\":[8],\"fill_alpha\":[0.8],\"height\":[526.0],\"line_alpha\":[1.0],\"line_color\":[\"white\"],\"width\":[0.8],\"x\":[\"8\"],\"y\":[263.0]}},\"id\":\"697d86da-0916-415e-ac0a-3bf2847797f6\",\"type\":\"ColumnDataSource\"},{\"attributes\":{\"callback\":null,\"column_names\":[\"line_color\",\"line_alpha\",\"color\",\"fill_alpha\",\"height\",\"width\",\"y\",\"x\"],\"data\":{\"chart_index\":[{\"count-repairs-per-property\":12}],\"color\":[\"#f22c40\"],\"count-repairs-per-property\":[12],\"fill_alpha\":[0.8],\"height\":[160.0],\"line_alpha\":[1.0],\"line_color\":[\"white\"],\"width\":[0.8],\"x\":[\"12\"],\"y\":[80.0]}},\"id\":\"78099b12-0533-4c46-a6ec-3227397918ce\",\"type\":\"ColumnDataSource\"},{\"attributes\":{\"fill_alpha\":{\"field\":\"fill_alpha\"},\"fill_color\":{\"field\":\"color\"},\"height\":{\"field\":\"height\",\"units\":\"data\"},\"line_color\":{\"field\":\"line_color\"},\"width\":{\"field\":\"width\",\"units\":\"data\"},\"x\":{\"field\":\"x\"},\"y\":{\"field\":\"y\"}},\"id\":\"c9ab6c1c-dfc8-475e-ab54-6d347c47e365\",\"type\":\"Rect\"},{\"attributes\":{\"callback\":null,\"column_names\":[\"line_color\",\"line_alpha\",\"color\",\"fill_alpha\",\"height\",\"width\",\"y\",\"x\"],\"data\":{\"chart_index\":[{\"count-repairs-per-property\":30}],\"color\":[\"#f22c40\"],\"count-repairs-per-property\":[30],\"fill_alpha\":[0.8],\"height\":[5.0],\"line_alpha\":[1.0],\"line_color\":[\"white\"],\"width\":[0.8],\"x\":[\"30\"],\"y\":[2.5]}},\"id\":\"f8dabc98-3309-437b-a1c8-749c6fc607bd\",\"type\":\"ColumnDataSource\"},{\"attributes\":{\"callback\":null,\"end\":3508.05},\"id\":\"46643248-cee7-4bf7-af77-3b55eaaaff12\",\"type\":\"Range1d\"},{\"attributes\":{\"callback\":null,\"column_names\":[\"line_color\",\"line_alpha\",\"color\",\"fill_alpha\",\"height\",\"width\",\"y\",\"x\"],\"data\":{\"chart_index\":[{\"count-repairs-per-property\":16}],\"color\":[\"#f22c40\"],\"count-repairs-per-property\":[16],\"fill_alpha\":[0.8],\"height\":[57.0],\"line_alpha\":[1.0],\"line_color\":[\"white\"],\"width\":[0.8],\"x\":[\"16\"],\"y\":[28.5]}},\"id\":\"f38e12c6-611e-4625-bbdd-c886dea463a4\",\"type\":\"ColumnDataSource\"},{\"attributes\":{\"fill_alpha\":{\"field\":\"fill_alpha\"},\"fill_color\":{\"field\":\"color\"},\"height\":{\"field\":\"height\",\"units\":\"data\"},\"line_color\":{\"field\":\"line_color\"},\"width\":{\"field\":\"width\",\"units\":\"data\"},\"x\":{\"field\":\"x\"},\"y\":{\"field\":\"y\"}},\"id\":\"db15d70e-97ca-4d8c-b8c7-b93d1a613772\",\"type\":\"Rect\"},{\"attributes\":{\"data_source\":{\"id\":\"b2281199-0cd8-41c1-a396-0f96456b5687\",\"type\":\"ColumnDataSource\"},\"glyph\":{\"id\":\"9f1a07fe-a585-4b66-9080-8e5df9f0b6f4\",\"type\":\"Rect\"},\"hover_glyph\":null,\"nonselection_glyph\":null,\"selection_glyph\":null},\"id\":\"b2900599-f09d-4875-b8a7-a375cd0cb1c5\",\"type\":\"GlyphRenderer\"},{\"attributes\":{\"fill_alpha\":{\"field\":\"fill_alpha\"},\"fill_color\":{\"field\":\"color\"},\"height\":{\"field\":\"height\",\"units\":\"data\"},\"line_color\":{\"field\":\"line_color\"},\"width\":{\"field\":\"width\",\"units\":\"data\"},\"x\":{\"field\":\"x\"},\"y\":{\"field\":\"y\"}},\"id\":\"be23004f-ce6f-4d88-936d-60b24ac23034\",\"type\":\"Rect\"},{\"attributes\":{\"fill_alpha\":{\"field\":\"fill_alpha\"},\"fill_color\":{\"field\":\"color\"},\"height\":{\"field\":\"height\",\"units\":\"data\"},\"line_color\":{\"field\":\"line_color\"},\"width\":{\"field\":\"width\",\"units\":\"data\"},\"x\":{\"field\":\"x\"},\"y\":{\"field\":\"y\"}},\"id\":\"e7353b87-9440-4289-bf51-904fa8b56ee1\",\"type\":\"Rect\"},{\"attributes\":{\"callback\":null,\"column_names\":[\"line_color\",\"line_alpha\",\"color\",\"fill_alpha\",\"height\",\"width\",\"y\",\"x\"],\"data\":{\"chart_index\":[{\"count-repairs-per-property\":5}],\"color\":[\"#f22c40\"],\"count-repairs-per-property\":[5],\"fill_alpha\":[0.8],\"height\":[1282.0],\"line_alpha\":[1.0],\"line_color\":[\"white\"],\"width\":[0.8],\"x\":[\"5\"],\"y\":[641.0]}},\"id\":\"7d0aa7aa-fd42-4cb8-871a-52ab8c43d3ae\",\"type\":\"ColumnDataSource\"},{\"attributes\":{\"callback\":null,\"column_names\":[\"line_color\",\"line_alpha\",\"color\",\"fill_alpha\",\"height\",\"width\",\"y\",\"x\"],\"data\":{\"chart_index\":[{\"count-repairs-per-property\":38}],\"color\":[\"#f22c40\"],\"count-repairs-per-property\":[38],\"fill_alpha\":[0.8],\"height\":[2.0],\"line_alpha\":[1.0],\"line_color\":[\"white\"],\"width\":[0.8],\"x\":[\"38\"],\"y\":[1.0]}},\"id\":\"9a4bcc02-88cc-492b-868b-bb630b795e57\",\"type\":\"ColumnDataSource\"},{\"attributes\":{\"plot\":{\"id\":\"910f769f-d574-4949-b408-3baabc7e5605\",\"subtype\":\"Chart\",\"type\":\"Plot\"}},\"id\":\"1e4b9fc1-d546-4568-8c11-1f674a0f1aad\",\"type\":\"ResizeTool\"},{\"attributes\":{\"fill_alpha\":{\"field\":\"fill_alpha\"},\"fill_color\":{\"field\":\"color\"},\"height\":{\"field\":\"height\",\"units\":\"data\"},\"line_color\":{\"field\":\"line_color\"},\"width\":{\"field\":\"width\",\"units\":\"data\"},\"x\":{\"field\":\"x\"},\"y\":{\"field\":\"y\"}},\"id\":\"67921715-ef93-45f7-99dd-83e9d6634e98\",\"type\":\"Rect\"},{\"attributes\":{\"data_source\":{\"id\":\"242b66fa-eecb-40de-8294-56487f2dc832\",\"type\":\"ColumnDataSource\"},\"glyph\":{\"id\":\"cc428084-be07-4400-9f80-441a74e9eda0\",\"type\":\"Rect\"},\"hover_glyph\":null,\"nonselection_glyph\":null,\"selection_glyph\":null},\"id\":\"0920b36c-444d-4c92-ba6a-cbfaa90dc414\",\"type\":\"GlyphRenderer\"},{\"attributes\":{\"callback\":null,\"column_names\":[\"line_color\",\"line_alpha\",\"color\",\"fill_alpha\",\"height\",\"width\",\"y\",\"x\"],\"data\":{\"chart_index\":[{\"count-repairs-per-property\":33}],\"color\":[\"#f22c40\"],\"count-repairs-per-property\":[33],\"fill_alpha\":[0.8],\"height\":[1.0],\"line_alpha\":[1.0],\"line_color\":[\"white\"],\"width\":[0.8],\"x\":[\"33\"],\"y\":[0.5]}},\"id\":\"5c436654-ca8b-44e7-b258-a48b14358151\",\"type\":\"ColumnDataSource\"},{\"attributes\":{},\"id\":\"6efebe10-b03c-4bcf-8087-00433cab3ceb\",\"type\":\"BasicTickFormatter\"},{\"attributes\":{\"callback\":null,\"column_names\":[\"line_color\",\"line_alpha\",\"color\",\"fill_alpha\",\"height\",\"width\",\"y\",\"x\"],\"data\":{\"chart_index\":[{\"count-repairs-per-property\":18}],\"color\":[\"#f22c40\"],\"count-repairs-per-property\":[18],\"fill_alpha\":[0.8],\"height\":[26.0],\"line_alpha\":[1.0],\"line_color\":[\"white\"],\"width\":[0.8],\"x\":[\"18\"],\"y\":[13.0]}},\"id\":\"4680ec73-35d7-421d-8499-d72c2c88a024\",\"type\":\"ColumnDataSource\"},{\"attributes\":{\"callback\":null,\"factors\":[\"1\",\"2\",\"3\",\"4\",\"5\",\"6\",\"7\",\"8\",\"9\",\"10\",\"11\",\"12\",\"13\",\"14\",\"15\",\"16\",\"17\",\"18\",\"19\",\"20\",\"21\",\"22\",\"23\",\"24\",\"25\",\"26\",\"27\",\"28\",\"29\",\"30\",\"31\",\"32\",\"33\",\"35\",\"36\",\"37\",\"38\",\"42\",\"45\",\"58\",\"61\",\"63\",\"66\"]},\"id\":\"94c9a1b0-8e1f-44e7-af29-0a8d8c0e14dc\",\"type\":\"FactorRange\"},{\"attributes\":{\"below\":[{\"id\":\"eb8db493-88ab-40d2-b683-ae8b6a9dedf7\",\"type\":\"CategoricalAxis\"}],\"left\":[{\"id\":\"888a3646-d43a-4822-b97f-ec1fce6f2915\",\"type\":\"LinearAxis\"}],\"legend\":null,\"plot_width\":900,\"renderers\":[{\"id\":\"4020fa92-2d84-433f-bf4b-58a6d8def6fe\",\"type\":\"BoxAnnotation\"},{\"id\":\"16197e8f-0c13-468b-9653-534a604f2483\",\"type\":\"GlyphRenderer\"},{\"id\":\"2ec822a7-b333-4298-9b9a-0b7d5452326e\",\"type\":\"GlyphRenderer\"},{\"id\":\"c2646044-028b-445a-ac10-f129970f3c7e\",\"type\":\"GlyphRenderer\"},{\"id\":\"83ef0249-a882-4eb2-8767-1b691cdc8f70\",\"type\":\"GlyphRenderer\"},{\"id\":\"0a524556-8384-42ee-92a1-88b1476a11f9\",\"type\":\"GlyphRenderer\"},{\"id\":\"8e8bc9b1-4cf7-4015-831b-17a73eeebbd9\",\"type\":\"GlyphRenderer\"},{\"id\":\"b2b961e9-3da7-43b2-b31f-552492459360\",\"type\":\"GlyphRenderer\"},{\"id\":\"aff4ef1a-e826-4b63-9ab2-52719c267674\",\"type\":\"GlyphRenderer\"},{\"id\":\"25271a47-95e5-49df-ad85-7f8824acec94\",\"type\":\"GlyphRenderer\"},{\"id\":\"3d8d6eac-3fab-4b14-b9e5-4a1396b60f9f\",\"type\":\"GlyphRenderer\"},{\"id\":\"91fde158-e05a-4580-951d-4a705aa22e46\",\"type\":\"GlyphRenderer\"},{\"id\":\"fdb131e2-7e4e-444c-82fd-830203e5f86c\",\"type\":\"GlyphRenderer\"},{\"id\":\"dc244aef-f615-4151-9a69-429c1e302360\",\"type\":\"GlyphRenderer\"},{\"id\":\"4177e264-09df-477a-8e7f-b29f61c0f359\",\"type\":\"GlyphRenderer\"},{\"id\":\"23407794-36ab-4354-a85a-3081d6ae073b\",\"type\":\"GlyphRenderer\"},{\"id\":\"fdeda863-1d5f-4877-988d-22257968503c\",\"type\":\"GlyphRenderer\"},{\"id\":\"de6b79ae-2028-4af5-87b9-ce9ff8455f61\",\"type\":\"GlyphRenderer\"},{\"id\":\"c652badf-593a-49c5-91dc-9b1a028c491a\",\"type\":\"GlyphRenderer\"},{\"id\":\"232c5d57-0b28-42f8-baa7-7c6f76e829e0\",\"type\":\"GlyphRenderer\"},{\"id\":\"ab3d081d-dfa6-469a-b09f-da74d94330aa\",\"type\":\"GlyphRenderer\"},{\"id\":\"afdf2f68-53d4-4103-8a3b-5ced429e3ff1\",\"type\":\"GlyphRenderer\"},{\"id\":\"9286573d-26f0-4ddc-b016-1e02389262ff\",\"type\":\"GlyphRenderer\"},{\"id\":\"f8db3941-9132-45c6-973c-9a811c1877b6\",\"type\":\"GlyphRenderer\"},{\"id\":\"8e019dbe-782f-4a95-9b62-d7b0f0576d26\",\"type\":\"GlyphRenderer\"},{\"id\":\"36982129-eff5-45d0-8968-152f267ea5bb\",\"type\":\"GlyphRenderer\"},{\"id\":\"8e752a92-37da-4ee6-90a7-3d256f7554fa\",\"type\":\"GlyphRenderer\"},{\"id\":\"27614a17-75ed-4128-a415-2648c82921ca\",\"type\":\"GlyphRenderer\"},{\"id\":\"7e49db16-9731-4723-b503-aba4f69f53a3\",\"type\":\"GlyphRenderer\"},{\"id\":\"f4eef017-4b90-489a-92fd-ce7143a25347\",\"type\":\"GlyphRenderer\"},{\"id\":\"038b96da-1a61-49e9-8d73-307fc0d823ff\",\"type\":\"GlyphRenderer\"},{\"id\":\"b2900599-f09d-4875-b8a7-a375cd0cb1c5\",\"type\":\"GlyphRenderer\"},{\"id\":\"6f48daf7-b5cc-408e-a78a-7b65a2133cab\",\"type\":\"GlyphRenderer\"},{\"id\":\"e71e66a3-6ecc-41e2-b563-df8c1a4678d2\",\"type\":\"GlyphRenderer\"},{\"id\":\"95e62ae7-8b60-4276-9dce-eac070e46674\",\"type\":\"GlyphRenderer\"},{\"id\":\"6e551d49-d853-4e65-9880-9fd967c6b856\",\"type\":\"GlyphRenderer\"},{\"id\":\"2b9fb69c-1ac9-44fa-9f9d-4f032a2e5203\",\"type\":\"GlyphRenderer\"},{\"id\":\"7fab6435-abfc-47f3-be9d-41d514767673\",\"type\":\"GlyphRenderer\"},{\"id\":\"c7e787f2-59a5-4c9c-a125-32cd8dbf414a\",\"type\":\"GlyphRenderer\"},{\"id\":\"ca90f712-2e27-45d0-852b-06de8ad33457\",\"type\":\"GlyphRenderer\"},{\"id\":\"2a3deab2-0670-4266-93b8-1428c1c14147\",\"type\":\"GlyphRenderer\"},{\"id\":\"892b660b-7cd0-49f3-b201-017d29a7985d\",\"type\":\"GlyphRenderer\"},{\"id\":\"0920b36c-444d-4c92-ba6a-cbfaa90dc414\",\"type\":\"GlyphRenderer\"},{\"id\":\"f39fdec9-08a7-4004-8fa5-5356baa16e0b\",\"type\":\"GlyphRenderer\"},{\"id\":\"eb8db493-88ab-40d2-b683-ae8b6a9dedf7\",\"type\":\"CategoricalAxis\"},{\"id\":\"888a3646-d43a-4822-b97f-ec1fce6f2915\",\"type\":\"LinearAxis\"},{\"id\":\"a6b3d961-6a55-49ae-8da2-59ec7a0241f9\",\"type\":\"Grid\"}],\"title\":\"Occurences of repairs by property\",\"title_text_font_size\":{\"value\":\"14pt\"},\"tool_events\":{\"id\":\"3cab954b-55c6-4c69-83ce-a8b7de6187dc\",\"type\":\"ToolEvents\"},\"tools\":[{\"id\":\"3c55183f-6ecd-4144-af74-ceb9598e2235\",\"type\":\"PanTool\"},{\"id\":\"b5f919e0-473d-4bd7-a303-66aa0b3db556\",\"type\":\"WheelZoomTool\"},{\"id\":\"49582b72-4415-4407-a75a-0440a3009ec8\",\"type\":\"BoxZoomTool\"},{\"id\":\"e2194797-844c-4fb2-bbce-d8b2179f7786\",\"type\":\"PreviewSaveTool\"},{\"id\":\"1e4b9fc1-d546-4568-8c11-1f674a0f1aad\",\"type\":\"ResizeTool\"},{\"id\":\"8266019a-67ae-49cb-bcfd-34bbdf49d213\",\"type\":\"ResetTool\"},{\"id\":\"1782e5f0-d759-4804-903f-5bc1ce01f185\",\"type\":\"HelpTool\"}],\"x_mapper_type\":\"auto\",\"x_range\":{\"id\":\"94c9a1b0-8e1f-44e7-af29-0a8d8c0e14dc\",\"type\":\"FactorRange\"},\"xgrid\":false,\"xscale\":\"auto\",\"y_mapper_type\":\"auto\",\"y_range\":{\"id\":\"46643248-cee7-4bf7-af77-3b55eaaaff12\",\"type\":\"Range1d\"},\"yscale\":\"auto\"},\"id\":\"910f769f-d574-4949-b408-3baabc7e5605\",\"subtype\":\"Chart\",\"type\":\"Plot\"},{\"attributes\":{\"data_source\":{\"id\":\"f8dabc98-3309-437b-a1c8-749c6fc607bd\",\"type\":\"ColumnDataSource\"},\"glyph\":{\"id\":\"51841c43-3215-4885-8164-d41598007ec3\",\"type\":\"Rect\"},\"hover_glyph\":null,\"nonselection_glyph\":null,\"selection_glyph\":null},\"id\":\"038b96da-1a61-49e9-8d73-307fc0d823ff\",\"type\":\"GlyphRenderer\"},{\"attributes\":{\"callback\":null,\"column_names\":[\"line_color\",\"line_alpha\",\"color\",\"fill_alpha\",\"height\",\"width\",\"y\",\"x\"],\"data\":{\"chart_index\":[{\"count-repairs-per-property\":45}],\"color\":[\"#f22c40\"],\"count-repairs-per-property\":[45],\"fill_alpha\":[0.8],\"height\":[1.0],\"line_alpha\":[1.0],\"line_color\":[\"white\"],\"width\":[0.8],\"x\":[\"45\"],\"y\":[0.5]}},\"id\":\"f936eb1a-fbdb-4fb5-916e-731cf15231ab\",\"type\":\"ColumnDataSource\"},{\"attributes\":{},\"id\":\"8a474c2e-075a-41ce-9d94-019b1e152514\",\"type\":\"BasicTicker\"},{\"attributes\":{\"callback\":null,\"column_names\":[\"line_color\",\"line_alpha\",\"color\",\"fill_alpha\",\"height\",\"width\",\"y\",\"x\"],\"data\":{\"chart_index\":[{\"count-repairs-per-property\":15}],\"color\":[\"#f22c40\"],\"count-repairs-per-property\":[15],\"fill_alpha\":[0.8],\"height\":[70.0],\"line_alpha\":[1.0],\"line_color\":[\"white\"],\"width\":[0.8],\"x\":[\"15\"],\"y\":[35.0]}},\"id\":\"dc96c67f-bdfa-442f-96bf-143c68145b38\",\"type\":\"ColumnDataSource\"},{\"attributes\":{\"dimension\":1,\"plot\":{\"id\":\"910f769f-d574-4949-b408-3baabc7e5605\",\"subtype\":\"Chart\",\"type\":\"Plot\"},\"ticker\":{\"id\":\"8a474c2e-075a-41ce-9d94-019b1e152514\",\"type\":\"BasicTicker\"}},\"id\":\"a6b3d961-6a55-49ae-8da2-59ec7a0241f9\",\"type\":\"Grid\"},{\"attributes\":{\"fill_alpha\":{\"field\":\"fill_alpha\"},\"fill_color\":{\"field\":\"color\"},\"height\":{\"field\":\"height\",\"units\":\"data\"},\"line_color\":{\"field\":\"line_color\"},\"width\":{\"field\":\"width\",\"units\":\"data\"},\"x\":{\"field\":\"x\"},\"y\":{\"field\":\"y\"}},\"id\":\"3a645ea0-cb41-4530-a49f-6cdd3ff7921d\",\"type\":\"Rect\"},{\"attributes\":{\"data_source\":{\"id\":\"fc88abe1-df3a-405b-be33-19c609cac874\",\"type\":\"ColumnDataSource\"},\"glyph\":{\"id\":\"94c9d0e4-62bc-403e-87a8-f66670918762\",\"type\":\"Rect\"},\"hover_glyph\":null,\"nonselection_glyph\":null,\"selection_glyph\":null},\"id\":\"8e019dbe-782f-4a95-9b62-d7b0f0576d26\",\"type\":\"GlyphRenderer\"},{\"attributes\":{\"data_source\":{\"id\":\"0487e0a2-cadb-4f97-9f54-80339bc9df39\",\"type\":\"ColumnDataSource\"},\"glyph\":{\"id\":\"be23004f-ce6f-4d88-936d-60b24ac23034\",\"type\":\"Rect\"},\"hover_glyph\":null,\"nonselection_glyph\":null,\"selection_glyph\":null},\"id\":\"9286573d-26f0-4ddc-b016-1e02389262ff\",\"type\":\"GlyphRenderer\"},{\"attributes\":{\"data_source\":{\"id\":\"732620ed-7c59-418e-bd87-9503521fc769\",\"type\":\"ColumnDataSource\"},\"glyph\":{\"id\":\"54b1319b-3730-438c-b629-97aa6db10e73\",\"type\":\"Rect\"},\"hover_glyph\":null,\"nonselection_glyph\":null,\"selection_glyph\":null},\"id\":\"27614a17-75ed-4128-a415-2648c82921ca\",\"type\":\"GlyphRenderer\"},{\"attributes\":{\"data_source\":{\"id\":\"5c40217b-b1e7-433f-874d-1fbe90afbb18\",\"type\":\"ColumnDataSource\"},\"glyph\":{\"id\":\"059639ee-7824-4b38-bff1-6c7a9277d9d5\",\"type\":\"Rect\"},\"hover_glyph\":null,\"nonselection_glyph\":null,\"selection_glyph\":null},\"id\":\"95e62ae7-8b60-4276-9dce-eac070e46674\",\"type\":\"GlyphRenderer\"},{\"attributes\":{\"data_source\":{\"id\":\"dc31cb58-155d-4dd3-acf2-bf0bc7a29959\",\"type\":\"ColumnDataSource\"},\"glyph\":{\"id\":\"33bb58e4-99eb-447b-863e-3117a5102b36\",\"type\":\"Rect\"},\"hover_glyph\":null,\"nonselection_glyph\":null,\"selection_glyph\":null},\"id\":\"8e752a92-37da-4ee6-90a7-3d256f7554fa\",\"type\":\"GlyphRenderer\"},{\"attributes\":{\"fill_alpha\":{\"field\":\"fill_alpha\"},\"fill_color\":{\"field\":\"color\"},\"height\":{\"field\":\"height\",\"units\":\"data\"},\"line_color\":{\"field\":\"line_color\"},\"width\":{\"field\":\"width\",\"units\":\"data\"},\"x\":{\"field\":\"x\"},\"y\":{\"field\":\"y\"}},\"id\":\"94c9d0e4-62bc-403e-87a8-f66670918762\",\"type\":\"Rect\"},{\"attributes\":{\"fill_alpha\":{\"field\":\"fill_alpha\"},\"fill_color\":{\"field\":\"color\"},\"height\":{\"field\":\"height\",\"units\":\"data\"},\"line_color\":{\"field\":\"line_color\"},\"width\":{\"field\":\"width\",\"units\":\"data\"},\"x\":{\"field\":\"x\"},\"y\":{\"field\":\"y\"}},\"id\":\"033e705f-16e1-4633-8be3-515b3747fbf3\",\"type\":\"Rect\"},{\"attributes\":{\"fill_alpha\":{\"field\":\"fill_alpha\"},\"fill_color\":{\"field\":\"color\"},\"height\":{\"field\":\"height\",\"units\":\"data\"},\"line_color\":{\"field\":\"line_color\"},\"width\":{\"field\":\"width\",\"units\":\"data\"},\"x\":{\"field\":\"x\"},\"y\":{\"field\":\"y\"}},\"id\":\"0e6bb4d0-610f-4f0e-a766-a22b95cbe31a\",\"type\":\"Rect\"},{\"attributes\":{\"data_source\":{\"id\":\"0878e40f-df5d-4c52-8039-9fc0b7f48de2\",\"type\":\"ColumnDataSource\"},\"glyph\":{\"id\":\"7a7376bc-f4e5-4215-bd43-16293702f060\",\"type\":\"Rect\"},\"hover_glyph\":null,\"nonselection_glyph\":null,\"selection_glyph\":null},\"id\":\"f8db3941-9132-45c6-973c-9a811c1877b6\",\"type\":\"GlyphRenderer\"},{\"attributes\":{\"fill_alpha\":{\"field\":\"fill_alpha\"},\"fill_color\":{\"field\":\"color\"},\"height\":{\"field\":\"height\",\"units\":\"data\"},\"line_color\":{\"field\":\"line_color\"},\"width\":{\"field\":\"width\",\"units\":\"data\"},\"x\":{\"field\":\"x\"},\"y\":{\"field\":\"y\"}},\"id\":\"eb6315c1-3168-4ce0-9121-29d95850a3cb\",\"type\":\"Rect\"},{\"attributes\":{\"fill_alpha\":{\"field\":\"fill_alpha\"},\"fill_color\":{\"field\":\"color\"},\"height\":{\"field\":\"height\",\"units\":\"data\"},\"line_color\":{\"field\":\"line_color\"},\"width\":{\"field\":\"width\",\"units\":\"data\"},\"x\":{\"field\":\"x\"},\"y\":{\"field\":\"y\"}},\"id\":\"e49fa87e-44d9-4800-9dbb-902b757643cd\",\"type\":\"Rect\"},{\"attributes\":{\"fill_alpha\":{\"field\":\"fill_alpha\"},\"fill_color\":{\"field\":\"color\"},\"height\":{\"field\":\"height\",\"units\":\"data\"},\"line_color\":{\"field\":\"line_color\"},\"width\":{\"field\":\"width\",\"units\":\"data\"},\"x\":{\"field\":\"x\"},\"y\":{\"field\":\"y\"}},\"id\":\"059639ee-7824-4b38-bff1-6c7a9277d9d5\",\"type\":\"Rect\"},{\"attributes\":{\"callback\":null,\"column_names\":[\"line_color\",\"line_alpha\",\"color\",\"fill_alpha\",\"height\",\"width\",\"y\",\"x\"],\"data\":{\"chart_index\":[{\"count-repairs-per-property\":36}],\"color\":[\"#f22c40\"],\"count-repairs-per-property\":[36],\"fill_alpha\":[0.8],\"height\":[1.0],\"line_alpha\":[1.0],\"line_color\":[\"white\"],\"width\":[0.8],\"x\":[\"36\"],\"y\":[0.5]}},\"id\":\"05d6a6ea-c9ed-44f6-a90b-ada09f884c55\",\"type\":\"ColumnDataSource\"},{\"attributes\":{\"fill_alpha\":{\"field\":\"fill_alpha\"},\"fill_color\":{\"field\":\"color\"},\"height\":{\"field\":\"height\",\"units\":\"data\"},\"line_color\":{\"field\":\"line_color\"},\"width\":{\"field\":\"width\",\"units\":\"data\"},\"x\":{\"field\":\"x\"},\"y\":{\"field\":\"y\"}},\"id\":\"a3bf9295-d620-4eec-b038-dec4ac8a9447\",\"type\":\"Rect\"},{\"attributes\":{\"fill_alpha\":{\"field\":\"fill_alpha\"},\"fill_color\":{\"field\":\"color\"},\"height\":{\"field\":\"height\",\"units\":\"data\"},\"line_color\":{\"field\":\"line_color\"},\"width\":{\"field\":\"width\",\"units\":\"data\"},\"x\":{\"field\":\"x\"},\"y\":{\"field\":\"y\"}},\"id\":\"d54bac15-7e77-48c7-acab-06d5a09e5e34\",\"type\":\"Rect\"}],\"root_ids\":[\"910f769f-d574-4949-b408-3baabc7e5605\"]},\"title\":\"Bokeh Application\",\"version\":\"0.11.1\"}};\n",
       "            var render_items = [{\"docid\":\"da4dfbe6-bc4b-46b8-8eb1-628f1d49408c\",\"elementid\":\"7392a71c-acf7-4ee3-a51c-6e26e5542d76\",\"modelid\":\"910f769f-d574-4949-b408-3baabc7e5605\",\"notebook_comms_target\":\"4e24864d-e41b-4535-a893-f5291ac370c6\"}];\n",
       "            \n",
       "            Bokeh.embed.embed_items(docs_json, render_items);\n",
       "        });\n",
       "      },\n",
       "      function(Bokeh) {\n",
       "      }\n",
       "    ];\n",
       "  \n",
       "    function run_inline_js() {\n",
       "      for (var i = 0; i < inline_js.length; i++) {\n",
       "        inline_js[i](window.Bokeh);\n",
       "      }\n",
       "    }\n",
       "  \n",
       "    if (window._bokeh_is_loading === 0) {\n",
       "      console.log(\"Bokeh: BokehJS loaded, going straight to plotting\");\n",
       "      run_inline_js();\n",
       "    } else {\n",
       "      load_libs(js_urls, function() {\n",
       "        console.log(\"Bokeh: BokehJS plotting callback run at\", now());\n",
       "        run_inline_js();\n",
       "      });\n",
       "    }\n",
       "  }(this));\n",
       "</script>"
      ]
     },
     "metadata": {},
     "output_type": "display_data"
    },
    {
     "data": {
      "text/html": [
       "<p><code>&lt;Bokeh Notebook handle for <strong>In[6]</strong>&gt;</code></p>"
      ],
      "text/plain": [
       "<bokeh.io._CommsHandle at 0x7f3e4c948650>"
      ]
     },
     "execution_count": 6,
     "metadata": {},
     "output_type": "execute_result"
    }
   ],
   "source": [
    "repairs_occurences_plot = Bar(df_repairs_occurences, label='count-repairs-per-property',\n",
    "                              values='number of properties', \n",
    "                              title='Occurences of repairs by property', plot_width=900)\n",
    "\n",
    "output_notebook()\n",
    "show(repairs_occurences_plot)\n",
    "\n",
    "#output_file(\"data/occurences.html\", title=\"Occurences of repairs by property\")"
   ]
  },
  {
   "cell_type": "markdown",
   "metadata": {
    "collapsed": true
   },
   "source": [
    "### Note for later: add vertical line for mean and quantiles"
   ]
  },
  {
   "cell_type": "code",
   "execution_count": null,
   "metadata": {
    "collapsed": true
   },
   "outputs": [],
   "source": []
  }
 ],
 "metadata": {
  "kernelspec": {
   "display_name": "Python 2",
   "language": "python",
   "name": "python2"
  },
  "language_info": {
   "codemirror_mode": {
    "name": "ipython",
    "version": 2
   },
   "file_extension": ".py",
   "mimetype": "text/x-python",
   "name": "python",
   "nbconvert_exporter": "python",
   "pygments_lexer": "ipython2",
   "version": "2.7.6"
  }
 },
 "nbformat": 4,
 "nbformat_minor": 0
}
